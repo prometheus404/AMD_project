{
  "nbformat": 4,
  "nbformat_minor": 0,
  "metadata": {
    "colab": {
      "provenance": []
    },
    "kernelspec": {
      "name": "python3",
      "display_name": "Python 3"
    },
    "language_info": {
      "name": "python"
    }
  },
  "cells": [
    {
      "cell_type": "code",
      "execution_count": 57,
      "metadata": {
        "id": "LFnT2MWe1IPx"
      },
      "outputs": [],
      "source": [
        "##### DOWNLOAD DATASET #####\n",
        "from IPython.display import clear_output\n",
        "from google.colab import files\n",
        "files.upload()\n",
        "!ls -lha kaggle.json\n",
        "!pip install -q kaggle # installing the kaggle package\n",
        "!mkdir -p ~/.kaggle # creating .kaggle folder where the key should be placed\n",
        "!cp kaggle.json ~/.kaggle/ # move the key to the folder\n",
        "!pwd # checking the present working directory\n",
        "!chmod 600 ~/.kaggle/kaggle.json\n",
        "\n",
        "!kaggle datasets download -d gsimonx37/letterboxd\n",
        "!unzip /content/letterboxd.zip -d /content/letterbox/\n",
        "clear_output()\n",
        "############################"
      ]
    },
    {
      "cell_type": "code",
      "source": [
        "########### SPARK CONTEXT #####################\n",
        "import pandas as pd\n",
        "import itertools\n",
        "\n",
        "!apt-get install openjdk-8-jdk-headless -qq > /dev/null\n",
        "!wget -q http://archive.apache.org/dist/spark/spark-3.1.1/spark-3.1.1-bin-hadoop3.2.tgz\n",
        "!tar xf spark-3.1.1-bin-hadoop3.2.tgz\n",
        "!pip install -q findspark\n",
        "\n",
        "import os\n",
        "os.environ[\"JAVA_HOME\"] = \"/usr/lib/jvm/java-8-openjdk-amd64\"\n",
        "os.environ[\"SPARK_HOME\"] = \"/content/spark-3.1.1-bin-hadoop3.2\"\n",
        "\n",
        "import findspark\n",
        "findspark.init()\n",
        "from pyspark.sql import SparkSession\n",
        "spark = SparkSession.builder.master(\"local[*]\").getOrCreate()\n",
        "spark.conf.set(\"spark.sql.repl.eagerEval.enabled\", True) # Property used to format output tables better\n",
        "\n",
        "sc = spark.sparkContext\n",
        "###############################################"
      ],
      "metadata": {
        "id": "FPDSHZ_ydWnr"
      },
      "execution_count": 58,
      "outputs": []
    },
    {
      "cell_type": "code",
      "source": [
        "############## BASKET CREATION ################\n",
        "#TODO do it using SPARK directly -> cars = spark.read.csv('cars.csv', header=True, sep=\";\")\n",
        "actors = pd.read_csv(\"letterbox/actors.csv\")\n",
        "baskets = actors.groupby(\"id\")[\"name\"].apply(list)\n",
        "\n",
        "print(\"number of baskets: \" + str(len(baskets)))\n",
        "print(\"biggest basket: \" + str(baskets.map(len).max()))\n",
        "print(baskets)\n",
        "baskets_RDD = sc.parallelize(baskets).cache()\n",
        "##############################################"
      ],
      "metadata": {
        "id": "7S860HiwhKp1",
        "colab": {
          "base_uri": "https://localhost:8080/"
        },
        "outputId": "5c3e79d2-5e43-4b5a-8a14-de6a412df925"
      },
      "execution_count": 59,
      "outputs": [
        {
          "output_type": "stream",
          "name": "stdout",
          "text": [
            "number of baskets: 603163\n",
            "biggest basket: 451\n",
            "id\n",
            "1000001    [Margot Robbie, Lewis Easter, Onyemachi Ejimof...\n",
            "1000002    [Rosie Peralta, Anna Elisabeth Rihlmann, Andre...\n",
            "1000003    [Randall Archer, Boon Pin Koh, Efka Kvaracieju...\n",
            "1000004    [Leonard Termo, Greg Bronson, Michael Arturo, ...\n",
            "1000005    [Lena Georgas, Jeff Hephner, Elyes Gabel, Broo...\n",
            "                                 ...                        \n",
            "1896377    [Marat Basharov, Sergey Rost, Gleb Kalyuzhny, ...\n",
            "1896382                                   [Marine Petrosyan]\n",
            "1896387                                        [Rebecca Jim]\n",
            "1896391                                       [Ko Shibasaki]\n",
            "1896393                                    [Atsuhiro Inukai]\n",
            "Name: name, Length: 603163, dtype: object\n"
          ]
        }
      ]
    },
    {
      "cell_type": "code",
      "source": [
        "baskets_RDD.getNumPartitions()"
      ],
      "metadata": {
        "colab": {
          "base_uri": "https://localhost:8080/"
        },
        "id": "a7yTSr78dKw2",
        "outputId": "bbad82cd-9d25-464c-8cbf-31f74ac2cb61"
      },
      "execution_count": 65,
      "outputs": [
        {
          "output_type": "execute_result",
          "data": {
            "text/plain": [
              "2"
            ]
          },
          "metadata": {},
          "execution_count": 65
        }
      ]
    },
    {
      "cell_type": "code",
      "source": [
        "## APRIORI\n",
        "def apriori(chunk, s, tot_bsk):\n",
        "\n",
        "  n_bsk = 0 # number of baskets in chunk used to calculate support\n",
        "#  trsl = dict() # using a translation could be better for the combination step\n",
        "  count = dict() # should be relatively efficient since is a hash table\n",
        "\n",
        "#\n",
        "#  def translate(e, dic):\n",
        "#    try:\n",
        "#      return dic[e]\n",
        "#    except KeyError:\n",
        "#      dic[e] = len(dic)+1\n",
        "#      return dic[e]\n",
        "  def incr(e,dic):\n",
        "    try:\n",
        "      dic[e] += 1;\n",
        "    except KeyError:\n",
        "      dic[e] = 1\n",
        "\n",
        "\n",
        "  ### first pass\n",
        "  for bsk in chunk:\n",
        "    n_bsk += 1;\n",
        "    #elements = [translate(x,trsl) for x in bsk]\n",
        "    for b in bsk:\n",
        "      incr(b,count)\n",
        "\n",
        "  ### filter\n",
        "  to_del = []\n",
        "  for c in count:\n",
        "    if count[c] < n_bsk * s/tot_bsk:\n",
        "      to_del.append(c)\n",
        "  for t in to_del:\n",
        "    del count[t]\n",
        "\n",
        "  frequent = list(count.keys())\n",
        "  frequent.sort()\n",
        "\n",
        "  count_2 = dict()\n",
        "  ### second pass\n",
        "  for bsk in chunk:\n",
        "    for pair in itertools.combinations(frequent, 2): #this already solve the order problem\n",
        "      if pair.first in bsk and pair.second in bsk:\n",
        "        incr(str(pair), count_2)\n",
        "\n",
        "  to_del = []\n",
        "  for c in count_2:\n",
        "    if count_2[c] < n_bsk * s/tot_bsk:\n",
        "      to_del.append(c)\n",
        "    for t in to_del:\n",
        "      del count_2[t]\n",
        "\n",
        "  ### out\n",
        "  for c in count_2:\n",
        "    yield (c,1)"
      ],
      "metadata": {
        "id": "RieQuIkAo7c_"
      },
      "execution_count": 140,
      "outputs": []
    },
    {
      "cell_type": "code",
      "source": [
        "\n",
        "def first_red(key,value):\n",
        "  yield key\n",
        "def second_map(candidate, chunk):\n",
        "  yield (1,1)\n",
        "def second_red(key,value):\n",
        "  yield key\n",
        "\n",
        "chunk = 1; #TMP to remove\n",
        "s = 6; #support threshold\n",
        "tot = len(baskets)\n",
        "\n",
        "baskets_RDD.mapPartitions(lambda x: apriori(x,s,tot)).reduceByKey(lambda a,b: a).collect()\n"
      ],
      "metadata": {
        "colab": {
          "base_uri": "https://localhost:8080/"
        },
        "id": "NMhukWkCZLND",
        "outputId": "73eb3b12-0947-42dd-f427-a4f247531ba2"
      },
      "execution_count": 141,
      "outputs": [
        {
          "output_type": "execute_result",
          "data": {
            "text/plain": [
              "[]"
            ]
          },
          "metadata": {},
          "execution_count": 141
        }
      ]
    },
    {
      "cell_type": "code",
      "source": [
        "print(min(actors[\"id\"]))\n",
        "print(max(actors[\"id\"]))\n",
        "print(len(actors))\n",
        "len(set(actors[\"name\"]))"
      ],
      "metadata": {
        "colab": {
          "base_uri": "https://localhost:8080/"
        },
        "id": "VSa3ABzYCu9G",
        "outputId": "36ab6a44-082f-45bd-c4fc-594986005f6d"
      },
      "execution_count": 97,
      "outputs": [
        {
          "output_type": "stream",
          "name": "stdout",
          "text": [
            "1000001\n",
            "1896393\n",
            "5523327\n"
          ]
        },
        {
          "output_type": "execute_result",
          "data": {
            "text/plain": [
              "1513888"
            ]
          },
          "metadata": {},
          "execution_count": 97
        }
      ]
    },
    {
      "cell_type": "code",
      "source": [
        "print(len(baskets))"
      ],
      "metadata": {
        "id": "uv7xhaMHOIt7",
        "outputId": "3e3bf50d-90bc-4085-f7d2-d914741c67bc",
        "colab": {
          "base_uri": "https://localhost:8080/"
        }
      },
      "execution_count": 98,
      "outputs": [
        {
          "output_type": "stream",
          "name": "stdout",
          "text": [
            "603163\n"
          ]
        }
      ]
    },
    {
      "cell_type": "code",
      "source": [
        "len(actors[actors['name'] == 'Bess Flowers'])"
      ],
      "metadata": {
        "id": "Z_R9sEJ8YM1B",
        "outputId": "6dc7a067-7e04-44c3-db83-fb294ba7bf0b",
        "colab": {
          "base_uri": "https://localhost:8080/"
        }
      },
      "execution_count": 115,
      "outputs": [
        {
          "output_type": "execute_result",
          "data": {
            "text/plain": [
              "688"
            ]
          },
          "metadata": {},
          "execution_count": 115
        }
      ]
    },
    {
      "cell_type": "code",
      "source": [
        "#x = [1,2,3,4,5,6,9]\n",
        "x = [\"abaco\",\"banana\", \"zorro\",\"abba\",\"abecedario\"]\n",
        "for i in itertools.combinations(x,2):\n",
        "  print(i)"
      ],
      "metadata": {
        "id": "BdnwpcS5agyH",
        "outputId": "02f07aac-2eea-4be4-9433-3b236ea3e2a5",
        "colab": {
          "base_uri": "https://localhost:8080/"
        }
      },
      "execution_count": 129,
      "outputs": [
        {
          "output_type": "stream",
          "name": "stdout",
          "text": [
            "('abaco', 'banana')\n",
            "('abaco', 'zorro')\n",
            "('abaco', 'abba')\n",
            "('abaco', 'abecedario')\n",
            "('banana', 'zorro')\n",
            "('banana', 'abba')\n",
            "('banana', 'abecedario')\n",
            "('zorro', 'abba')\n",
            "('zorro', 'abecedario')\n",
            "('abba', 'abecedario')\n"
          ]
        }
      ]
    },
    {
      "cell_type": "code",
      "source": [
        "prova = {\n",
        "    'a': 1,\n",
        "    'c': 2,\n",
        "    'b': 3\n",
        "}\n",
        "k = list(prova.keys())\n",
        "k.sort()\n",
        "k"
      ],
      "metadata": {
        "id": "YyD4X94nbyBi",
        "outputId": "e6767005-9f39-4d25-fde9-03a199192464",
        "colab": {
          "base_uri": "https://localhost:8080/"
        }
      },
      "execution_count": 136,
      "outputs": [
        {
          "output_type": "execute_result",
          "data": {
            "text/plain": [
              "['a', 'b', 'c']"
            ]
          },
          "metadata": {},
          "execution_count": 136
        }
      ]
    },
    {
      "cell_type": "code",
      "source": [],
      "metadata": {
        "id": "g6QlCmp0ficQ"
      },
      "execution_count": null,
      "outputs": []
    }
  ]
}