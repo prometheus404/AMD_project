{
  "nbformat": 4,
  "nbformat_minor": 0,
  "metadata": {
    "colab": {
      "provenance": [],
      "include_colab_link": true
    },
    "kernelspec": {
      "name": "python3",
      "display_name": "Python 3"
    },
    "language_info": {
      "name": "python"
    }
  },
  "cells": [
    {
      "cell_type": "markdown",
      "metadata": {
        "id": "view-in-github",
        "colab_type": "text"
      },
      "source": [
        "<a href=\"https://colab.research.google.com/github/prometheus404/AMD_project/blob/main/main.ipynb\" target=\"_parent\"><img src=\"https://colab.research.google.com/assets/colab-badge.svg\" alt=\"Open In Colab\"/></a>"
      ]
    },
    {
      "cell_type": "code",
      "execution_count": 2,
      "metadata": {
        "id": "LFnT2MWe1IPx"
      },
      "outputs": [],
      "source": [
        "##### DOWNLOAD DATASET #####\n",
        "from IPython.display import clear_output\n",
        "from google.colab import files\n",
        "files.upload()\n",
        "!ls -lha kaggle.json\n",
        "!pip install -q kaggle # installing the kaggle package\n",
        "!mkdir -p ~/.kaggle # creating .kaggle folder where the key should be placed\n",
        "!cp kaggle.json ~/.kaggle/ # move the key to the folder\n",
        "!pwd # checking the present working directory\n",
        "!chmod 600 ~/.kaggle/kaggle.json\n",
        "\n",
        "!kaggle datasets download -d gsimonx37/letterboxd\n",
        "!unzip /content/letterboxd.zip -d /content/letterbox/\n",
        "clear_output()\n",
        "############################"
      ]
    },
    {
      "cell_type": "code",
      "source": [
        "########### SPARK CONTEXT #####################\n",
        "import pandas as pd\n",
        "import itertools\n",
        "from tqdm import tqdm\n",
        "\n",
        "!apt-get install openjdk-8-jdk-headless -qq > /dev/null\n",
        "!wget -q http://archive.apache.org/dist/spark/spark-3.1.1/spark-3.1.1-bin-hadoop3.2.tgz\n",
        "!tar xf spark-3.1.1-bin-hadoop3.2.tgz\n",
        "!pip install -q findspark\n",
        "\n",
        "import os\n",
        "os.environ[\"JAVA_HOME\"] = \"/usr/lib/jvm/java-8-openjdk-amd64\"\n",
        "os.environ[\"SPARK_HOME\"] = \"/content/spark-3.1.1-bin-hadoop3.2\"\n",
        "\n",
        "import findspark\n",
        "findspark.init()\n",
        "from pyspark.sql import SparkSession\n",
        "spark = SparkSession.builder.master(\"local[*]\").getOrCreate()\n",
        "spark.conf.set(\"spark.sql.repl.eagerEval.enabled\", True) # Property used to format output tables better\n",
        "\n",
        "sc = spark.sparkContext\n",
        "###############################################"
      ],
      "metadata": {
        "id": "FPDSHZ_ydWnr"
      },
      "execution_count": 3,
      "outputs": []
    },
    {
      "cell_type": "code",
      "source": [
        "############## BASKET CREATION ################\n",
        "#TODO do it using SPARK directly -> cars = spark.read.csv('cars.csv', header=True, sep=\";\")\n",
        "actors = pd.read_csv(\"letterbox/actors.csv\")\n",
        "actors = actors\n",
        "baskets = actors.groupby(\"id\")[\"name\"].apply(list)\n",
        "baskets = baskets.sample(30000)\n",
        "\n",
        "print(\"number of baskets: \" + str(len(baskets)))\n",
        "print(\"biggest basket: \" + str(baskets.map(len).max()))\n",
        "print(baskets)\n",
        "baskets_RDD = sc.parallelize(baskets).cache()\n",
        "##############################################"
      ],
      "metadata": {
        "id": "7S860HiwhKp1",
        "colab": {
          "base_uri": "https://localhost:8080/"
        },
        "outputId": "482c3642-9f0d-463b-814f-18812f361725"
      },
      "execution_count": 4,
      "outputs": [
        {
          "output_type": "stream",
          "name": "stdout",
          "text": [
            "number of baskets: 30000\n",
            "biggest basket: 348\n",
            "id\n",
            "1123605    [Jacques Mercier, Jeremy Paris, Jean-Marie Jua...\n",
            "1107285    [Reiko Yasuhara, Hōsei Komatsu, Hidemi Maruyam...\n",
            "1526765       [Paulo Cruz, Mónica Monteiro, Amílcar Bonança]\n",
            "1742527    [Michael Barrow Smith, Monica West, Claire Wel...\n",
            "1062107    [Erik Frey, Otto Wögerer, Franz Messner, Ernst...\n",
            "                                 ...                        \n",
            "1423604                      [Joshua Womble, Marija Velkova]\n",
            "1317548    [Marcela Franco, Jacqueline Lustig, Cristian B...\n",
            "1265976                                     [Bettany Hughes]\n",
            "1081469                        [Tijn Winters, Jetske Lieber]\n",
            "1343689    [Georg Schmieter, Mia Pankau, Harry Liedtke, A...\n",
            "Name: name, Length: 30000, dtype: object\n"
          ]
        }
      ]
    },
    {
      "cell_type": "code",
      "source": [
        "test_basket = [\n",
        "    ['a','b','c','d','e','f','g','h','i','l'],\n",
        "    ['n','o'],\n",
        "    ['o','n'],\n",
        "    ['a','b','c','d','e','f',],\n",
        "    ['a','b','c'],\n",
        "    ['f','q'],\n",
        "    ['f','q','z'],\n",
        "    ['f','u','q'],\n",
        "    ['n','o','i'],\n",
        "    ['a','b','c','d','e','f','q','p','o','n'],\n",
        "    ['a','b','c','d','e','f','r','s','t','u'],\n",
        "]\n",
        "test_RDD = sc.parallelize(test_basket).cache()"
      ],
      "metadata": {
        "id": "YnHnwobrBe0d"
      },
      "execution_count": 5,
      "outputs": []
    },
    {
      "cell_type": "code",
      "source": [
        "## APRIORI\n",
        "def apriori(chunk, s, tot_bsk):\n",
        "\n",
        "  n_bsk = 0 # number of baskets in chunk used to calculate support\n",
        "#  trsl = dict() # using a translation could be better for the combination step\n",
        "  count = dict() # should be relatively efficient since is a hash table\n",
        "\n",
        "#\n",
        "#  def translate(e, dic):\n",
        "#    try:\n",
        "#      return dic[e]\n",
        "#    except KeyError:\n",
        "#      dic[e] = len(dic)+1\n",
        "#      return dic[e]\n",
        "  def incr(e,dic):\n",
        "    try:\n",
        "      dic[e] += 1;\n",
        "    except KeyError:\n",
        "      dic[e] = 1\n",
        "\n",
        "  chunk = list(chunk) # to avoid consuming after first pass\n",
        "  ### first pass\n",
        "  for bsk in chunk:\n",
        "    n_bsk += 1;\n",
        "    #elements = [translate(x,trsl) for x in bsk]\n",
        "    for b in bsk:\n",
        "      incr(b,count)\n",
        "\n",
        "  ### filter\n",
        "  to_del = []\n",
        "  frequent = []\n",
        "  for c in count:\n",
        "    if count[c] >= s* n_bsk/tot_bsk:\n",
        "      frequent.append(c)\n",
        "\n",
        "  k = 2\n",
        "  while len(frequent) > 0:\n",
        "    count = dict()\n",
        "\n",
        "    for bsk in tqdm(chunk):\n",
        "      #filter only members of C_k\n",
        "      filtered = set()\n",
        "      for b in bsk:\n",
        "        for f in frequent:\n",
        "          if b in f:\n",
        "            filtered.add(b)\n",
        "            break;\n",
        "      bsk = list(filtered)\n",
        "      bsk.sort()\n",
        "      for tpl in itertools.combinations(bsk, k):\n",
        "          incr(tuple(tpl), count)\n",
        "\n",
        "    frequent = []\n",
        "    for c in count:\n",
        "      if count[c] >= s * n_bsk/tot_bsk:\n",
        "        frequent.append(c)\n",
        "        yield(c,1)\n",
        "    k+=1\n",
        "\n",
        "#SON second map\n",
        "def second_map(chunk,itemset,s):\n",
        "  def incr(e,dic):\n",
        "    try:\n",
        "      dic[e] += 1;\n",
        "    except KeyError:\n",
        "      dic[e] = 1\n",
        "\n",
        "  count = dict()\n",
        "  for bsk in tqdm(chunk):\n",
        "    for i in itemset:\n",
        "      flag = True\n",
        "      for e in i:\n",
        "        if e not in bsk:\n",
        "          flag = False\n",
        "          break\n",
        "      if flag:\n",
        "        incr(i,count)\n",
        "  for c in count:\n",
        "    yield (c,count[c])"
      ],
      "metadata": {
        "id": "RieQuIkAo7c_"
      },
      "execution_count": 6,
      "outputs": []
    },
    {
      "cell_type": "code",
      "source": [
        "S =  5; #support threshold (maybe a fraction is better)\n",
        "TOT = len(test_basket)#len(baskets)\n",
        "\n",
        "real = []\n",
        "for a in apriori(test_basket,S,TOT):\n",
        "  real.append(a[0])\n",
        "print(real)"
      ],
      "metadata": {
        "colab": {
          "base_uri": "https://localhost:8080/"
        },
        "id": "eUg8ywWFD-IO",
        "outputId": "c9299575-5e4d-4a6a-a092-3b20dff238e8"
      },
      "execution_count": 7,
      "outputs": [
        {
          "output_type": "stream",
          "name": "stderr",
          "text": [
            "100%|██████████| 11/11 [00:00<00:00, 59608.97it/s]\n",
            "100%|██████████| 11/11 [00:00<00:00, 26607.46it/s]\n",
            "100%|██████████| 11/11 [00:00<00:00, 93206.76it/s]"
          ]
        },
        {
          "output_type": "stream",
          "name": "stdout",
          "text": [
            "[('a', 'b'), ('a', 'c'), ('b', 'c'), ('a', 'b', 'c')]\n"
          ]
        },
        {
          "output_type": "stream",
          "name": "stderr",
          "text": [
            "\n"
          ]
        }
      ]
    },
    {
      "cell_type": "code",
      "source": [
        "#SON first step\n",
        "candidates = test_RDD.mapPartitions(lambda x: apriori(x,S,TOT)).reduceByKey(lambda a,b: a).keys().collect()\n",
        "print(candidates)"
      ],
      "metadata": {
        "colab": {
          "base_uri": "https://localhost:8080/"
        },
        "id": "NMhukWkCZLND",
        "outputId": "d898603c-0242-47b7-b79d-9d269dbed006"
      },
      "execution_count": 8,
      "outputs": [
        {
          "output_type": "stream",
          "name": "stdout",
          "text": [
            "[('b', 'c'), ('a', 'b', 'c'), ('f', 'q'), ('a', 'b'), ('a', 'c')]\n"
          ]
        }
      ]
    },
    {
      "cell_type": "code",
      "source": [
        "#SON second step\n",
        "real_from_candidates = test_RDD.mapPartitions(lambda x: second_map(x, candidates,S)).reduceByKey(lambda a,b: a+b).filter(lambda a: a[1] >= S).keys().collect()\n",
        "print(real_from_candidates)"
      ],
      "metadata": {
        "id": "VSa3ABzYCu9G",
        "colab": {
          "base_uri": "https://localhost:8080/"
        },
        "outputId": "960b8ccc-39b9-4e9e-a5bb-5aa1d4a570ff"
      },
      "execution_count": 9,
      "outputs": [
        {
          "output_type": "stream",
          "name": "stdout",
          "text": [
            "[('b', 'c'), ('a', 'b', 'c'), ('a', 'b'), ('a', 'c')]\n"
          ]
        }
      ]
    },
    {
      "cell_type": "code",
      "source": [
        "not_real = [x for x in candidates if x not in real]\n",
        "not_present = [x for x in real if x not in candidates]\n",
        "print(\"candidates not in real set:\" + str(not_real))\n",
        "print(\"real itemset not present in candidates:\" + str(not_present))\n",
        "f1 = [x for x in real_from_candidates if x not in real]\n",
        "f2 = [x for x in real if x not in real_from_candidates]\n",
        "print(\"diff between final and real:\"+ str(f1) + str(f2))\n"
      ],
      "metadata": {
        "colab": {
          "base_uri": "https://localhost:8080/"
        },
        "id": "XFibA15uBEEN",
        "outputId": "ca88caff-524a-463b-d927-f47bc6250b10"
      },
      "execution_count": 10,
      "outputs": [
        {
          "output_type": "stream",
          "name": "stdout",
          "text": [
            "candidates not in real set:[('f', 'q')]\n",
            "real itemset not present in candidates:[]\n",
            "diff between final and real:[][]\n"
          ]
        }
      ]
    },
    {
      "cell_type": "code",
      "source": [
        "def son(rdd,s,tot):\n",
        "  #FIRST STEP\n",
        "  candidates = rdd.mapPartitions(lambda x: apriori(x,s,tot)).reduceByKey(lambda a,b: a).keys().collect()\n",
        "  #SECOND STEP\n",
        "  return rdd.mapPartitions(lambda x: second_map(x, candidates,s)).reduceByKey(lambda a,b: a+b).filter(lambda a: a[1] >= S).keys().collect()\n",
        "\n",
        "son(test_RDD,S,TOT)"
      ],
      "metadata": {
        "colab": {
          "base_uri": "https://localhost:8080/"
        },
        "id": "t7SPM_7SZuQW",
        "outputId": "9e059ca1-8fd6-45f6-d747-9365f04e91a7"
      },
      "execution_count": 11,
      "outputs": [
        {
          "output_type": "execute_result",
          "data": {
            "text/plain": [
              "[('b', 'c'), ('a', 'b', 'c'), ('a', 'b'), ('a', 'c')]"
            ]
          },
          "metadata": {},
          "execution_count": 11
        }
      ]
    },
    {
      "cell_type": "code",
      "source": [
        "son(baskets_RDD, 6, len(baskets))"
      ],
      "metadata": {
        "id": "8iuXrJuYhMWu",
        "outputId": "2ce27ddb-082b-4a6a-d3f1-654cee755fd2",
        "colab": {
          "base_uri": "https://localhost:8080/"
        }
      },
      "execution_count": 12,
      "outputs": [
        {
          "output_type": "execute_result",
          "data": {
            "text/plain": [
              "[('Jaroslav Tomsa', 'Zdeněk Srstka'),\n",
              " ('Karel Engel', 'Zdeněk Srstka'),\n",
              " ('Kusuo Abe', 'Yoshio Yoshida'),\n",
              " ('Innocent', 'Sankaradi'),\n",
              " ('Dal McKennon', 'Grace Stafford'),\n",
              " ('Manorama', 'Nagesh'),\n",
              " ('Jacques-Yves Cousteau', 'Philippe Cousteau Jr.'),\n",
              " (\"Allen 'Farina' Hoskins\", \"Bobby 'Wheezer' Hutchins\"),\n",
              " (\"Allen 'Farina' Hoskins\", 'Mary Ann Jackson'),\n",
              " (\"Bobby 'Wheezer' Hutchins\", 'Mary Ann Jackson'),\n",
              " (\"Allen 'Farina' Hoskins\", \"Bobby 'Wheezer' Hutchins\", 'Mary Ann Jackson'),\n",
              " ('Anton Soini', 'Arvo Kuusla'),\n",
              " ('Brad Heller', 'David A.R. White'),\n",
              " ('Andreas Kern', 'Egon Biscan'),\n",
              " ('Hans Stadlbauer', 'Kathi Leitner'),\n",
              " ('Andreas Kern', 'Egon Biscan', 'Hans Stadlbauer'),\n",
              " ('Dharmendra', 'Hema Malini'),\n",
              " ('George Harrison', 'Paul McCartney'),\n",
              " ('George Harrison', 'Paul McCartney', 'Ringo Starr'),\n",
              " ('Erich Seyfried', 'Peter Steiner'),\n",
              " ('Gerda Steiner', 'Gerda Steiner-Paltzer'),\n",
              " ('Gerda Steiner', 'Petra Auer'),\n",
              " ('Gerda Steiner-Paltzer', 'Petra Auer'),\n",
              " ('Erich Seyfried', 'Gerda Steiner', 'Gerda Steiner-Paltzer'),\n",
              " ('Erich Seyfried', 'Gerda Steiner', 'Petra Auer'),\n",
              " ('Erich Seyfried', 'Gerda Steiner-Paltzer', 'Petra Auer'),\n",
              " ('Gerda Steiner', 'Gerda Steiner-Paltzer', 'Peter Steiner'),\n",
              " ('Gerda Steiner', 'Peter Steiner', 'Petra Auer'),\n",
              " ('Gerda Steiner-Paltzer', 'Peter Steiner', 'Petra Auer'),\n",
              " ('Erich Seyfried', 'Gerda Steiner', 'Gerda Steiner-Paltzer', 'Peter Steiner'),\n",
              " ('Erich Seyfried', 'Gerda Steiner', 'Peter Steiner', 'Petra Auer'),\n",
              " ('Erich Seyfried', 'Gerda Steiner-Paltzer', 'Peter Steiner', 'Petra Auer'),\n",
              " ('Eddie Vedder', 'Stone Gossard'),\n",
              " ('Jeff Ament', 'Mike McCready'),\n",
              " ('Eddie Vedder', 'Jeff Ament', 'Stone Gossard'),\n",
              " ('Eddie Vedder', 'Mike McCready', 'Stone Gossard'),\n",
              " ('Eddie Vedder', 'Jeff Ament', 'Mike McCready', 'Stone Gossard'),\n",
              " ('Jeff Ament', 'Matt Cameron'),\n",
              " ('Matt Cameron', 'Mike McCready'),\n",
              " ('Eddie Vedder', 'Matt Cameron', 'Stone Gossard'),\n",
              " ('Jeff Ament', 'Matt Cameron', 'Mike McCready'),\n",
              " ('Eddie Vedder', 'Jeff Ament', 'Matt Cameron', 'Stone Gossard'),\n",
              " ('Eddie Vedder', 'Matt Cameron', 'Mike McCready', 'Stone Gossard'),\n",
              " ('Eddie Vedder',\n",
              "  'Jeff Ament',\n",
              "  'Matt Cameron',\n",
              "  'Mike McCready',\n",
              "  'Stone Gossard'),\n",
              " ('George Harrison', 'John Lennon'),\n",
              " ('John Lennon', 'Paul McCartney'),\n",
              " ('George Harrison', 'John Lennon', 'Ringo Starr'),\n",
              " ('John Lennon', 'Paul McCartney', 'Ringo Starr'),\n",
              " ('Joey de Leon', 'Vangie Labalan'),\n",
              " ('Jack Mercer', 'Jackson Beck'),\n",
              " ('Jack Mercer', 'Mae Questel'),\n",
              " ('Jackson Beck', 'Mae Questel'),\n",
              " ('Jackie Condon', 'Joe Cobb'),\n",
              " (\"Allen 'Farina' Hoskins\", 'Jackie Condon', 'Joe Cobb'),\n",
              " ('Carl Stockdale', 'Gilbert M. Anderson'),\n",
              " ('Gilbert M. Anderson', 'Harry Todd'),\n",
              " ('Carl Stockdale', 'Gilbert M. Anderson', 'Marguerite Clayton'),\n",
              " ('Gilbert M. Anderson', 'Harry Todd', 'Marguerite Clayton'),\n",
              " ('Jagathy Sreekumar', 'Sukumari'),\n",
              " ('Harry Spear', 'Jean Darling'),\n",
              " ('Harry Spear', 'Joe Cobb'),\n",
              " ('Jean Darling', 'Joe Cobb'),\n",
              " (\"Allen 'Farina' Hoskins\", 'Harry Spear', 'Jean Darling'),\n",
              " (\"Allen 'Farina' Hoskins\", 'Harry Spear', 'Joe Cobb'),\n",
              " (\"Allen 'Farina' Hoskins\", 'Jean Darling', 'Joe Cobb'),\n",
              " (\"Bobby 'Wheezer' Hutchins\", 'Harry Spear', 'Jean Darling'),\n",
              " (\"Bobby 'Wheezer' Hutchins\", 'Harry Spear', 'Joe Cobb'),\n",
              " (\"Bobby 'Wheezer' Hutchins\", 'Jean Darling', 'Joe Cobb'),\n",
              " (\"Allen 'Farina' Hoskins\",\n",
              "  \"Bobby 'Wheezer' Hutchins\",\n",
              "  'Harry Spear',\n",
              "  'Jean Darling'),\n",
              " (\"Allen 'Farina' Hoskins\",\n",
              "  \"Bobby 'Wheezer' Hutchins\",\n",
              "  'Harry Spear',\n",
              "  'Joe Cobb'),\n",
              " (\"Allen 'Farina' Hoskins\",\n",
              "  \"Bobby 'Wheezer' Hutchins\",\n",
              "  'Jean Darling',\n",
              "  'Joe Cobb'),\n",
              " ('Jagadish', 'Jagathy Sreekumar'),\n",
              " ('Mohanlal', 'Nedumudi Venu'),\n",
              " ('Curly Howard', 'Moe Howard'),\n",
              " ('Curly Howard', 'Larry Fine', 'Moe Howard'),\n",
              " ('Bebe Daniels', \"Harry 'Snub' Pollard\"),\n",
              " ('Bebe Daniels', 'Harold Lloyd', \"Harry 'Snub' Pollard\"),\n",
              " ('Arthur V. Johnson', 'Florence Lawrence'),\n",
              " ('M. N. Nambiar', 'Nagesh'),\n",
              " ('Dolores Costello', 'Helene Costello'),\n",
              " ('Ikue Otani', 'Kappei Yamaguchi'),\n",
              " ('Ikue Otani', 'Minami Takayama'),\n",
              " ('Kappei Yamaguchi', 'Minami Takayama'),\n",
              " ('David Gilmour', 'Nick Mason'),\n",
              " ('David Gilmour', 'Richard Wright'),\n",
              " ('Nick Mason', 'Richard Wright'),\n",
              " ('David Gilmour', 'Nick Mason', 'Richard Wright'),\n",
              " ('Masuo Amada', 'Riki Takeuchi'),\n",
              " ('Ching Miao', 'Yang Chi-Ching'),\n",
              " ('Ching Miao', 'Gam Tin-Chue'),\n",
              " ('Kazuyoshi Ozawa', 'Yoshiyuki Yamaguchi'),\n",
              " ('Boom Gaspar', 'Eddie Vedder'),\n",
              " ('Boom Gaspar', 'Stone Gossard'),\n",
              " ('Boom Gaspar', 'Eddie Vedder', 'Jeff Ament'),\n",
              " ('Boom Gaspar', 'Eddie Vedder', 'Matt Cameron'),\n",
              " ('Boom Gaspar', 'Eddie Vedder', 'Mike McCready'),\n",
              " ('Boom Gaspar', 'Jeff Ament', 'Stone Gossard'),\n",
              " ('Boom Gaspar', 'Matt Cameron', 'Stone Gossard'),\n",
              " ('Boom Gaspar', 'Mike McCready', 'Stone Gossard'),\n",
              " ('Boom Gaspar', 'Eddie Vedder', 'Jeff Ament', 'Matt Cameron'),\n",
              " ('Boom Gaspar', 'Eddie Vedder', 'Jeff Ament', 'Mike McCready'),\n",
              " ('Boom Gaspar', 'Eddie Vedder', 'Matt Cameron', 'Mike McCready'),\n",
              " ('Boom Gaspar', 'Jeff Ament', 'Matt Cameron', 'Stone Gossard'),\n",
              " ('Boom Gaspar', 'Jeff Ament', 'Mike McCready', 'Stone Gossard'),\n",
              " ('Boom Gaspar', 'Matt Cameron', 'Mike McCready', 'Stone Gossard'),\n",
              " ('Boom Gaspar',\n",
              "  'Eddie Vedder',\n",
              "  'Jeff Ament',\n",
              "  'Matt Cameron',\n",
              "  'Mike McCready'),\n",
              " ('Boom Gaspar',\n",
              "  'Jeff Ament',\n",
              "  'Matt Cameron',\n",
              "  'Mike McCready',\n",
              "  'Stone Gossard'),\n",
              " ('Gulshan Grover', 'Jackie Shroff'),\n",
              " ('Ian James Corlett', 'Kathleen Barr'),\n",
              " ('Frank Ellis', 'Jim Corey'),\n",
              " ('Ali Basha', 'M. S. Narayana'),\n",
              " ('Ali Basha', 'Brahmanandam', 'M. S. Narayana'),\n",
              " ('Bess Flowers', 'Harold Miller'),\n",
              " ('Hao Li-Jen', 'Tien Feng'),\n",
              " ('Tarun Kumar', 'Uttam Kumar'),\n",
              " ('Hans Stadlbauer', 'Rupert Pointvogl'),\n",
              " ('Indrans', 'Jagathy Sreekumar'),\n",
              " ('Kenji Shimamura', 'Kōji Yashiro'),\n",
              " ('Brian May', 'Roger Taylor'),\n",
              " ('Helena Růžičková', 'Miloš Kopecký'),\n",
              " ('Helena Růžičková', 'Jiřina Bohdalová'),\n",
              " ('Joey Richter', 'Lauren Lopez'),\n",
              " ('Lan Wei-Lieh', 'Yang Chi-Ching'),\n",
              " ('Ching Miao', 'Ou-Yang Sha-Fei', 'Yang Chi-Ching'),\n",
              " ('James Hetfield', 'Kirk Hammett'),\n",
              " ('James Hetfield', 'Lars Ulrich'),\n",
              " ('Kirk Hammett', 'Lars Ulrich'),\n",
              " ('Lee Willard', 'Marguerite Clayton'),\n",
              " ('Harry Todd', 'Margaret Joslin'),\n",
              " ('Harry Todd', 'Margaret Joslin', 'Victor Potel'),\n",
              " ('Masuo Amada', 'Riki Takeuchi', 'Tetsuya Yûki'),\n",
              " ('Kinnosuke Takamatsu', 'Shinobu Chihara'),\n",
              " ('Frank Welker', 'Jeff Bennett'),\n",
              " ('King Charles III of the United Kingdom',\n",
              "  'Queen Elizabeth II of the United Kingdom'),\n",
              " ('Prince Philip, Duke of Edinburgh',\n",
              "  'Queen Elizabeth II of the United Kingdom'),\n",
              " ('Chiyonosuke Azuma', 'Tokinosuke Nakamura'),\n",
              " ('Keiko Okawa', 'Kunio Kaga'),\n",
              " ('Hao Li-Jen', 'Ou-Yang Sha-Fei'),\n",
              " ('Cheung Hei', 'Hao Li-Jen'),\n",
              " ('Ching Miao', 'Hao Li-Jen', 'Yang Chi-Ching'),\n",
              " ('Ching Miao', 'Hao Li-Jen', 'Ou-Yang Sha-Fei', 'Yang Chi-Ching'),\n",
              " ('Brahmanandam', 'Krishna Bhagavan'),\n",
              " ('Kazutarō Kuni', 'Masao Hori'),\n",
              " ('Brahmanandam', 'Venkatesh'),\n",
              " ('Innocent', 'Jayaram'),\n",
              " ('Innocent', 'Sukumari'),\n",
              " ('Sankaradi', 'Sukumari'),\n",
              " ('Nedumudi Venu', 'Sukumari'),\n",
              " ('Oskar Sima', 'Paul Hörbiger'),\n",
              " ('Augustus Carney', 'Victor Potel'),\n",
              " ('Carl Ottosen', 'Karl Stegger'),\n",
              " ('Andreas Kern', 'Hans Stadlbauer'),\n",
              " ('Andreas Kern', 'Kathi Leitner'),\n",
              " ('Egon Biscan', 'Hans Stadlbauer'),\n",
              " ('Andreas Kern', 'Hans Stadlbauer', 'Kathi Leitner'),\n",
              " ('Egon Biscan', 'Mona Freiberg'),\n",
              " ('Daws Butler', 'Don Messick'),\n",
              " ('George Harrison', 'Ringo Starr'),\n",
              " ('Paul McCartney', 'Ringo Starr'),\n",
              " ('Bill Gaither', 'Gloria Gaither'),\n",
              " ('Erich Seyfried', 'Gerda Steiner'),\n",
              " ('Erich Seyfried', 'Gerda Steiner-Paltzer'),\n",
              " ('Erich Seyfried', 'Petra Auer'),\n",
              " ('Gerda Steiner', 'Peter Steiner'),\n",
              " ('Gerda Steiner-Paltzer', 'Peter Steiner'),\n",
              " ('Peter Steiner', 'Petra Auer'),\n",
              " ('Erich Seyfried', 'Gerda Steiner', 'Peter Steiner'),\n",
              " ('Erich Seyfried', 'Gerda Steiner-Paltzer', 'Peter Steiner'),\n",
              " ('Erich Seyfried', 'Peter Steiner', 'Petra Auer'),\n",
              " ('Gerda Steiner', 'Gerda Steiner-Paltzer', 'Petra Auer'),\n",
              " ('Erich Seyfried', 'Gerda Steiner', 'Gerda Steiner-Paltzer', 'Petra Auer'),\n",
              " ('Gerda Steiner', 'Gerda Steiner-Paltzer', 'Peter Steiner', 'Petra Auer'),\n",
              " ('Erich Seyfried',\n",
              "  'Gerda Steiner',\n",
              "  'Gerda Steiner-Paltzer',\n",
              "  'Peter Steiner',\n",
              "  'Petra Auer'),\n",
              " ('Eddie Vedder', 'Jeff Ament'),\n",
              " ('Eddie Vedder', 'Mike McCready'),\n",
              " ('Jeff Ament', 'Stone Gossard'),\n",
              " ('Mike McCready', 'Stone Gossard'),\n",
              " ('Eddie Vedder', 'Jeff Ament', 'Mike McCready'),\n",
              " ('Jeff Ament', 'Mike McCready', 'Stone Gossard'),\n",
              " ('Eddie Vedder', 'Matt Cameron'),\n",
              " ('Matt Cameron', 'Stone Gossard'),\n",
              " ('Eddie Vedder', 'Jeff Ament', 'Matt Cameron'),\n",
              " ('Eddie Vedder', 'Matt Cameron', 'Mike McCready'),\n",
              " ('Jeff Ament', 'Matt Cameron', 'Stone Gossard'),\n",
              " ('Matt Cameron', 'Mike McCready', 'Stone Gossard'),\n",
              " ('Eddie Vedder', 'Jeff Ament', 'Matt Cameron', 'Mike McCready'),\n",
              " ('Jeff Ament', 'Matt Cameron', 'Mike McCready', 'Stone Gossard'),\n",
              " ('Jan Přeučil', 'Oldřich Velen'),\n",
              " ('John Lennon', 'Ringo Starr'),\n",
              " ('George Harrison', 'John Lennon', 'Paul McCartney'),\n",
              " ('George Harrison', 'John Lennon', 'Paul McCartney', 'Ringo Starr'),\n",
              " (\"Allen 'Farina' Hoskins\", 'Jackie Condon'),\n",
              " (\"Allen 'Farina' Hoskins\", 'Joe Cobb'),\n",
              " ('Mary Kornman', 'Mickey Daniels'),\n",
              " ('Anton Soini', 'Hannes Veivo'),\n",
              " ('Carl Stockdale', 'Marguerite Clayton'),\n",
              " ('Gilbert M. Anderson', 'Marguerite Clayton'),\n",
              " ('Harry Todd', 'Marguerite Clayton'),\n",
              " ('Ciccio Ingrassia', 'Franco Franchi'),\n",
              " (\"Allen 'Farina' Hoskins\", 'Harry Spear'),\n",
              " (\"Allen 'Farina' Hoskins\", 'Jean Darling'),\n",
              " (\"Bobby 'Wheezer' Hutchins\", 'Harry Spear'),\n",
              " (\"Bobby 'Wheezer' Hutchins\", 'Jean Darling'),\n",
              " (\"Bobby 'Wheezer' Hutchins\", 'Joe Cobb'),\n",
              " (\"Allen 'Farina' Hoskins\", \"Bobby 'Wheezer' Hutchins\", 'Harry Spear'),\n",
              " (\"Allen 'Farina' Hoskins\", \"Bobby 'Wheezer' Hutchins\", 'Jean Darling'),\n",
              " (\"Allen 'Farina' Hoskins\", \"Bobby 'Wheezer' Hutchins\", 'Joe Cobb'),\n",
              " ('Harry Spear', 'Jean Darling', 'Joe Cobb'),\n",
              " (\"Allen 'Farina' Hoskins\", 'Harry Spear', 'Jean Darling', 'Joe Cobb'),\n",
              " (\"Bobby 'Wheezer' Hutchins\", 'Harry Spear', 'Jean Darling', 'Joe Cobb'),\n",
              " (\"Allen 'Farina' Hoskins\",\n",
              "  \"Bobby 'Wheezer' Hutchins\",\n",
              "  'Harry Spear',\n",
              "  'Jean Darling',\n",
              "  'Joe Cobb'),\n",
              " ('Mohanlal', 'Sukumari'),\n",
              " ('Jagathy Sreekumar', 'Mohanlal'),\n",
              " ('Ali Basha', 'Dharmavarupu Subramanyam'),\n",
              " ('Ali Basha', 'Krishna Bhagavan'),\n",
              " ('Larry Fine', 'Moe Howard'),\n",
              " ('Curly Howard', 'Larry Fine'),\n",
              " ('Bebe Daniels', 'Harold Lloyd'),\n",
              " ('Harold Lloyd', \"Harry 'Snub' Pollard\"),\n",
              " ('Oliver Hardy', 'Stan Laurel'),\n",
              " ('Ren Osugi', 'Susumu Terajima'),\n",
              " ('Miloš Vavruška', 'Oldřich Velen'),\n",
              " ('Jan W. Speerger', 'Theodor Pištěk'),\n",
              " ('Andy Irons', 'Taj Burrow'),\n",
              " ('Kathi Leitner', 'Michaela Heigenhauser'),\n",
              " ('Ikue Otani', 'Kappei Yamaguchi', 'Minami Takayama'),\n",
              " ('Jagathy Sreekumar', 'Janardhanan'),\n",
              " ('Janardhanan', 'Sukumari'),\n",
              " ('Jaroslav Marvan', 'Stanislav Neumann'),\n",
              " ('Eman Fiala', 'Jan W. Speerger'),\n",
              " ('Jan W. Speerger', 'Josef Kotalík'),\n",
              " ('M. G. Ramachandran', 'M. N. Nambiar'),\n",
              " ('Brahmanandam', 'Tanikella Bharani'),\n",
              " ('Boom Gaspar', 'Jeff Ament'),\n",
              " ('Boom Gaspar', 'Matt Cameron'),\n",
              " ('Boom Gaspar', 'Mike McCready'),\n",
              " ('Boom Gaspar', 'Eddie Vedder', 'Stone Gossard'),\n",
              " ('Boom Gaspar', 'Jeff Ament', 'Matt Cameron'),\n",
              " ('Boom Gaspar', 'Jeff Ament', 'Mike McCready'),\n",
              " ('Boom Gaspar', 'Matt Cameron', 'Mike McCready'),\n",
              " ('Boom Gaspar', 'Eddie Vedder', 'Jeff Ament', 'Stone Gossard'),\n",
              " ('Boom Gaspar', 'Eddie Vedder', 'Matt Cameron', 'Stone Gossard'),\n",
              " ('Boom Gaspar', 'Eddie Vedder', 'Mike McCready', 'Stone Gossard'),\n",
              " ('Boom Gaspar', 'Jeff Ament', 'Matt Cameron', 'Mike McCready'),\n",
              " ('Boom Gaspar',\n",
              "  'Eddie Vedder',\n",
              "  'Jeff Ament',\n",
              "  'Matt Cameron',\n",
              "  'Stone Gossard'),\n",
              " ('Boom Gaspar',\n",
              "  'Eddie Vedder',\n",
              "  'Jeff Ament',\n",
              "  'Mike McCready',\n",
              "  'Stone Gossard'),\n",
              " ('Boom Gaspar',\n",
              "  'Eddie Vedder',\n",
              "  'Matt Cameron',\n",
              "  'Mike McCready',\n",
              "  'Stone Gossard'),\n",
              " ('Boom Gaspar',\n",
              "  'Eddie Vedder',\n",
              "  'Jeff Ament',\n",
              "  'Matt Cameron',\n",
              "  'Mike McCready',\n",
              "  'Stone Gossard'),\n",
              " ('Frank Oz', 'Jim Henson'),\n",
              " ('Ali Basha', 'Brahmanandam'),\n",
              " ('Brahmanandam', 'M. S. Narayana'),\n",
              " ('Brahmanandam', 'Venu Madhav'),\n",
              " ('Giorgos Velentzas', 'Nikos Fermas'),\n",
              " ('Brahmanandam', 'Raghu Babu'),\n",
              " ('Christa Wehling', 'Jochen Schenck'),\n",
              " ('Hao Li-Jen', 'Lan Wei-Lieh'),\n",
              " ('Ching Lee', 'Hao Li-Jen'),\n",
              " ('Bernhard Helfrich', 'Mona Freiberg'),\n",
              " ('Kalabhavan Shajon', 'Siddique'),\n",
              " ('Harry Todd', 'Victor Potel'),\n",
              " ('Krishna Bhagavan', 'Raghu Babu'),\n",
              " ('Miloš Kopecký', 'Vladimír Hrubý'),\n",
              " ('Brahmanandam', 'Kota Srinivasa Rao'),\n",
              " ('Hakkı Kıvanç', 'Kudret Karadağ'),\n",
              " ('Gayathri Varsha', 'Jagathy Sreekumar'),\n",
              " ('Tex Ritter', 'White Flash'),\n",
              " ('Ching Miao', 'Ou-Yang Sha-Fei'),\n",
              " ('Ou-Yang Sha-Fei', 'Yang Chi-Ching'),\n",
              " ('Chiang Kuang-Chao', 'Yang Chi-Ching'),\n",
              " ('James Hetfield', 'Kirk Hammett', 'Lars Ulrich'),\n",
              " ('Delhi Ganesh', 'Manorama'),\n",
              " ('Gilbert M. Anderson', 'Lee Willard'),\n",
              " ('Gilbert M. Anderson', 'Lee Willard', 'Marguerite Clayton'),\n",
              " ('Margaret Joslin', 'Victor Potel'),\n",
              " ('Nassar', 'Vadivelu'),\n",
              " ('Masuo Amada', 'Tetsuya Yûki'),\n",
              " ('Riki Takeuchi', 'Tetsuya Yûki'),\n",
              " ('Hideo Nakano', 'Hitoshi Ozawa'),\n",
              " ('Kunio Kaga', 'Tokinosuke Nakamura'),\n",
              " ('Ching Miao', 'Hao Li-Jen'),\n",
              " ('Hao Li-Jen', 'Yang Chi-Ching'),\n",
              " ('Cheung Hei', 'Yang Chi-Ching'),\n",
              " ('Ching Miao', 'Hao Li-Jen', 'Ou-Yang Sha-Fei'),\n",
              " ('Hao Li-Jen', 'Ou-Yang Sha-Fei', 'Yang Chi-Ching'),\n",
              " ('Cheung Hei', 'Hao Li-Jen', 'Yang Chi-Ching'),\n",
              " ('Hiroshi Nawa', 'Junko Miyazono')]"
            ]
          },
          "metadata": {},
          "execution_count": 12
        }
      ]
    },
    {
      "cell_type": "code",
      "source": [
        "for a in apriori(baskets,6,len(baskets)):\n",
        "  print(a)"
      ],
      "metadata": {
        "id": "AOVZfmayhTxs",
        "outputId": "9100ec93-7808-4cc9-c194-f942ef55c5e9",
        "colab": {
          "base_uri": "https://localhost:8080/"
        }
      },
      "execution_count": 13,
      "outputs": [
        {
          "output_type": "stream",
          "name": "stderr",
          "text": [
            "100%|██████████| 30000/30000 [02:18<00:00, 215.97it/s]\n"
          ]
        },
        {
          "output_type": "stream",
          "name": "stdout",
          "text": [
            "(('Jaroslav Tomsa', 'Zdeněk Srstka'), 1)\n",
            "(('Innocent', 'Sukumari'), 1)\n",
            "(('Nedumudi Venu', 'Sukumari'), 1)\n",
            "(('Sankaradi', 'Sukumari'), 1)\n",
            "(('Oskar Sima', 'Paul Hörbiger'), 1)\n",
            "(('Dal McKennon', 'Grace Stafford'), 1)\n",
            "(('Manorama', 'Nagesh'), 1)\n",
            "(('Jacques-Yves Cousteau', 'Philippe Cousteau Jr.'), 1)\n",
            "((\"Allen 'Farina' Hoskins\", \"Bobby 'Wheezer' Hutchins\"), 1)\n",
            "(('Anton Soini', 'Arvo Kuusla'), 1)\n",
            "(('Andreas Kern', 'Egon Biscan'), 1)\n",
            "(('Andreas Kern', 'Hans Stadlbauer'), 1)\n",
            "(('Andreas Kern', 'Kathi Leitner'), 1)\n",
            "(('Hans Stadlbauer', 'Kathi Leitner'), 1)\n",
            "(('Dharmendra', 'Hema Malini'), 1)\n",
            "(('Daws Butler', 'Don Messick'), 1)\n",
            "(('George Harrison', 'Paul McCartney'), 1)\n",
            "(('George Harrison', 'Ringo Starr'), 1)\n",
            "(('Paul McCartney', 'Ringo Starr'), 1)\n",
            "(('Bill Gaither', 'Gloria Gaither'), 1)\n",
            "(('Erich Seyfried', 'Gerda Steiner'), 1)\n",
            "(('Erich Seyfried', 'Gerda Steiner-Paltzer'), 1)\n",
            "(('Erich Seyfried', 'Peter Steiner'), 1)\n",
            "(('Erich Seyfried', 'Petra Auer'), 1)\n",
            "(('Gerda Steiner', 'Gerda Steiner-Paltzer'), 1)\n",
            "(('Gerda Steiner', 'Peter Steiner'), 1)\n",
            "(('Gerda Steiner', 'Petra Auer'), 1)\n",
            "(('Gerda Steiner-Paltzer', 'Peter Steiner'), 1)\n",
            "(('Gerda Steiner-Paltzer', 'Petra Auer'), 1)\n",
            "(('Peter Steiner', 'Petra Auer'), 1)\n",
            "(('Eddie Vedder', 'Jeff Ament'), 1)\n",
            "(('Eddie Vedder', 'Matt Cameron'), 1)\n",
            "(('Eddie Vedder', 'Mike McCready'), 1)\n",
            "(('Eddie Vedder', 'Stone Gossard'), 1)\n",
            "(('Jeff Ament', 'Matt Cameron'), 1)\n",
            "(('Jeff Ament', 'Mike McCready'), 1)\n",
            "(('Jeff Ament', 'Stone Gossard'), 1)\n",
            "(('Matt Cameron', 'Mike McCready'), 1)\n",
            "(('Matt Cameron', 'Stone Gossard'), 1)\n",
            "(('Mike McCready', 'Stone Gossard'), 1)\n",
            "(('Jan Přeučil', 'Oldřich Velen'), 1)\n",
            "(('George Harrison', 'John Lennon'), 1)\n",
            "(('John Lennon', 'Paul McCartney'), 1)\n",
            "(('John Lennon', 'Ringo Starr'), 1)\n",
            "(('Jack Mercer', 'Jackson Beck'), 1)\n",
            "(('Jack Mercer', 'Mae Questel'), 1)\n",
            "(('Jackson Beck', 'Mae Questel'), 1)\n",
            "((\"Allen 'Farina' Hoskins\", 'Jackie Condon'), 1)\n",
            "((\"Allen 'Farina' Hoskins\", 'Joe Cobb'), 1)\n",
            "(('Jackie Condon', 'Joe Cobb'), 1)\n",
            "(('Gilbert M. Anderson', 'Harry Todd'), 1)\n",
            "(('Gilbert M. Anderson', 'Marguerite Clayton'), 1)\n",
            "(('Harry Todd', 'Marguerite Clayton'), 1)\n",
            "(('Ciccio Ingrassia', 'Franco Franchi'), 1)\n",
            "(('Jagathy Sreekumar', 'Sukumari'), 1)\n",
            "(('Jagathy Sreekumar', 'Mohanlal'), 1)\n",
            "(('Mohanlal', 'Sukumari'), 1)\n",
            "(('Ali Basha', 'Dharmavarupu Subramanyam'), 1)\n",
            "(('Curly Howard', 'Larry Fine'), 1)\n",
            "(('Curly Howard', 'Moe Howard'), 1)\n",
            "(('Larry Fine', 'Moe Howard'), 1)\n",
            "(('Oliver Hardy', 'Stan Laurel'), 1)\n",
            "(('Ren Osugi', 'Susumu Terajima'), 1)\n",
            "(('Miloš Vavruška', 'Oldřich Velen'), 1)\n",
            "(('Andy Irons', 'Taj Burrow'), 1)\n",
            "(('M. N. Nambiar', 'Nagesh'), 1)\n",
            "(('Ikue Otani', 'Kappei Yamaguchi'), 1)\n",
            "(('Kappei Yamaguchi', 'Minami Takayama'), 1)\n",
            "(('Jagathy Sreekumar', 'Janardhanan'), 1)\n",
            "(('Masuo Amada', 'Riki Takeuchi'), 1)\n",
            "(('Eman Fiala', 'Jan W. Speerger'), 1)\n",
            "(('M. G. Ramachandran', 'M. N. Nambiar'), 1)\n",
            "(('Ching Miao', 'Gam Tin-Chue'), 1)\n",
            "(('Ching Miao', 'Yang Chi-Ching'), 1)\n",
            "(('Brahmanandam', 'Tanikella Bharani'), 1)\n",
            "(('Boom Gaspar', 'Eddie Vedder'), 1)\n",
            "(('Boom Gaspar', 'Jeff Ament'), 1)\n",
            "(('Boom Gaspar', 'Matt Cameron'), 1)\n",
            "(('Boom Gaspar', 'Mike McCready'), 1)\n",
            "(('Boom Gaspar', 'Stone Gossard'), 1)\n",
            "(('Gulshan Grover', 'Jackie Shroff'), 1)\n",
            "(('Ian James Corlett', 'Kathleen Barr'), 1)\n",
            "(('Ali Basha', 'Brahmanandam'), 1)\n",
            "(('Ali Basha', 'M. S. Narayana'), 1)\n",
            "(('Brahmanandam', 'M. S. Narayana'), 1)\n",
            "(('Brahmanandam', 'Venu Madhav'), 1)\n",
            "(('Brahmanandam', 'Raghu Babu'), 1)\n",
            "(('Harry Todd', 'Victor Potel'), 1)\n",
            "(('Indrans', 'Jagathy Sreekumar'), 1)\n",
            "(('Krishna Bhagavan', 'Raghu Babu'), 1)\n",
            "(('Kenji Shimamura', 'Kōji Yashiro'), 1)\n",
            "(('Brian May', 'Roger Taylor'), 1)\n",
            "(('Helena Růžičková', 'Miloš Kopecký'), 1)\n",
            "(('Brahmanandam', 'Kota Srinivasa Rao'), 1)\n",
            "(('Joey Richter', 'Lauren Lopez'), 1)\n",
            "(('Chiang Kuang-Chao', 'Yang Chi-Ching'), 1)\n",
            "(('Ching Miao', 'Ou-Yang Sha-Fei'), 1)\n",
            "(('Ou-Yang Sha-Fei', 'Yang Chi-Ching'), 1)\n",
            "(('Gilbert M. Anderson', 'Lee Willard'), 1)\n",
            "(('Nassar', 'Vadivelu'), 1)\n",
            "(('Prince Philip, Duke of Edinburgh', 'Queen Elizabeth II of the United Kingdom'), 1)\n",
            "(('Kunio Kaga', 'Tokinosuke Nakamura'), 1)\n",
            "(('Hao Li-Jen', 'Yang Chi-Ching'), 1)\n"
          ]
        },
        {
          "output_type": "stream",
          "name": "stderr",
          "text": [
            "100%|██████████| 30000/30000 [00:03<00:00, 8545.56it/s]\n"
          ]
        },
        {
          "output_type": "stream",
          "name": "stdout",
          "text": [
            "(('Andreas Kern', 'Hans Stadlbauer', 'Kathi Leitner'), 1)\n",
            "(('George Harrison', 'Paul McCartney', 'Ringo Starr'), 1)\n",
            "(('Erich Seyfried', 'Gerda Steiner', 'Gerda Steiner-Paltzer'), 1)\n",
            "(('Erich Seyfried', 'Gerda Steiner', 'Peter Steiner'), 1)\n",
            "(('Erich Seyfried', 'Gerda Steiner', 'Petra Auer'), 1)\n",
            "(('Erich Seyfried', 'Gerda Steiner-Paltzer', 'Peter Steiner'), 1)\n",
            "(('Erich Seyfried', 'Gerda Steiner-Paltzer', 'Petra Auer'), 1)\n",
            "(('Erich Seyfried', 'Peter Steiner', 'Petra Auer'), 1)\n",
            "(('Gerda Steiner', 'Gerda Steiner-Paltzer', 'Peter Steiner'), 1)\n",
            "(('Gerda Steiner', 'Gerda Steiner-Paltzer', 'Petra Auer'), 1)\n",
            "(('Gerda Steiner', 'Peter Steiner', 'Petra Auer'), 1)\n",
            "(('Gerda Steiner-Paltzer', 'Peter Steiner', 'Petra Auer'), 1)\n",
            "(('Eddie Vedder', 'Jeff Ament', 'Matt Cameron'), 1)\n",
            "(('Eddie Vedder', 'Jeff Ament', 'Mike McCready'), 1)\n",
            "(('Eddie Vedder', 'Jeff Ament', 'Stone Gossard'), 1)\n",
            "(('Eddie Vedder', 'Matt Cameron', 'Mike McCready'), 1)\n",
            "(('Eddie Vedder', 'Matt Cameron', 'Stone Gossard'), 1)\n",
            "(('Eddie Vedder', 'Mike McCready', 'Stone Gossard'), 1)\n",
            "(('Jeff Ament', 'Matt Cameron', 'Mike McCready'), 1)\n",
            "(('Jeff Ament', 'Matt Cameron', 'Stone Gossard'), 1)\n",
            "(('Jeff Ament', 'Mike McCready', 'Stone Gossard'), 1)\n",
            "(('Matt Cameron', 'Mike McCready', 'Stone Gossard'), 1)\n",
            "(('George Harrison', 'John Lennon', 'Paul McCartney'), 1)\n",
            "(('George Harrison', 'John Lennon', 'Ringo Starr'), 1)\n",
            "(('John Lennon', 'Paul McCartney', 'Ringo Starr'), 1)\n",
            "((\"Allen 'Farina' Hoskins\", 'Jackie Condon', 'Joe Cobb'), 1)\n",
            "(('Gilbert M. Anderson', 'Harry Todd', 'Marguerite Clayton'), 1)\n",
            "(('Curly Howard', 'Larry Fine', 'Moe Howard'), 1)\n",
            "(('Boom Gaspar', 'Eddie Vedder', 'Jeff Ament'), 1)\n",
            "(('Boom Gaspar', 'Eddie Vedder', 'Matt Cameron'), 1)\n",
            "(('Boom Gaspar', 'Eddie Vedder', 'Mike McCready'), 1)\n",
            "(('Boom Gaspar', 'Eddie Vedder', 'Stone Gossard'), 1)\n",
            "(('Boom Gaspar', 'Jeff Ament', 'Matt Cameron'), 1)\n",
            "(('Boom Gaspar', 'Jeff Ament', 'Mike McCready'), 1)\n",
            "(('Boom Gaspar', 'Jeff Ament', 'Stone Gossard'), 1)\n",
            "(('Boom Gaspar', 'Matt Cameron', 'Mike McCready'), 1)\n",
            "(('Boom Gaspar', 'Matt Cameron', 'Stone Gossard'), 1)\n",
            "(('Boom Gaspar', 'Mike McCready', 'Stone Gossard'), 1)\n",
            "(('Ali Basha', 'Brahmanandam', 'M. S. Narayana'), 1)\n",
            "(('Ching Miao', 'Ou-Yang Sha-Fei', 'Yang Chi-Ching'), 1)\n"
          ]
        },
        {
          "output_type": "stream",
          "name": "stderr",
          "text": [
            "100%|██████████| 30000/30000 [00:01<00:00, 18038.72it/s]\n"
          ]
        },
        {
          "output_type": "stream",
          "name": "stdout",
          "text": [
            "(('Erich Seyfried', 'Gerda Steiner', 'Gerda Steiner-Paltzer', 'Peter Steiner'), 1)\n",
            "(('Erich Seyfried', 'Gerda Steiner', 'Gerda Steiner-Paltzer', 'Petra Auer'), 1)\n",
            "(('Erich Seyfried', 'Gerda Steiner', 'Peter Steiner', 'Petra Auer'), 1)\n",
            "(('Erich Seyfried', 'Gerda Steiner-Paltzer', 'Peter Steiner', 'Petra Auer'), 1)\n",
            "(('Gerda Steiner', 'Gerda Steiner-Paltzer', 'Peter Steiner', 'Petra Auer'), 1)\n",
            "(('Eddie Vedder', 'Jeff Ament', 'Matt Cameron', 'Mike McCready'), 1)\n",
            "(('Eddie Vedder', 'Jeff Ament', 'Matt Cameron', 'Stone Gossard'), 1)\n",
            "(('Eddie Vedder', 'Jeff Ament', 'Mike McCready', 'Stone Gossard'), 1)\n",
            "(('Eddie Vedder', 'Matt Cameron', 'Mike McCready', 'Stone Gossard'), 1)\n",
            "(('Jeff Ament', 'Matt Cameron', 'Mike McCready', 'Stone Gossard'), 1)\n",
            "(('George Harrison', 'John Lennon', 'Paul McCartney', 'Ringo Starr'), 1)\n",
            "(('Boom Gaspar', 'Eddie Vedder', 'Jeff Ament', 'Matt Cameron'), 1)\n",
            "(('Boom Gaspar', 'Eddie Vedder', 'Jeff Ament', 'Mike McCready'), 1)\n",
            "(('Boom Gaspar', 'Eddie Vedder', 'Jeff Ament', 'Stone Gossard'), 1)\n",
            "(('Boom Gaspar', 'Eddie Vedder', 'Matt Cameron', 'Mike McCready'), 1)\n",
            "(('Boom Gaspar', 'Eddie Vedder', 'Matt Cameron', 'Stone Gossard'), 1)\n",
            "(('Boom Gaspar', 'Eddie Vedder', 'Mike McCready', 'Stone Gossard'), 1)\n",
            "(('Boom Gaspar', 'Jeff Ament', 'Matt Cameron', 'Mike McCready'), 1)\n",
            "(('Boom Gaspar', 'Jeff Ament', 'Matt Cameron', 'Stone Gossard'), 1)\n",
            "(('Boom Gaspar', 'Jeff Ament', 'Mike McCready', 'Stone Gossard'), 1)\n",
            "(('Boom Gaspar', 'Matt Cameron', 'Mike McCready', 'Stone Gossard'), 1)\n"
          ]
        },
        {
          "output_type": "stream",
          "name": "stderr",
          "text": [
            "100%|██████████| 30000/30000 [00:01<00:00, 27326.36it/s]\n"
          ]
        },
        {
          "output_type": "stream",
          "name": "stdout",
          "text": [
            "(('Erich Seyfried', 'Gerda Steiner', 'Gerda Steiner-Paltzer', 'Peter Steiner', 'Petra Auer'), 1)\n",
            "(('Eddie Vedder', 'Jeff Ament', 'Matt Cameron', 'Mike McCready', 'Stone Gossard'), 1)\n",
            "(('Boom Gaspar', 'Eddie Vedder', 'Jeff Ament', 'Matt Cameron', 'Mike McCready'), 1)\n",
            "(('Boom Gaspar', 'Eddie Vedder', 'Jeff Ament', 'Matt Cameron', 'Stone Gossard'), 1)\n",
            "(('Boom Gaspar', 'Eddie Vedder', 'Jeff Ament', 'Mike McCready', 'Stone Gossard'), 1)\n",
            "(('Boom Gaspar', 'Eddie Vedder', 'Matt Cameron', 'Mike McCready', 'Stone Gossard'), 1)\n",
            "(('Boom Gaspar', 'Jeff Ament', 'Matt Cameron', 'Mike McCready', 'Stone Gossard'), 1)\n"
          ]
        },
        {
          "output_type": "stream",
          "name": "stderr",
          "text": [
            "100%|██████████| 30000/30000 [00:00<00:00, 57867.61it/s]\n"
          ]
        },
        {
          "output_type": "stream",
          "name": "stdout",
          "text": [
            "(('Boom Gaspar', 'Eddie Vedder', 'Jeff Ament', 'Matt Cameron', 'Mike McCready', 'Stone Gossard'), 1)\n"
          ]
        },
        {
          "output_type": "stream",
          "name": "stderr",
          "text": [
            "100%|██████████| 30000/30000 [00:00<00:00, 139228.16it/s]\n"
          ]
        }
      ]
    },
    {
      "cell_type": "code",
      "source": [
        "baskets"
      ],
      "metadata": {
        "id": "DA4fchfz6FdG",
        "outputId": "3b68609b-3811-464f-a43f-df71653b53ec",
        "colab": {
          "base_uri": "https://localhost:8080/"
        }
      },
      "execution_count": 104,
      "outputs": [
        {
          "output_type": "execute_result",
          "data": {
            "text/plain": [
              "id\n",
              "1195602                       [Bernardo Rocha, Luix Gabriel]\n",
              "1109331    [William Hauber, Phillip Tyron, Glen Cavender,...\n",
              "1562029                               [Christopher Sherwood]\n",
              "1093613                         [Otto Schily, Ursula Lefkes]\n",
              "1449148    [Kenne Duncan, Tex Palmer, Carl Mathews, Chick...\n",
              "                                 ...                        \n",
              "1320411    [Saeed Jaffrey, Dinsdale Landen, David Max Vau...\n",
              "1170424    [Han Yoo-jeong, Gi So-you, Kim Jae-chul, Baek ...\n",
              "1743383    [Jan Anderson, Anya O'Callaghan, Jake Sawyers,...\n",
              "1559554    [Parvateesam, Swati Dixit, Rocket Raghava, Lir...\n",
              "1673766           [Jeong Jun-ho, Kim Soo-mi, Shin Hyun-joon]\n",
              "Name: name, Length: 30000, dtype: object"
            ]
          },
          "metadata": {},
          "execution_count": 104
        }
      ]
    },
    {
      "cell_type": "code",
      "source": [
        "sum([1 for x in baskets if 'Angelina Jolie' in x])"
      ],
      "metadata": {
        "id": "qycuBTuF6OvN",
        "outputId": "43c0bed2-b6cc-40ed-d0c0-67a43dbb8c53",
        "colab": {
          "base_uri": "https://localhost:8080/"
        }
      },
      "execution_count": 115,
      "outputs": [
        {
          "output_type": "execute_result",
          "data": {
            "text/plain": [
              "5"
            ]
          },
          "metadata": {},
          "execution_count": 115
        }
      ]
    },
    {
      "cell_type": "code",
      "source": [],
      "metadata": {
        "id": "reSMZWtd7Hnx"
      },
      "execution_count": null,
      "outputs": []
    }
  ]
}