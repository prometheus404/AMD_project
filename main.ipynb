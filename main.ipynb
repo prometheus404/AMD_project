{
  "nbformat": 4,
  "nbformat_minor": 0,
  "metadata": {
    "colab": {
      "provenance": [],
      "include_colab_link": true
    },
    "kernelspec": {
      "name": "python3",
      "display_name": "Python 3"
    },
    "language_info": {
      "name": "python"
    }
  },
  "cells": [
    {
      "cell_type": "markdown",
      "metadata": {
        "id": "view-in-github",
        "colab_type": "text"
      },
      "source": [
        "<a href=\"https://colab.research.google.com/github/prometheus404/AMD_project/blob/main/main.ipynb\" target=\"_parent\"><img src=\"https://colab.research.google.com/assets/colab-badge.svg\" alt=\"Open In Colab\"/></a>"
      ]
    },
    {
      "cell_type": "code",
      "execution_count": 1,
      "metadata": {
        "id": "LFnT2MWe1IPx"
      },
      "outputs": [],
      "source": [
        "##### DOWNLOAD DATASET #####\n",
        "from IPython.display import clear_output\n",
        "from google.colab import files\n",
        "files.upload()\n",
        "!ls -lha kaggle.json\n",
        "!pip install -q kaggle # installing the kaggle package\n",
        "!mkdir -p ~/.kaggle # creating .kaggle folder where the key should be placed\n",
        "!cp kaggle.json ~/.kaggle/ # move the key to the folder\n",
        "!pwd # checking the present working directory\n",
        "!chmod 600 ~/.kaggle/kaggle.json\n",
        "\n",
        "!kaggle datasets download -d gsimonx37/letterboxd\n",
        "!unzip /content/letterboxd.zip -d /content/letterbox/\n",
        "clear_output()\n",
        "############################"
      ]
    },
    {
      "cell_type": "code",
      "source": [
        "########### SPARK CONTEXT #####################\n",
        "import pandas as pd\n",
        "import itertools\n",
        "from tqdm import tqdm\n",
        "import time\n",
        "\n",
        "!apt-get install openjdk-8-jdk-headless -qq > /dev/null\n",
        "!wget -q http://archive.apache.org/dist/spark/spark-3.1.1/spark-3.1.1-bin-hadoop3.2.tgz\n",
        "!tar xf spark-3.1.1-bin-hadoop3.2.tgz\n",
        "!pip install -q findspark\n",
        "\n",
        "import os\n",
        "os.environ[\"JAVA_HOME\"] = \"/usr/lib/jvm/java-8-openjdk-amd64\"\n",
        "os.environ[\"SPARK_HOME\"] = \"/content/spark-3.1.1-bin-hadoop3.2\"\n",
        "\n",
        "import findspark\n",
        "findspark.init()\n",
        "from pyspark.sql import SparkSession\n",
        "spark = SparkSession.builder.master(\"local[*]\").getOrCreate()\n",
        "spark.conf.set(\"spark.sql.repl.eagerEval.enabled\", True) # Property used to format output tables better\n",
        "\n",
        "sc = spark.sparkContext\n",
        "###############################################"
      ],
      "metadata": {
        "id": "FPDSHZ_ydWnr"
      },
      "execution_count": 2,
      "outputs": []
    },
    {
      "cell_type": "code",
      "source": [
        "N_BASKETS = 0       #0 for full dataset\n",
        "SPARK_CREATION = False  #initialize the RDD using spark instead of pandas to read the file\n",
        "\n",
        "############## BASKET CREATION ################\n",
        "if(SPARK_CREATION == False):\n",
        "  actors = pd.read_csv(\"letterbox/actors.csv\")\n",
        "  actors = actors\n",
        "  baskets = actors.groupby(\"id\")[\"name\"].apply(list)\n",
        "  if(N_BASKETS > 0):\n",
        "    baskets = baskets.sample(N_BASKETS, random_state = 42)\n",
        "\n",
        "  print(\"number of baskets: \" + str(len(baskets)))\n",
        "  print(\"biggest basket: \" + str(baskets.map(len).max()))\n",
        "  print(baskets)\n",
        "  baskets_RDD = sc.parallelize(baskets).cache()\n",
        "else:\n",
        "  RDD = sc.textFile(\"letterbox/actors.csv\").map(lambda x: tuple(x.split(',')[:2])) #read from csv and split\n",
        "  RDD = RDD.filter(lambda x: x != ('id','name')) #filter out the header\n",
        "  RDD = RDD.groupByKey().mapValues(list).values()\n",
        "  if(N_BASKETS > 0):\n",
        "    baskets_RDD = RDD.sample(False, N_BASKETS, seed = 42).cache() #fixed but different for each iteration seed\n",
        "  else:\n",
        "    baskets_RDD = RDD.cache()\n",
        "##############################################"
      ],
      "metadata": {
        "id": "7S860HiwhKp1",
        "colab": {
          "base_uri": "https://localhost:8080/"
        },
        "outputId": "3d8f4eba-593e-4bd5-a31f-c430c7220056"
      },
      "execution_count": 8,
      "outputs": [
        {
          "output_type": "stream",
          "name": "stdout",
          "text": [
            "number of baskets: 634302\n",
            "biggest basket: 555\n",
            "id\n",
            "1000001    [Margot Robbie, Ryan Gosling, America Ferrera,...\n",
            "1000002    [Song Kang-ho, Lee Sun-kyun, Cho Yeo-jeong, Ch...\n",
            "1000003    [Michelle Yeoh, Ke Huy Quan, Stephanie Hsu, Ja...\n",
            "1000004    [Edward Norton, Brad Pitt, Helena Bonham Carte...\n",
            "1000005    [Ryan Gosling, Emma Stone, John Legend, Rosema...\n",
            "                                 ...                        \n",
            "1941559                                                 [黑灯]\n",
            "1941563    [Kara Wai Ying-Hung, Zhang Youhao, Pan Binlong...\n",
            "1941589                                                [王军锋]\n",
            "1941596    [Nick Cheung, Ethan Juan, Sandrine Pinna, Marc...\n",
            "1941597                      [Hiroshi Mikami, Keiko Oginome]\n",
            "Name: name, Length: 634302, dtype: object\n"
          ]
        }
      ]
    },
    {
      "cell_type": "code",
      "source": [
        "## APRIORI\n",
        "def apriori(chunk, s, tot_bsk):\n",
        "\n",
        "  n_bsk = 0 # number of baskets in chunk used to calculate support\n",
        "#  trsl = dict() # using a translation could be better for the combination step\n",
        "  count = dict() # should be relatively efficient since is a hash table\n",
        "\n",
        "#\n",
        "#  def translate(e, dic):\n",
        "#    try:\n",
        "#      return dic[e]\n",
        "#    except KeyError:\n",
        "#      dic[e] = len(dic)+1\n",
        "#      return dic[e]\n",
        "  def incr(e,dic):\n",
        "    try:\n",
        "      dic[e] += 1;\n",
        "    except KeyError:\n",
        "      dic[e] = 1\n",
        "\n",
        "  chunk = list(chunk) # to avoid consuming after first pass\n",
        "  ### first pass\n",
        "  for bsk in chunk:\n",
        "    n_bsk += 1;\n",
        "    #elements = [translate(x,trsl) for x in bsk]\n",
        "    for b in bsk:\n",
        "      incr(b,count)\n",
        "\n",
        "  ### filter\n",
        "  to_del = []\n",
        "  frequent = []\n",
        "  for c in count:\n",
        "    if count[c] >= s* n_bsk/tot_bsk:\n",
        "      frequent.append(c)\n",
        "\n",
        "  k = 2\n",
        "  while len(frequent) > 0:\n",
        "    count = dict()\n",
        "\n",
        "    for bsk in tqdm(chunk):\n",
        "      #filter only members of C_k\n",
        "      filtered = set()\n",
        "      for b in bsk:\n",
        "        for f in frequent:\n",
        "          if k== 2 and b == f:\n",
        "            filtered.add(b)\n",
        "            break;\n",
        "          if k > 2 and b in f:\n",
        "          #if b in f:\n",
        "            filtered.add(b)\n",
        "            break;\n",
        "      bsk = list(filtered)\n",
        "      bsk.sort()\n",
        "      for tpl in itertools.combinations(bsk, k):\n",
        "          incr(tuple(tpl), count)\n",
        "\n",
        "    frequent = []\n",
        "    for c in count:\n",
        "      if count[c] >= s * n_bsk/tot_bsk:\n",
        "        frequent.append(c)\n",
        "        yield(c,1)\n",
        "    k+=1\n"
      ],
      "metadata": {
        "id": "RieQuIkAo7c_"
      },
      "execution_count": 10,
      "outputs": []
    },
    {
      "cell_type": "code",
      "source": [
        "## SON\n",
        "def son(rdd,s,tot):\n",
        "  def chunk_support(chunk,itemset):\n",
        "    def incr(e,dic):\n",
        "      try:\n",
        "        dic[e] += 1;\n",
        "      except KeyError:\n",
        "        dic[e] = 1\n",
        "\n",
        "    count = dict()\n",
        "    for bsk in tqdm(chunk):\n",
        "      for i in itemset:\n",
        "        flag = True\n",
        "        for e in i:\n",
        "          if e not in bsk:\n",
        "            flag = False\n",
        "            break\n",
        "        if flag:\n",
        "          incr(i,count)\n",
        "    for c in count:\n",
        "      yield (c,count[c])\n",
        "\n",
        "  t= time.time()\n",
        "  #FIRST STEP\n",
        "  candidates = rdd.mapPartitions(lambda x: apriori(x,s,tot)).reduceByKey(lambda a,b: a).keys().collect()\n",
        "  #SECOND STEP\n",
        "  out =  rdd.mapPartitions(lambda x: chunk_support(x, candidates)).reduceByKey(lambda a,b: a+b).filter(lambda a: a[1] >= s).keys().collect()\n",
        "  t = time.time() - t\n",
        "  return (t,out)\n"
      ],
      "metadata": {
        "id": "t7SPM_7SZuQW"
      },
      "execution_count": 6,
      "outputs": []
    },
    {
      "cell_type": "code",
      "source": [
        "son(baskets_RDD, 100, len(baskets))"
      ],
      "metadata": {
        "colab": {
          "base_uri": "https://localhost:8080/"
        },
        "id": "8iuXrJuYhMWu",
        "outputId": "2f39dae0-479e-4881-cd8c-8bf74df41e8b",
        "collapsed": true
      },
      "execution_count": 11,
      "outputs": [
        {
          "output_type": "execute_result",
          "data": {
            "text/plain": [
              "(6057.770021677017,\n",
              " [('Bess Flowers', 'Harold Miller'),\n",
              "  ('George Harrison', 'John Lennon'),\n",
              "  ('George Harrison', 'Paul McCartney'),\n",
              "  ('John Lennon', 'Paul McCartney'),\n",
              "  ('George Harrison', 'John Lennon', 'Ringo Starr'),\n",
              "  ('George Harrison', 'Paul McCartney', 'Ringo Starr'),\n",
              "  ('John Lennon', 'Paul McCartney', 'Ringo Starr'),\n",
              "  ('Eddie Vedder', 'Stone Gossard'),\n",
              "  ('Jeff Ament', 'Matt Cameron'),\n",
              "  ('Eddie Vedder', 'Jeff Ament', 'Stone Gossard'),\n",
              "  ('Eddie Vedder', 'Matt Cameron', 'Stone Gossard'),\n",
              "  ('Eddie Vedder', 'Jeff Ament', 'Matt Cameron', 'Stone Gossard'),\n",
              "  ('Hitoshi Ozawa', 'Yoshiyuki Yamaguchi'),\n",
              "  ('James Hetfield', 'Kirk Hammett'),\n",
              "  ('James Hetfield', 'Lars Ulrich'),\n",
              "  ('Kirk Hammett', 'Lars Ulrich'),\n",
              "  ('Jack Mercer', 'Mae Questel'),\n",
              "  ('Jack Mercer', 'Jackson Beck'),\n",
              "  ('Jeff Ament', 'Mike McCready'),\n",
              "  ('Matt Cameron', 'Mike McCready'),\n",
              "  ('Eddie Vedder', 'Mike McCready', 'Stone Gossard'),\n",
              "  ('Jeff Ament', 'Matt Cameron', 'Mike McCready'),\n",
              "  ('Eddie Vedder', 'Jeff Ament', 'Mike McCready', 'Stone Gossard'),\n",
              "  ('Eddie Vedder', 'Matt Cameron', 'Mike McCready', 'Stone Gossard'),\n",
              "  ('Eddie Vedder',\n",
              "   'Jeff Ament',\n",
              "   'Matt Cameron',\n",
              "   'Mike McCready',\n",
              "   'Stone Gossard'),\n",
              "  ('Curly Howard', 'Moe Howard'),\n",
              "  ('Curly Howard', 'Larry Fine', 'Moe Howard'),\n",
              "  ('Goundamani', 'Senthil'),\n",
              "  ('Bebe Daniels', \"Harry 'Snub' Pollard\"),\n",
              "  ('Bebe Daniels', 'Harold Lloyd', \"Harry 'Snub' Pollard\"),\n",
              "  ('Jagathy Sreekumar', 'Sukumari'),\n",
              "  ('Jagadish', 'Jagathy Sreekumar'),\n",
              "  ('Jagathy Sreekumar', 'Salim Kumar'),\n",
              "  ('Gilbert M. Anderson', 'Harry Todd'),\n",
              "  ('Adoor Bhasi', 'Prem Nazir'),\n",
              "  ('Ramana Maharshi', 'Sri Michael James'),\n",
              "  ('George Harrison', 'Ringo Starr'),\n",
              "  ('John Lennon', 'Ringo Starr'),\n",
              "  ('Paul McCartney', 'Ringo Starr'),\n",
              "  ('George Harrison', 'John Lennon', 'Paul McCartney'),\n",
              "  ('George Harrison', 'John Lennon', 'Paul McCartney', 'Ringo Starr'),\n",
              "  ('Gene Simmons', 'Paul Stanley'),\n",
              "  ('Larry Fine', 'Moe Howard'),\n",
              "  ('Eddie Vedder', 'Jeff Ament'),\n",
              "  ('Eddie Vedder', 'Matt Cameron'),\n",
              "  ('Jeff Ament', 'Stone Gossard'),\n",
              "  ('Matt Cameron', 'Stone Gossard'),\n",
              "  ('Eddie Vedder', 'Jeff Ament', 'Matt Cameron'),\n",
              "  ('Jeff Ament', 'Matt Cameron', 'Stone Gossard'),\n",
              "  ('Oliver Hardy', 'Stan Laurel'),\n",
              "  ('James Hetfield', 'Kirk Hammett', 'Lars Ulrich'),\n",
              "  ('Yasukaze Motomiya', 'Yoshiyuki Yamaguchi'),\n",
              "  ('Brahmanandam', 'Tanikella Bharani'),\n",
              "  ('Eddie Vedder', 'Mike McCready'),\n",
              "  ('Mike McCready', 'Stone Gossard'),\n",
              "  ('Eddie Vedder', 'Jeff Ament', 'Mike McCready'),\n",
              "  ('Eddie Vedder', 'Matt Cameron', 'Mike McCready'),\n",
              "  ('Jeff Ament', 'Mike McCready', 'Stone Gossard'),\n",
              "  ('Matt Cameron', 'Mike McCready', 'Stone Gossard'),\n",
              "  ('Eddie Vedder', 'Jeff Ament', 'Matt Cameron', 'Mike McCready'),\n",
              "  ('Jeff Ament', 'Matt Cameron', 'Mike McCready', 'Stone Gossard'),\n",
              "  ('Ciccio Ingrassia', 'Franco Franchi'),\n",
              "  ('Ali Basha', 'Brahmanandam'),\n",
              "  ('Curly Howard', 'Larry Fine'),\n",
              "  ('Brahmanandam', 'Kota Srinivasa Rao'),\n",
              "  ('Brahmanandam', 'M. S. Narayana'),\n",
              "  ('Bebe Daniels', 'Harold Lloyd'),\n",
              "  ('Harold Lloyd', \"Harry 'Snub' Pollard\"),\n",
              "  ('Jagathy Sreekumar', 'Mohanlal'),\n",
              "  ('Mohanlal', 'Sukumari'),\n",
              "  ('Innocent', 'Jagathy Sreekumar'),\n",
              "  ('Jagathy Sreekumar', 'Nedumudi Venu'),\n",
              "  ('Hitoshi Ozawa', 'Yasukaze Motomiya'),\n",
              "  ('Mammootty', 'Sukumari'),\n",
              "  ('Kader Khan', 'Shakti Kapoor'),\n",
              "  ('Harry Todd', 'Victor Potel'),\n",
              "  ('Jan W. Speerger', 'Theodor Pištěk'),\n",
              "  ('Fred Church', 'Gilbert M. Anderson'),\n",
              "  ('Gerda Steiner', 'Peter Steiner')])"
            ]
          },
          "metadata": {},
          "execution_count": 11
        }
      ]
    },
    {
      "cell_type": "code",
      "source": [
        "# NOTE it's important to change seed even with different fractions\n",
        "# tmp2 = sc.parallelize(range(0,1000))\n",
        "# print(tmp2.sample(False,fraction=0.001, seed = 42).collect()) # output: [115,385]\n",
        "# print(tmp2.sample(False,fraction=0.002, seed = 42).collect()) # output: [115, 359, 385]\n",
        "# print(tmp2.sample(False,fraction=0.003, seed = 42).collect()) # output: [115, 359, 385]"
      ],
      "metadata": {
        "id": "jmprJUIU9p2p",
        "outputId": "88680b25-d315-42bb-9739-59954a723ee1",
        "colab": {
          "base_uri": "https://localhost:8080/"
        }
      },
      "execution_count": null,
      "outputs": [
        {
          "output_type": "stream",
          "name": "stdout",
          "text": [
            "[115, 385]\n",
            "[115, 359, 385]\n",
            "[115, 359, 385]\n"
          ]
        }
      ]
    },
    {
      "cell_type": "code",
      "source": [
        "#RDD = sc.textFile(\"letterbox/actors.csv\").map(lambda x: tuple(x.split(','))) #read from csv and split\n",
        "#RDD = RDD.filter(lambda x: x != ('id','name')) #filter out the header\n",
        "##construct dictionary for translation\n",
        "#RDD_dict = RDD.sortBy(lambda x: x[1]).values().distinct().zipWithIndex() # not zipWithUniquenId since we could need gap-less id\n",
        "#RDD = RDD.map(lambda x: (x[1],x[0])) #invert keys with values in order to perform the join over the actor name\n",
        "#RDD = RDD.join(RDD_dict).map(lambda x: (x[1][0],x[1][1])) #join and use as key the movie and as value the actor id\n",
        "#RDD = RDD.groupByKey().mapValues(list).values().cache() #create the baskets and cache them\n",
        "\n",
        "##sample RDD and save the results\n",
        "#for i in tqdm(range(10000, 60000, 10000)):\n",
        "#  sampled_RDD = RDD.takeSample(False, i, seed = i) #fixed but different for each iteration seed\n",
        "#  #sampled_RDD.saveAsTextFile(\"./rdd-\"+str(i)+\".csv\")\n",
        "#  print(son(sampled_RDD,15,sampled_RDD.count()))\n",
        "#recover from memory\n",
        "#for i in tqdm(range(10000,60000,10000)):\n",
        "#  x = sc.textFile(\"rdd-\"+str(i)+\".csv/\")\n",
        "#  x = x.map(lambda s: s[1:-1].split(',')).map(lambda s: [int(i) for i in s])\n",
        "#  son(x,6,i)"
      ],
      "metadata": {
        "id": "X58EtOxn-a1f"
      },
      "execution_count": null,
      "outputs": []
    },
    {
      "cell_type": "markdown",
      "source": [
        "# Time and different dataset size"
      ],
      "metadata": {
        "id": "ywQoyrkfDhfK"
      }
    },
    {
      "cell_type": "code",
      "source": [
        "actors = pd.read_csv(\"letterbox/actors.csv\")\n",
        "actors = actors\n",
        "baskets_full = actors.groupby(\"id\")[\"name\"].apply(list)\n",
        "r = range(1,10)\n",
        "S = 6\n",
        "step = 5000"
      ],
      "metadata": {
        "id": "-yuSQqDYEDIB"
      },
      "execution_count": null,
      "outputs": []
    },
    {
      "cell_type": "code",
      "source": [
        "#TIME WITH DIFFERENT DATASET SIZE APRIORI\n",
        "apriori_results = []\n",
        "apriori_times = []\n",
        "for i in r:\n",
        "  baskets = baskets_full.sample(i*step, random_state = i)\n",
        "  #RDD = sc.parallelize(baskets)\n",
        "  result = []\n",
        "  t = time.time()\n",
        "  for i,_ in apriori(baskets,S,i*step):\n",
        "    result.append(i)\n",
        "  apriori_times.append(time.time()-t)\n",
        "  apriori_results.append(result)"
      ],
      "metadata": {
        "collapsed": true,
        "id": "X021FPpFD0we",
        "outputId": "4080e34a-480c-424b-ebab-53e7d2e6c433",
        "colab": {
          "base_uri": "https://localhost:8080/"
        }
      },
      "execution_count": null,
      "outputs": [
        {
          "output_type": "stream",
          "name": "stderr",
          "text": [
            "100%|██████████| 5000/5000 [00:00<00:00, 61113.84it/s]\n",
            "100%|██████████| 10000/10000 [00:01<00:00, 5381.62it/s]\n",
            "100%|██████████| 10000/10000 [00:00<00:00, 93271.42it/s]\n",
            "100%|██████████| 10000/10000 [00:00<00:00, 128282.65it/s]\n",
            "100%|██████████| 15000/15000 [00:06<00:00, 2269.39it/s]\n",
            "100%|██████████| 15000/15000 [00:00<00:00, 129901.26it/s]\n",
            "100%|██████████| 15000/15000 [00:00<00:00, 202740.91it/s]\n",
            "100%|██████████| 20000/20000 [00:22<00:00, 890.23it/s] \n",
            "100%|██████████| 20000/20000 [00:00<00:00, 81855.01it/s]\n",
            "100%|██████████| 20000/20000 [00:00<00:00, 209372.88it/s]\n",
            "100%|██████████| 25000/25000 [01:04<00:00, 389.76it/s]\n",
            "100%|██████████| 25000/25000 [00:00<00:00, 25074.34it/s]\n",
            "100%|██████████| 25000/25000 [00:00<00:00, 44337.33it/s]\n",
            "100%|██████████| 25000/25000 [00:00<00:00, 88944.31it/s]\n",
            "100%|██████████| 25000/25000 [00:00<00:00, 191740.31it/s]\n",
            "100%|██████████| 30000/30000 [02:09<00:00, 231.95it/s]\n",
            "100%|██████████| 30000/30000 [00:01<00:00, 16053.98it/s]\n",
            "100%|██████████| 30000/30000 [00:00<00:00, 37668.70it/s]\n",
            "100%|██████████| 30000/30000 [00:00<00:00, 53635.30it/s]\n",
            "100%|██████████| 30000/30000 [00:00<00:00, 103552.15it/s]\n",
            "100%|██████████| 30000/30000 [00:00<00:00, 194151.08it/s]\n",
            "100%|██████████| 35000/35000 [03:50<00:00, 151.94it/s]\n",
            "100%|██████████| 35000/35000 [00:04<00:00, 7632.77it/s]\n",
            "100%|██████████| 35000/35000 [00:02<00:00, 14658.85it/s]\n",
            "100%|██████████| 35000/35000 [00:01<00:00, 18973.35it/s]\n",
            "100%|██████████| 35000/35000 [00:01<00:00, 33224.51it/s]\n",
            "100%|██████████| 35000/35000 [00:00<00:00, 76558.51it/s]\n",
            "100%|██████████| 35000/35000 [00:00<00:00, 190614.78it/s]\n",
            "100%|██████████| 40000/40000 [05:55<00:00, 112.59it/s]\n",
            "100%|██████████| 40000/40000 [00:06<00:00, 6558.53it/s]\n",
            "100%|██████████| 40000/40000 [00:01<00:00, 20161.75it/s]\n",
            "100%|██████████| 40000/40000 [00:00<00:00, 40876.51it/s]\n",
            "100%|██████████| 40000/40000 [00:00<00:00, 100655.67it/s]\n",
            "100%|██████████| 40000/40000 [00:00<00:00, 194943.14it/s]\n",
            "100%|██████████| 45000/45000 [08:32<00:00, 87.77it/s] \n",
            "100%|██████████| 45000/45000 [00:11<00:00, 3909.42it/s]\n",
            "100%|██████████| 45000/45000 [00:03<00:00, 11737.48it/s]\n",
            "100%|██████████| 45000/45000 [00:01<00:00, 27555.25it/s]\n",
            "100%|██████████| 45000/45000 [00:00<00:00, 102228.29it/s]\n",
            "100%|██████████| 45000/45000 [00:00<00:00, 185506.41it/s]\n"
          ]
        }
      ]
    },
    {
      "cell_type": "code",
      "source": [
        "# TIME WITH DIFFERENT DATASET SIZE SON\n",
        "son_results = []\n",
        "son_times = []\n",
        "for i in r:\n",
        "  baskets = baskets_full.sample(i*step, random_state = i)\n",
        "  RDD = sc.parallelize(baskets)\n",
        "  t, result = son(RDD,S,i*step)\n",
        "  son_results.append(result)\n",
        "  son_times.append(t)"
      ],
      "metadata": {
        "id": "2WHKI9pasqDX"
      },
      "execution_count": null,
      "outputs": []
    },
    {
      "cell_type": "code",
      "source": [
        "import matplotlib.pyplot as plt\n",
        "#plt.plot(list([step*x for x in r]), apriori_times)\n",
        "plt.plot(list([step*x for x in r]), son_times)\n",
        "#plt.legend(['apriori','SON'])\n",
        "plt.ylabel('time')\n",
        "plt.xlabel('entries')\n",
        "plt.show()"
      ],
      "metadata": {
        "id": "vDaeGQCSFmWz",
        "outputId": "fbe9e69e-5cfc-420f-f523-83914d156152",
        "colab": {
          "base_uri": "https://localhost:8080/",
          "height": 449
        }
      },
      "execution_count": null,
      "outputs": [
        {
          "output_type": "display_data",
          "data": {
            "text/plain": [
              "<Figure size 640x480 with 1 Axes>"
            ],
            "image/png": "[encoded data removed]"
          },
          "metadata": {}
        }
      ]
    },
    {
      "cell_type": "code",
      "source": [
        "# NUMBER OF FREQUENT ITEMSETS FOR EACH SIZE\n",
        "def itemset_size(itemsets):\n",
        "  out = []\n",
        "  for s in itemsets:\n",
        "    tmp = []\n",
        "    for i in range(2,8):\n",
        "      n = len([x for x in s if len(x) == i])\n",
        "      if n == 0:\n",
        "        break\n",
        "      tmp.append((i,n))\n",
        "    out.append(tmp)\n",
        "  return out\n",
        "\n",
        "sz = itemset_size(apriori_results)\n",
        "for i in r:\n",
        "  print('size ' + str(i * step) + ': ')\n",
        "  for e in sz[i-1]:\n",
        "    print(str(e[0])+'-ples: ' + str(e[1]))"
      ],
      "metadata": {
        "id": "n56VwBReQIvv",
        "outputId": "ea8bd3f2-cfb5-4428-d67c-fee0c041b9c9",
        "colab": {
          "base_uri": "https://localhost:8080/"
        }
      },
      "execution_count": null,
      "outputs": [
        {
          "output_type": "stream",
          "name": "stdout",
          "text": [
            "size 5000: \n",
            "size 10000: \n",
            "2-ples: 4\n",
            "3-ples: 1\n",
            "size 15000: \n",
            "2-ples: 6\n",
            "3-ples: 1\n",
            "size 20000: \n",
            "2-ples: 11\n",
            "3-ples: 1\n",
            "size 25000: \n",
            "2-ples: 61\n",
            "3-ples: 26\n",
            "4-ples: 8\n",
            "5-ples: 1\n",
            "size 30000: \n",
            "2-ples: 100\n",
            "3-ples: 32\n",
            "4-ples: 17\n",
            "5-ples: 6\n",
            "6-ples: 1\n",
            "size 35000: \n",
            "2-ples: 198\n",
            "3-ples: 93\n",
            "4-ples: 61\n",
            "5-ples: 28\n",
            "6-ples: 8\n",
            "7-ples: 1\n",
            "size 40000: \n",
            "2-ples: 219\n",
            "3-ples: 65\n",
            "4-ples: 25\n",
            "5-ples: 6\n",
            "6-ples: 1\n",
            "size 45000: \n",
            "2-ples: 299\n",
            "3-ples: 65\n",
            "4-ples: 23\n",
            "5-ples: 6\n",
            "6-ples: 1\n"
          ]
        }
      ]
    },
    {
      "cell_type": "code",
      "source": [
        "print(apriori_times)\n",
        "print(son_times)"
      ],
      "metadata": {
        "id": "13YmELowlgHp",
        "outputId": "2c29279b-48c9-40c6-98e7-e35505026e18",
        "colab": {
          "base_uri": "https://localhost:8080/"
        }
      },
      "execution_count": null,
      "outputs": [
        {
          "output_type": "stream",
          "name": "stdout",
          "text": [
            "[0.1856381893157959, 2.271298408508301, 7.10997462272644, 23.074941396713257, 66.4765739440918, 133.45536708831787, 241.44379496574402, 365.7041611671448, 531.0825428962708]\n",
            "[1.0585579872131348, 3.629045009613037, 15.35119366645813, 38.14787030220032, 68.71897578239441, 125.11725354194641, 288.3468313217163, 328.16686820983887, 574.5382564067841]\n"
          ]
        }
      ]
    },
    {
      "cell_type": "markdown",
      "source": [
        "# Time and different suppord threshold"
      ],
      "metadata": {
        "id": "UaGih7c3Dqvo"
      }
    },
    {
      "cell_type": "code",
      "source": [
        "r = 100000\n",
        "S = range(10,30,3)\n",
        "step = 5000\n",
        "baskets = baskets_full.sample(r, random_state = 42)"
      ],
      "metadata": {
        "id": "7RB51pKBnUzT"
      },
      "execution_count": null,
      "outputs": []
    },
    {
      "cell_type": "code",
      "source": [
        "#TIME WITH DIFFERENT DATASET SUPPORT THRESHOLD APRIORI\n",
        "apriori_results = []\n",
        "apriori_times = []\n",
        "for s in S:\n",
        "  result = []\n",
        "  t = time.time()\n",
        "  for i,_ in apriori(baskets,s,r):\n",
        "    result.append(i)\n",
        "  apriori_times.append(time.time()-t)\n",
        "  apriori_results.append(result)"
      ],
      "metadata": {
        "collapsed": true,
        "id": "268ta8Z9nI6u",
        "outputId": "ef03fc61-10ca-4f55-ce0e-aff7317f680a",
        "colab": {
          "base_uri": "https://localhost:8080/"
        }
      },
      "execution_count": null,
      "outputs": [
        {
          "output_type": "stream",
          "name": "stderr",
          "text": [
            "100%|██████████| 100000/100000 [29:08<00:00, 57.18it/s]\n",
            "100%|██████████| 100000/100000 [00:36<00:00, 2734.50it/s]\n",
            "100%|██████████| 100000/100000 [00:07<00:00, 12513.83it/s]\n",
            "100%|██████████| 100000/100000 [00:02<00:00, 38381.88it/s]\n",
            "100%|██████████| 100000/100000 [00:01<00:00, 94737.08it/s]\n",
            "100%|██████████| 100000/100000 [00:00<00:00, 194824.84it/s]\n",
            "100%|██████████| 100000/100000 [15:06<00:00, 110.37it/s]\n",
            "100%|██████████| 100000/100000 [00:10<00:00, 9521.07it/s]\n",
            "100%|██████████| 100000/100000 [00:04<00:00, 20198.83it/s]\n",
            "100%|██████████| 100000/100000 [00:03<00:00, 32330.84it/s]\n",
            "100%|██████████| 100000/100000 [00:01<00:00, 69601.77it/s]\n",
            "100%|██████████| 100000/100000 [00:00<00:00, 136579.66it/s]\n",
            "100%|██████████| 100000/100000 [08:29<00:00, 196.33it/s]\n",
            "100%|██████████| 100000/100000 [00:07<00:00, 13998.76it/s]\n",
            "100%|██████████| 100000/100000 [00:03<00:00, 27345.46it/s]\n",
            "100%|██████████| 100000/100000 [00:02<00:00, 37863.54it/s]\n",
            "100%|██████████| 100000/100000 [00:01<00:00, 63867.74it/s]\n",
            "100%|██████████| 100000/100000 [00:00<00:00, 197311.04it/s]\n",
            "100%|██████████| 100000/100000 [04:50<00:00, 344.10it/s]\n",
            "100%|██████████| 100000/100000 [00:02<00:00, 47214.46it/s]\n",
            "100%|██████████| 100000/100000 [00:00<00:00, 117908.11it/s]\n",
            "100%|██████████| 100000/100000 [00:00<00:00, 199421.94it/s]\n",
            "100%|██████████| 100000/100000 [02:54<00:00, 572.28it/s]\n",
            "100%|██████████| 100000/100000 [00:01<00:00, 68491.59it/s]\n",
            "100%|██████████| 100000/100000 [00:00<00:00, 116989.60it/s]\n",
            "100%|██████████| 100000/100000 [00:00<00:00, 194552.46it/s]\n",
            "100%|██████████| 100000/100000 [01:40<00:00, 994.54it/s]\n",
            "100%|██████████| 100000/100000 [00:01<00:00, 54398.02it/s]\n",
            "100%|██████████| 100000/100000 [00:01<00:00, 80338.74it/s]\n",
            "100%|██████████| 100000/100000 [00:00<00:00, 145873.46it/s]\n",
            "100%|██████████| 100000/100000 [01:00<00:00, 1654.90it/s]\n",
            "100%|██████████| 100000/100000 [00:01<00:00, 73284.02it/s]\n",
            "100%|██████████| 100000/100000 [00:00<00:00, 148547.03it/s]\n"
          ]
        }
      ]
    },
    {
      "cell_type": "code",
      "source": [
        "# TIME WITH DIFFERENT DATASET SUPPORT THRESHOLD SON\n",
        "son_results = []\n",
        "son_times = []\n",
        "RDD = sc.parallelize(baskets)\n",
        "for s in S:\n",
        "  t, result = son(RDD,s,r)\n",
        "  son_results.append(result)\n",
        "  son_times.append(t)"
      ],
      "metadata": {
        "id": "nmeeVsgrn5Lj"
      },
      "execution_count": null,
      "outputs": []
    },
    {
      "cell_type": "code",
      "source": [
        "#plt.plot(list(S), apriori_times)\n",
        "plt.plot(list(S), son_times)\n",
        "#plt.legend(['apriori','SON'])\n",
        "plt.ylabel('time')\n",
        "plt.xlabel('support threshold')\n",
        "plt.show()"
      ],
      "metadata": {
        "id": "PKYA2FvQoB7_",
        "outputId": "f646578c-f273-4164-be62-fe20e1c2a169",
        "colab": {
          "base_uri": "https://localhost:8080/",
          "height": 449
        }
      },
      "execution_count": null,
      "outputs": [
        {
          "output_type": "display_data",
          "data": {
            "text/plain": [
              "<Figure size 640x480 with 1 Axes>"
            ],
            "image/png": "[encoded data removed]"
          },
          "metadata": {}
        }
      ]
    },
    {
      "cell_type": "markdown",
      "source": [
        "# Time and different partition number"
      ],
      "metadata": {
        "id": "_2ODfDNbNXtm"
      }
    },
    {
      "cell_type": "code",
      "source": [
        "r = 100000\n",
        "S = 25\n",
        "\n",
        "tp_results = []\n",
        "tp_times = []\n",
        "partitions = range(1,6)\n",
        "for p in partitions:\n",
        "  spark = SparkSession.builder.master(\"local[\"+str(p)+\"]\").getOrCreate()\n",
        "  spark.conf.set(\"spark.sql.repl.eagerEval.enabled\", True) # Property used to format output tables better\n",
        "  sc = spark.sparkContext\n",
        "  RDD = sc.parallelize(baskets)\n",
        "  t, result = son(RDD,S,r)\n",
        "  tp_results.append(result)\n",
        "  tp_times.append(t)\n",
        "\n"
      ],
      "metadata": {
        "id": "GTOq34BNN9Ri"
      },
      "execution_count": null,
      "outputs": []
    },
    {
      "cell_type": "code",
      "source": [
        "plt.plot(list(partitions), tp_times)\n",
        "plt.ylabel('time')\n",
        "plt.xlabel('partitions')\n",
        "plt.show()"
      ],
      "metadata": {
        "id": "nd51DizfNhx9",
        "outputId": "1d3ebc08-f4e0-4bb7-9235-5ba74ae236b0",
        "colab": {
          "base_uri": "https://localhost:8080/",
          "height": 449
        }
      },
      "execution_count": null,
      "outputs": [
        {
          "output_type": "display_data",
          "data": {
            "text/plain": [
              "<Figure size 640x480 with 1 Axes>"
            ],
            "image/png": "[encoded data removed]"
          },
          "metadata": {}
        }
      ]
    },
    {
      "cell_type": "code",
      "source": [],
      "metadata": {
        "id": "OPpBoT55ZMty"
      },
      "execution_count": null,
      "outputs": []
    }
  ]
}