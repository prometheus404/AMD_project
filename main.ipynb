{
  "nbformat": 4,
  "nbformat_minor": 0,
  "metadata": {
    "colab": {
      "provenance": [],
      "include_colab_link": true
    },
    "kernelspec": {
      "name": "python3",
      "display_name": "Python 3"
    },
    "language_info": {
      "name": "python"
    }
  },
  "cells": [
    {
      "cell_type": "markdown",
      "metadata": {
        "id": "view-in-github",
        "colab_type": "text"
      },
      "source": [
        "<a href=\"https://colab.research.google.com/github/prometheus404/AMD_project/blob/main/main.ipynb\" target=\"_parent\"><img src=\"https://colab.research.google.com/assets/colab-badge.svg\" alt=\"Open In Colab\"/></a>"
      ]
    },
    {
      "cell_type": "code",
      "execution_count": 1,
      "metadata": {
        "id": "LFnT2MWe1IPx"
      },
      "outputs": [],
      "source": [
        "##### DOWNLOAD DATASET #####\n",
        "from IPython.display import clear_output\n",
        "from google.colab import files\n",
        "files.upload()\n",
        "!ls -lha kaggle.json\n",
        "!pip install -q kaggle # installing the kaggle package\n",
        "!mkdir -p ~/.kaggle # creating .kaggle folder where the key should be placed\n",
        "!cp kaggle.json ~/.kaggle/ # move the key to the folder\n",
        "!pwd # checking the present working directory\n",
        "!chmod 600 ~/.kaggle/kaggle.json\n",
        "\n",
        "!kaggle datasets download -d gsimonx37/letterboxd\n",
        "!unzip /content/letterboxd.zip -d /content/letterbox/\n",
        "clear_output()\n",
        "############################"
      ]
    },
    {
      "cell_type": "code",
      "source": [
        "########### SPARK CONTEXT #####################\n",
        "!apt-get install openjdk-8-jdk-headless -qq > /dev/null\n",
        "!wget -q http://archive.apache.org/dist/spark/spark-3.1.1/spark-3.1.1-bin-hadoop3.2.tgz\n",
        "!tar xf spark-3.1.1-bin-hadoop3.2.tgz\n",
        "!pip install -q findspark\n",
        "\n",
        "import os\n",
        "os.environ[\"JAVA_HOME\"] = \"/usr/lib/jvm/java-8-openjdk-amd64\"\n",
        "os.environ[\"SPARK_HOME\"] = \"/content/spark-3.1.1-bin-hadoop3.2\"\n",
        "\n",
        "import findspark\n",
        "findspark.init()\n",
        "from pyspark.sql import SparkSession\n",
        "spark = SparkSession.builder.master(\"local[*]\").getOrCreate()\n",
        "spark.conf.set(\"spark.sql.repl.eagerEval.enabled\", True) # Property used to format output tables better\n",
        "\n",
        "sc = spark.sparkContext\n",
        "###############################################"
      ],
      "metadata": {
        "id": "FPDSHZ_ydWnr"
      },
      "execution_count": 1,
      "outputs": []
    },
    {
      "cell_type": "code",
      "source": [
        "import pandas as pd\n",
        "import itertools\n",
        "from tqdm import tqdm\n",
        "import time\n",
        "import matplotlib.pyplot as plt"
      ],
      "metadata": {
        "id": "TyHKNjUdt_Gk"
      },
      "execution_count": 17,
      "outputs": []
    },
    {
      "cell_type": "code",
      "source": [
        "N_BASKETS = 35000       #0 for full dataset\n",
        "SPARK_CREATION = False  #initialize the RDD using spark instead of pandas to read the file\n",
        "\n",
        "############## BASKET CREATION ################\n",
        "if(SPARK_CREATION == False):\n",
        "  actors = pd.read_csv(\"letterbox/actors.csv\")\n",
        "  actors = actors\n",
        "  baskets = actors.groupby(\"id\")[\"name\"].apply(list)\n",
        "  if(N_BASKETS > 0):\n",
        "    baskets = baskets.sample(N_BASKETS, random_state = 42)\n",
        "\n",
        "  print(\"number of baskets: \" + str(len(baskets)))\n",
        "  print(\"biggest basket: \" + str(baskets.map(len).max()))\n",
        "  print(baskets)\n",
        "  baskets_RDD = sc.parallelize(baskets).cache()\n",
        "  n_baskets = len(baskets)\n",
        "else:\n",
        "  RDD = sc.textFile(\"letterbox/actors.csv\").map(lambda x: tuple(x.split(',')[:2])) #read from csv and split\n",
        "  RDD = RDD.filter(lambda x: x != ('id','name')) #filter out the header\n",
        "  RDD = RDD.groupByKey().mapValues(list).values()\n",
        "  if(N_BASKETS > 0):\n",
        "    baskets_RDD = RDD.sample(False, N_BASKETS/RDD.count(), seed = 42).cache() #fixed but different for each iteration seed\n",
        "  else:\n",
        "    baskets_RDD = RDD.cache()\n",
        "  n_baskets = baskets_RDD.count()\n",
        "print(n_baskets)\n",
        "##############################################"
      ],
      "metadata": {
        "id": "7S860HiwhKp1",
        "colab": {
          "base_uri": "https://localhost:8080/"
        },
        "outputId": "a238876d-c604-4ce3-c002-74453394813b"
      },
      "execution_count": 3,
      "outputs": [
        {
          "output_type": "stream",
          "name": "stdout",
          "text": [
            "number of baskets: 35000\n",
            "biggest basket: 210\n",
            "id\n",
            "1850862                                   [Friedhelm Funkel]\n",
            "1189772    [Derek Jacobi, Kenneth Branagh, Richard Easton...\n",
            "1139390    [Dawn Murphy, Tina Krause, Gary Whitson, Deana...\n",
            "1645732                                          [Jake Ryan]\n",
            "1234913    [Nicoll Bacharach, Patrick B. Johnson, Robert ...\n",
            "                                 ...                        \n",
            "1373074    [Nathaniel Chi, Jim Lau, Yin Yin Liow, Cristia...\n",
            "1113433                         [Mel Blanc, Robert C. Bruce]\n",
            "1180017    [David Cardoso, Tássia Camargo, Helena Ramos, ...\n",
            "1516932      [Namit Das, Renuka Shahane, Rajeshwari Sachdev]\n",
            "1871260                                  [Feng Hu, Lu Yukun]\n",
            "Name: name, Length: 35000, dtype: object\n",
            "35000\n"
          ]
        }
      ]
    },
    {
      "cell_type": "code",
      "source": [
        "## APRIORI\n",
        "def apriori(chunk, s, tot_bsk):\n",
        "\n",
        "  n_bsk = 0 # number of baskets in chunk used to calculate support\n",
        "  count = dict() # should be relatively efficient since is a hash table\n",
        "\n",
        "  def incr(e,dic):\n",
        "    if e in dic:\n",
        "      dic[e] += 1\n",
        "    else:\n",
        "      dic[e] = 1\n",
        "\n",
        "  chunk = list(chunk) # to avoid consuming after first pass\n",
        "  ### first pass\n",
        "  for bsk in chunk:\n",
        "    n_bsk += 1;\n",
        "    #elements = [translate(x,trsl) for x in bsk]\n",
        "    for b in bsk:\n",
        "      incr(b,count)\n",
        "\n",
        "  ### filter\n",
        "  frequent = []\n",
        "  for c in count:\n",
        "    if count[c] >= s* n_bsk/tot_bsk:\n",
        "      frequent.append(c)\n",
        "\n",
        "  count = dict()\n",
        "  for bsk in tqdm(chunk):\n",
        "    #filter only members of C_2\n",
        "    bsk = [x for x in bsk if x in frequent]\n",
        "    bsk.sort()\n",
        "    tpl = list(itertools.combinations(bsk, 2))\n",
        "    for t in tpl:\n",
        "      incr(t,count)\n",
        "  # construct members of L_2\n",
        "  frequent = []\n",
        "  print(len(count))\n",
        "  for c in count:\n",
        "    if count[c] >= s * n_bsk/tot_bsk:\n",
        "      frequent.append(c)\n",
        "      yield(c,1)\n",
        "\n",
        "  k = 3\n",
        "  while len(frequent) > 0:\n",
        "    #break\n",
        "    count = dict()\n",
        "    freq_candidates = []\n",
        "\n",
        "    for i in range(len(frequent)-1):\n",
        "      for j in range(i + 1, len(frequent)):\n",
        "        if(frequent[i][:k - 2] == frequent[j][:k - 2]):\n",
        "          x = list(frequent[i] + frequent[j][k - 2:])\n",
        "          x.sort()\n",
        "          #print(x)\n",
        "          freq_candidates.append(tuple(x))\n",
        "\n",
        "    if(len(freq_candidates) == 0):\n",
        "      break\n",
        "\n",
        "    count = {t:0 for t in freq_candidates}\n",
        "\n",
        "    for bsk in tqdm(chunk):\n",
        "      #filter only members of C_k\n",
        "      filtered = set()\n",
        "      for b in bsk:\n",
        "        for f in frequent:\n",
        "          if b in f:\n",
        "            filtered.add(b)\n",
        "            break;\n",
        "      bsk = list(filtered)\n",
        "      bsk.sort()\n",
        "      for t in itertools.combinations(bsk, k):\n",
        "        if(t in count):\n",
        "          count[t] += 1\n",
        "    # construct members of L_k\n",
        "    frequent = []\n",
        "    print(len(count))\n",
        "    for c in count:\n",
        "      if count[c] >= s * n_bsk/tot_bsk:\n",
        "        frequent.append(c)\n",
        "        yield(c,1)\n",
        "    k+=1"
      ],
      "metadata": {
        "id": "RkKpfO0_hP8K"
      },
      "execution_count": 4,
      "outputs": []
    },
    {
      "cell_type": "code",
      "source": [
        "## SON\n",
        "def son(rdd,s,tot):\n",
        "  def chunk_support(chunk,itemset):\n",
        "    def incr(e,dic):\n",
        "      if e in dic:\n",
        "        dic[e] += 1\n",
        "      else:\n",
        "        dic[e] = 1\n",
        "\n",
        "    count = dict()\n",
        "    for bsk in tqdm(chunk):\n",
        "      for i in itemset:\n",
        "        flag = True\n",
        "        for e in i:\n",
        "          if e not in bsk:\n",
        "            flag = False\n",
        "            break\n",
        "        if flag:\n",
        "          incr(i,count)\n",
        "    for c in count:\n",
        "      yield (c,count[c])\n",
        "\n",
        "  t= time.time()\n",
        "  #FIRST STEP\n",
        "  candidates = rdd.mapPartitions(lambda x: apriori(x,s,tot)).reduceByKey(lambda a,b: a).keys().collect()\n",
        "  #SECOND STEP\n",
        "  out =  rdd.mapPartitions(lambda x: chunk_support(x, candidates)).reduceByKey(lambda a,b: a+b).filter(lambda a: a[1] >= s).keys().collect()\n",
        "  t = time.time() - t\n",
        "  return (t,out)\n"
      ],
      "metadata": {
        "id": "t7SPM_7SZuQW"
      },
      "execution_count": 7,
      "outputs": []
    },
    {
      "cell_type": "code",
      "source": [
        "son(baskets_RDD, 6, n_baskets)"
      ],
      "metadata": {
        "colab": {
          "base_uri": "https://localhost:8080/"
        },
        "id": "8iuXrJuYhMWu",
        "outputId": "b93a2955-4157-47b9-e1dc-b67944f1d3f7",
        "collapsed": true
      },
      "execution_count": 9,
      "outputs": [
        {
          "output_type": "execute_result",
          "data": {
            "text/plain": [
              "(125.6465151309967,\n",
              " [('Ace Frehley', 'Paul Stanley'),\n",
              "  ('Gene Simmons', 'Peter Criss'),\n",
              "  ('Ace Frehley', 'Gene Simmons', 'Paul Stanley'),\n",
              "  ('Ace Frehley', 'Paul Stanley', 'Peter Criss'),\n",
              "  ('Ace Frehley', 'Gene Simmons', 'Paul Stanley', 'Peter Criss'),\n",
              "  ('Charlie Hall', 'Stan Laurel'),\n",
              "  ('Hideo Murota', 'Rinichi Yamamoto'),\n",
              "  ('Ken Takakura', 'Rinichi Yamamoto'),\n",
              "  ('Matt Stone', 'Trey Parker'),\n",
              "  ('Dot Farley', 'Edgar Kennedy'),\n",
              "  ('Akikane Sawa', 'Nobuo Yana'),\n",
              "  ('Eddie Vedder', 'Stone Gossard'),\n",
              "  ('Jeff Ament', 'Matt Cameron'),\n",
              "  ('Jeff Ament', 'Mike McCready'),\n",
              "  ('Matt Cameron', 'Mike McCready'),\n",
              "  ('Eddie Vedder', 'Jeff Ament', 'Stone Gossard'),\n",
              "  ('Eddie Vedder', 'Matt Cameron', 'Stone Gossard'),\n",
              "  ('Eddie Vedder', 'Mike McCready', 'Stone Gossard'),\n",
              "  ('Jeff Ament', 'Matt Cameron', 'Mike McCready'),\n",
              "  ('Eddie Vedder', 'Jeff Ament', 'Matt Cameron', 'Stone Gossard'),\n",
              "  ('Eddie Vedder', 'Jeff Ament', 'Mike McCready', 'Stone Gossard'),\n",
              "  ('Eddie Vedder', 'Matt Cameron', 'Mike McCready', 'Stone Gossard'),\n",
              "  ('Eddie Vedder',\n",
              "   'Jeff Ament',\n",
              "   'Matt Cameron',\n",
              "   'Mike McCready',\n",
              "   'Stone Gossard'),\n",
              "  ('Nobuko Otowa', 'Taiji Tonoyama'),\n",
              "  ('Adoor Bhasi', 'Prem Nazir'),\n",
              "  ('Fernando Poe Jr.', 'Vic Varrion'),\n",
              "  ('Russi Taylor', 'Tony Anselmo'),\n",
              "  ('James Hetfield', 'Kirk Hammett'),\n",
              "  ('James Hetfield', 'Lars Ulrich'),\n",
              "  ('Kirk Hammett', 'Lars Ulrich'),\n",
              "  ('František Kreuzmann', 'Vladimír Řepa'),\n",
              "  ('Mel Blanc', 'Sara Berner'),\n",
              "  ('Jayaram', 'KPAC Lalitha'),\n",
              "  ('Chan Shen', 'Wong Ching-Ho'),\n",
              "  ('George Harrison', 'Paul McCartney'),\n",
              "  ('George Harrison', 'John Lennon'),\n",
              "  ('John Lennon', 'Paul McCartney'),\n",
              "  ('George Harrison', 'Paul McCartney', 'Ringo Starr'),\n",
              "  ('George Harrison', 'John Lennon', 'Ringo Starr'),\n",
              "  ('John Lennon', 'Paul McCartney', 'Ringo Starr'),\n",
              "  ('Ramana Maharshi', 'Sri Michael James'),\n",
              "  ('Sammy Brooks', 'William Gillespie'),\n",
              "  ('Arthur Q. Bryan', 'Mel Blanc'),\n",
              "  ('Adoor Bhasi', 'Sukumari'),\n",
              "  ('Sammo Hung', 'Yuen Biao'),\n",
              "  ('Joel Hodgson', 'Trace Beaulieu'),\n",
              "  ('Josef Hlinomaz', 'Miroslav Homola'),\n",
              "  ('Jack Mercer', 'Jackson Beck'),\n",
              "  ('Jack Mercer', 'Mae Questel'),\n",
              "  ('Jackson Beck', 'Mae Questel'),\n",
              "  ('Brian May', 'John Deacon'),\n",
              "  ('Brian May', 'Roger Taylor'),\n",
              "  ('John Deacon', 'Roger Taylor'),\n",
              "  ('Brian May', 'Freddie Mercury', 'John Deacon'),\n",
              "  ('Brian May', 'Freddie Mercury', 'Roger Taylor'),\n",
              "  ('Freddie Mercury', 'John Deacon', 'Roger Taylor'),\n",
              "  ('Jagathy Sreekumar', 'Sukumari'),\n",
              "  ('Arthur V. Johnson', 'Florence Lawrence'),\n",
              "  ('Arthur V. Johnson', 'Mack Sennett'),\n",
              "  ('Florence Lawrence', 'Mack Sennett'),\n",
              "  ('Lubomír Lipský', 'Stella Zázvorková'),\n",
              "  ('S. S. Chandran', 'Thiyagu'),\n",
              "  ('Hajime Kubo', 'Hideo Murota'),\n",
              "  ('Hajime Kubo', 'Rinichi Yamamoto'),\n",
              "  ('Harisree Ashokan', 'Indrans'),\n",
              "  ('Jagathy Sreekumar', 'Zainuddin'),\n",
              "  ('John Lennon', 'Yoko Ono'),\n",
              "  ('Jagathy Sreekumar', 'Jayaram'),\n",
              "  ('Jagathy Sreekumar', 'Salim Kumar'),\n",
              "  ('Innocent', 'Nedumudi Venu'),\n",
              "  ('Goundamani', 'Senthil'),\n",
              "  ('František Filipovský', 'Miloš Kopecký'),\n",
              "  ('Fernando Rey', 'Félix Fernández'),\n",
              "  ('Gilbert M. Anderson', 'Marguerite Clayton'),\n",
              "  ('Jagathy Sreekumar', 'Nedumudi Venu'),\n",
              "  ('Hashizo Okawa', 'Shin Tokudaiji'),\n",
              "  ('Larry Fine', 'Moe Howard'),\n",
              "  ('Ace Frehley', 'Gene Simmons'),\n",
              "  ('Ace Frehley', 'Peter Criss'),\n",
              "  ('Gene Simmons', 'Paul Stanley'),\n",
              "  ('Paul Stanley', 'Peter Criss'),\n",
              "  ('Ace Frehley', 'Gene Simmons', 'Peter Criss'),\n",
              "  ('Gene Simmons', 'Paul Stanley', 'Peter Criss'),\n",
              "  ('Oliver Hardy', 'Stan Laurel'),\n",
              "  ('Hideo Murota', 'Nobuo Yana'),\n",
              "  ('Eddie Vedder', 'Jeff Ament'),\n",
              "  ('Eddie Vedder', 'Matt Cameron'),\n",
              "  ('Eddie Vedder', 'Mike McCready'),\n",
              "  ('Jeff Ament', 'Stone Gossard'),\n",
              "  ('Matt Cameron', 'Stone Gossard'),\n",
              "  ('Mike McCready', 'Stone Gossard'),\n",
              "  ('Eddie Vedder', 'Jeff Ament', 'Matt Cameron'),\n",
              "  ('Eddie Vedder', 'Jeff Ament', 'Mike McCready'),\n",
              "  ('Eddie Vedder', 'Matt Cameron', 'Mike McCready'),\n",
              "  ('Jeff Ament', 'Matt Cameron', 'Stone Gossard'),\n",
              "  ('Jeff Ament', 'Mike McCready', 'Stone Gossard'),\n",
              "  ('Matt Cameron', 'Mike McCready', 'Stone Gossard'),\n",
              "  ('Eddie Vedder', 'Jeff Ament', 'Matt Cameron', 'Mike McCready'),\n",
              "  ('Jeff Ament', 'Matt Cameron', 'Mike McCready', 'Stone Gossard'),\n",
              "  ('Adoor Bhasi', 'Sheela'),\n",
              "  ('Prem Nazir', 'Sheela'),\n",
              "  ('Dave Goelz', 'Steve Whitmire'),\n",
              "  ('Frank Oz', 'Jim Henson'),\n",
              "  ('Fernando Poe Jr.', 'Paquito Diaz'),\n",
              "  ('Paquito Diaz', 'Vic Varrion'),\n",
              "  ('Fernando Poe Jr.', 'Paquito Diaz', 'Vic Varrion'),\n",
              "  ('James Hetfield', 'Kirk Hammett', 'Lars Ulrich'),\n",
              "  ('Oskar Sima', 'Paul Hörbiger'),\n",
              "  ('Eitarō Shindō', 'Haruo Tanaka'),\n",
              "  ('Jun Fujikawa', 'Saburo Date'),\n",
              "  ('Kader Khan', 'Shakti Kapoor'),\n",
              "  ('Innocent', 'KPAC Lalitha'),\n",
              "  ('George Harrison', 'Ringo Starr'),\n",
              "  ('Paul McCartney', 'Ringo Starr'),\n",
              "  ('John Lennon', 'Ringo Starr'),\n",
              "  ('George Harrison', 'John Lennon', 'Paul McCartney'),\n",
              "  ('George Harrison', 'John Lennon', 'Paul McCartney', 'Ringo Starr'),\n",
              "  ('James Finlayson', 'Stan Laurel'),\n",
              "  ('Bea Benaderet', 'Mel Blanc'),\n",
              "  ('Jack Mercer', 'Sid Raymond'),\n",
              "  ('Adoor Bhasi', 'Sankaradi'),\n",
              "  ('Mohanlal', 'Sukumari'),\n",
              "  ('Ali Basha', 'Brahmanandam'),\n",
              "  ('Yasukaze Motomiya', 'Yoshiyuki Yamaguchi'),\n",
              "  ('Kazuyoshi Ozawa', 'Yasukaze Motomiya'),\n",
              "  ('Bill Gaither', 'Gloria Gaither'),\n",
              "  ('Roy Rogers', 'Trigger'),\n",
              "  ('Edith Storey', 'Francis Ford'),\n",
              "  ('Jagathy Sreekumar', 'Vijayaraghavan'),\n",
              "  ('J. Elvis Weinstein', 'Joel Hodgson'),\n",
              "  ('J. Elvis Weinstein', 'Trace Beaulieu'),\n",
              "  ('J. Elvis Weinstein', 'Joel Hodgson', 'Trace Beaulieu'),\n",
              "  ('Ciccio Ingrassia', 'Franco Franchi'),\n",
              "  ('Raizō Ichikawa', 'Saburo Date'),\n",
              "  ('Jack Mercer', 'Jackson Beck', 'Mae Questel'),\n",
              "  ('Brian May', 'Freddie Mercury'),\n",
              "  ('Freddie Mercury', 'John Deacon'),\n",
              "  ('Freddie Mercury', 'Roger Taylor'),\n",
              "  ('Brian May', 'John Deacon', 'Roger Taylor'),\n",
              "  ('Brian May', 'Freddie Mercury', 'John Deacon', 'Roger Taylor'),\n",
              "  ('José Luis López Vázquez', 'José Orjas'),\n",
              "  ('Brahmanandam', 'Tanikella Bharani'),\n",
              "  ('Jagathy Sreekumar', 'Mohanlal'),\n",
              "  ('Jagathy Sreekumar', 'Siddique'),\n",
              "  ('Innocent', 'Jagathy Sreekumar'),\n",
              "  ('KPAC Lalitha', 'Siddique'),\n",
              "  ('Andreas Kern', 'Hans Stadlbauer'),\n",
              "  ('Jagathy Sreekumar', 'Kuthiravattam Pappu'),\n",
              "  ('Lubomír Lipský', 'Miloš Kopecký'),\n",
              "  ('Nedumudi Venu', 'Salim Kumar')])"
            ]
          },
          "metadata": {},
          "execution_count": 9
        }
      ]
    },
    {
      "cell_type": "code",
      "source": [
        "for a in apriori(baskets,6,n_baskets):\n",
        "  print(a)"
      ],
      "metadata": {
        "id": "F5HvF9yD97bd",
        "outputId": "838562c9-3f96-4594-9d74-ea93f99b649c",
        "colab": {
          "base_uri": "https://localhost:8080/"
        }
      },
      "execution_count": 8,
      "outputs": [
        {
          "output_type": "stream",
          "name": "stderr",
          "text": [
            "100%|██████████| 35000/35000 [01:02<00:00, 562.89it/s]\n"
          ]
        },
        {
          "output_type": "stream",
          "name": "stdout",
          "text": [
            "74093\n",
            "(('Gilbert M. Anderson', 'Marguerite Clayton'), 1)\n",
            "(('František Kreuzmann', 'Rudolf Hrušínský'), 1)\n",
            "(('Jagathy Sreekumar', 'Nedumudi Venu'), 1)\n",
            "(('Hashizo Okawa', 'Shin Tokudaiji'), 1)\n",
            "(('Larry Fine', 'Moe Howard'), 1)\n",
            "(('Ace Frehley', 'Gene Simmons'), 1)\n",
            "(('Ace Frehley', 'Paul Stanley'), 1)\n",
            "(('Ace Frehley', 'Peter Criss'), 1)\n",
            "(('Gene Simmons', 'Paul Stanley'), 1)\n",
            "(('Gene Simmons', 'Peter Criss'), 1)\n",
            "(('Paul Stanley', 'Peter Criss'), 1)\n",
            "(('Charlie Hall', 'Stan Laurel'), 1)\n",
            "(('Oliver Hardy', 'Stan Laurel'), 1)\n",
            "(('Hideo Murota', 'Rinichi Yamamoto'), 1)\n",
            "(('Ken Takakura', 'Rinichi Yamamoto'), 1)\n",
            "(('Matt Stone', 'Trey Parker'), 1)\n",
            "(('Dot Farley', 'Edgar Kennedy'), 1)\n",
            "(('Akikane Sawa', 'Nobuo Yana'), 1)\n",
            "(('Hideo Murota', 'Nobuo Yana'), 1)\n",
            "(('Eddie Vedder', 'Jeff Ament'), 1)\n",
            "(('Eddie Vedder', 'Matt Cameron'), 1)\n",
            "(('Eddie Vedder', 'Mike McCready'), 1)\n",
            "(('Eddie Vedder', 'Stone Gossard'), 1)\n",
            "(('Jeff Ament', 'Matt Cameron'), 1)\n",
            "(('Jeff Ament', 'Mike McCready'), 1)\n",
            "(('Jeff Ament', 'Stone Gossard'), 1)\n",
            "(('Matt Cameron', 'Mike McCready'), 1)\n",
            "(('Matt Cameron', 'Stone Gossard'), 1)\n",
            "(('Mike McCready', 'Stone Gossard'), 1)\n",
            "(('Nobuko Otowa', 'Taiji Tonoyama'), 1)\n",
            "(('Adoor Bhasi', 'Sheela'), 1)\n",
            "(('Adoor Bhasi', 'Prem Nazir'), 1)\n",
            "(('Prem Nazir', 'Sheela'), 1)\n",
            "(('Dave Goelz', 'Steve Whitmire'), 1)\n",
            "(('Frank Oz', 'Jim Henson'), 1)\n",
            "(('Fernando Poe Jr.', 'Paquito Diaz'), 1)\n",
            "(('Fernando Poe Jr.', 'Vic Varrion'), 1)\n",
            "(('Paquito Diaz', 'Vic Varrion'), 1)\n",
            "(('Russi Taylor', 'Tony Anselmo'), 1)\n",
            "(('James Hetfield', 'Kirk Hammett'), 1)\n",
            "(('James Hetfield', 'Lars Ulrich'), 1)\n",
            "(('Kirk Hammett', 'Lars Ulrich'), 1)\n",
            "(('Oskar Sima', 'Paul Hörbiger'), 1)\n",
            "(('František Kreuzmann', 'Vladimír Řepa'), 1)\n",
            "(('Amanda Day', 'Amanda Day'), 1)\n",
            "(('Mel Blanc', 'Sara Berner'), 1)\n",
            "(('Jayaram', 'KPAC Lalitha'), 1)\n",
            "(('Eitarō Shindō', 'Haruo Tanaka'), 1)\n",
            "(('Jun Fujikawa', 'Saburo Date'), 1)\n",
            "(('Chan Shen', 'Wong Ching-Ho'), 1)\n",
            "(('Kader Khan', 'Shakti Kapoor'), 1)\n",
            "(('Innocent', 'KPAC Lalitha'), 1)\n",
            "(('George Harrison', 'John Lennon'), 1)\n",
            "(('George Harrison', 'Paul McCartney'), 1)\n",
            "(('George Harrison', 'Ringo Starr'), 1)\n",
            "(('John Lennon', 'Paul McCartney'), 1)\n",
            "(('John Lennon', 'Ringo Starr'), 1)\n",
            "(('Paul McCartney', 'Ringo Starr'), 1)\n",
            "(('Ramana Maharshi', 'Sri Michael James'), 1)\n",
            "(('James Finlayson', 'Stan Laurel'), 1)\n",
            "(('Sammy Brooks', 'William Gillespie'), 1)\n",
            "(('Arthur Q. Bryan', 'Mel Blanc'), 1)\n",
            "(('Bea Benaderet', 'Mel Blanc'), 1)\n",
            "(('Jack Mercer', 'Sid Raymond'), 1)\n",
            "(('Adoor Bhasi', 'Sankaradi'), 1)\n",
            "(('Adoor Bhasi', 'Sukumari'), 1)\n",
            "(('Mohanlal', 'Sukumari'), 1)\n",
            "(('Ali Basha', 'Brahmanandam'), 1)\n",
            "(('Kazuyoshi Ozawa', 'Yasukaze Motomiya'), 1)\n",
            "(('Yasukaze Motomiya', 'Yoshiyuki Yamaguchi'), 1)\n",
            "(('Bill Gaither', 'Gloria Gaither'), 1)\n",
            "(('Roy Rogers', 'Trigger'), 1)\n",
            "(('Edith Storey', 'Francis Ford'), 1)\n",
            "(('Sammo Hung', 'Yuen Biao'), 1)\n",
            "(('Jagathy Sreekumar', 'Vijayaraghavan'), 1)\n",
            "(('Jan Teplý', 'Otakar Brousek'), 1)\n",
            "(('J. Elvis Weinstein', 'Joel Hodgson'), 1)\n",
            "(('J. Elvis Weinstein', 'Trace Beaulieu'), 1)\n",
            "(('Joel Hodgson', 'Trace Beaulieu'), 1)\n",
            "(('Ciccio Ingrassia', 'Franco Franchi'), 1)\n",
            "(('Raizō Ichikawa', 'Saburo Date'), 1)\n",
            "(('Josef Hlinomaz', 'Miroslav Homola'), 1)\n",
            "(('Jack Mercer', 'Jackson Beck'), 1)\n",
            "(('Jack Mercer', 'Mae Questel'), 1)\n",
            "(('Jackson Beck', 'Mae Questel'), 1)\n",
            "(('Brian May', 'Freddie Mercury'), 1)\n",
            "(('Brian May', 'John Deacon'), 1)\n",
            "(('Brian May', 'Roger Taylor'), 1)\n",
            "(('Freddie Mercury', 'John Deacon'), 1)\n",
            "(('Freddie Mercury', 'Roger Taylor'), 1)\n",
            "(('John Deacon', 'Roger Taylor'), 1)\n",
            "(('José Luis López Vázquez', 'José Orjas'), 1)\n",
            "(('Brahmanandam', 'Tanikella Bharani'), 1)\n",
            "(('Jagathy Sreekumar', 'Sukumari'), 1)\n",
            "(('Arthur V. Johnson', 'Florence Lawrence'), 1)\n",
            "(('Arthur V. Johnson', 'Mack Sennett'), 1)\n",
            "(('Florence Lawrence', 'Mack Sennett'), 1)\n",
            "(('Jagathy Sreekumar', 'Mohanlal'), 1)\n",
            "(('Jagathy Sreekumar', 'Siddique'), 1)\n",
            "(('Lubomír Lipský', 'Stella Zázvorková'), 1)\n",
            "(('S. S. Chandran', 'Thiyagu'), 1)\n",
            "(('Hajime Kubo', 'Hideo Murota'), 1)\n",
            "(('Hajime Kubo', 'Rinichi Yamamoto'), 1)\n",
            "(('Harisree Ashokan', 'Indrans'), 1)\n",
            "(('Jagathy Sreekumar', 'Zainuddin'), 1)\n",
            "(('John Lennon', 'Yoko Ono'), 1)\n",
            "(('Jagathy Sreekumar', 'Jayaram'), 1)\n",
            "(('Jagathy Sreekumar', 'Salim Kumar'), 1)\n",
            "(('Innocent', 'Jagathy Sreekumar'), 1)\n",
            "(('Innocent', 'Nedumudi Venu'), 1)\n",
            "(('KPAC Lalitha', 'Siddique'), 1)\n",
            "(('Goundamani', 'Senthil'), 1)\n",
            "(('Andreas Kern', 'Hans Stadlbauer'), 1)\n",
            "(('František Filipovský', 'Miloš Kopecký'), 1)\n",
            "(('Fernando Rey', 'Félix Fernández'), 1)\n",
            "(('Jagathy Sreekumar', 'Kuthiravattam Pappu'), 1)\n",
            "(('Lubomír Lipský', 'Miloš Kopecký'), 1)\n",
            "(('Nedumudi Venu', 'Salim Kumar'), 1)\n"
          ]
        },
        {
          "output_type": "stream",
          "name": "stderr",
          "text": [
            "100%|██████████| 35000/35000 [00:02<00:00, 12405.68it/s]\n"
          ]
        },
        {
          "output_type": "stream",
          "name": "stdout",
          "text": [
            "80\n",
            "(('Ace Frehley', 'Gene Simmons', 'Paul Stanley'), 1)\n",
            "(('Ace Frehley', 'Gene Simmons', 'Peter Criss'), 1)\n",
            "(('Ace Frehley', 'Paul Stanley', 'Peter Criss'), 1)\n",
            "(('Gene Simmons', 'Paul Stanley', 'Peter Criss'), 1)\n",
            "(('Eddie Vedder', 'Jeff Ament', 'Matt Cameron'), 1)\n",
            "(('Eddie Vedder', 'Jeff Ament', 'Mike McCready'), 1)\n",
            "(('Eddie Vedder', 'Jeff Ament', 'Stone Gossard'), 1)\n",
            "(('Eddie Vedder', 'Matt Cameron', 'Mike McCready'), 1)\n",
            "(('Eddie Vedder', 'Matt Cameron', 'Stone Gossard'), 1)\n",
            "(('Eddie Vedder', 'Mike McCready', 'Stone Gossard'), 1)\n",
            "(('Jeff Ament', 'Matt Cameron', 'Mike McCready'), 1)\n",
            "(('Jeff Ament', 'Matt Cameron', 'Stone Gossard'), 1)\n",
            "(('Jeff Ament', 'Mike McCready', 'Stone Gossard'), 1)\n",
            "(('Matt Cameron', 'Mike McCready', 'Stone Gossard'), 1)\n",
            "(('Fernando Poe Jr.', 'Paquito Diaz', 'Vic Varrion'), 1)\n",
            "(('James Hetfield', 'Kirk Hammett', 'Lars Ulrich'), 1)\n",
            "(('George Harrison', 'John Lennon', 'Paul McCartney'), 1)\n",
            "(('George Harrison', 'John Lennon', 'Ringo Starr'), 1)\n",
            "(('George Harrison', 'Paul McCartney', 'Ringo Starr'), 1)\n",
            "(('John Lennon', 'Paul McCartney', 'Ringo Starr'), 1)\n",
            "(('J. Elvis Weinstein', 'Joel Hodgson', 'Trace Beaulieu'), 1)\n",
            "(('Jack Mercer', 'Jackson Beck', 'Mae Questel'), 1)\n",
            "(('Brian May', 'Freddie Mercury', 'John Deacon'), 1)\n",
            "(('Brian May', 'Freddie Mercury', 'Roger Taylor'), 1)\n",
            "(('Brian May', 'John Deacon', 'Roger Taylor'), 1)\n",
            "(('Freddie Mercury', 'John Deacon', 'Roger Taylor'), 1)\n"
          ]
        },
        {
          "output_type": "stream",
          "name": "stderr",
          "text": [
            "100%|██████████| 35000/35000 [00:00<00:00, 40562.08it/s]\n"
          ]
        },
        {
          "output_type": "stream",
          "name": "stdout",
          "text": [
            "8\n",
            "(('Ace Frehley', 'Gene Simmons', 'Paul Stanley', 'Peter Criss'), 1)\n",
            "(('Eddie Vedder', 'Jeff Ament', 'Matt Cameron', 'Mike McCready'), 1)\n",
            "(('Eddie Vedder', 'Jeff Ament', 'Matt Cameron', 'Stone Gossard'), 1)\n",
            "(('Eddie Vedder', 'Jeff Ament', 'Mike McCready', 'Stone Gossard'), 1)\n",
            "(('Eddie Vedder', 'Matt Cameron', 'Mike McCready', 'Stone Gossard'), 1)\n",
            "(('Jeff Ament', 'Matt Cameron', 'Mike McCready', 'Stone Gossard'), 1)\n",
            "(('George Harrison', 'John Lennon', 'Paul McCartney', 'Ringo Starr'), 1)\n",
            "(('Brian May', 'Freddie Mercury', 'John Deacon', 'Roger Taylor'), 1)\n"
          ]
        },
        {
          "output_type": "stream",
          "name": "stderr",
          "text": [
            "100%|██████████| 35000/35000 [00:00<00:00, 81636.46it/s]"
          ]
        },
        {
          "output_type": "stream",
          "name": "stdout",
          "text": [
            "1\n",
            "(('Eddie Vedder', 'Jeff Ament', 'Matt Cameron', 'Mike McCready', 'Stone Gossard'), 1)\n"
          ]
        },
        {
          "output_type": "stream",
          "name": "stderr",
          "text": [
            "\n"
          ]
        }
      ]
    },
    {
      "cell_type": "markdown",
      "source": [
        "# Time and different dataset size"
      ],
      "metadata": {
        "id": "ywQoyrkfDhfK"
      }
    },
    {
      "cell_type": "code",
      "source": [
        "actors = pd.read_csv(\"letterbox/actors.csv\")\n",
        "actors = actors\n",
        "baskets_full = actors.groupby(\"id\")[\"name\"].apply(list)\n",
        "r = range(1,11)\n",
        "S = 6\n",
        "step = 3500"
      ],
      "metadata": {
        "id": "-yuSQqDYEDIB"
      },
      "execution_count": 10,
      "outputs": []
    },
    {
      "cell_type": "code",
      "source": [
        "#TIME WITH DIFFERENT DATASET SIZE APRIORI\n",
        "apriori_results = []\n",
        "apriori_times = []\n",
        "for i in r:\n",
        "  baskets = baskets_full.sample(i*step, random_state = i)\n",
        "  #RDD = sc.parallelize(baskets)\n",
        "  result = []\n",
        "  t = time.time()\n",
        "  for i,_ in apriori(baskets,S,i*step):\n",
        "    result.append(i)\n",
        "  apriori_times.append(time.time()-t)\n",
        "  apriori_results.append(result)"
      ],
      "metadata": {
        "collapsed": true,
        "id": "X021FPpFD0we",
        "outputId": "8a5dc974-15a4-4219-cf5e-dd8d2bb79957",
        "colab": {
          "base_uri": "https://localhost:8080/"
        }
      },
      "execution_count": null,
      "outputs": [
        {
          "output_type": "stream",
          "name": "stderr",
          "text": [
            "100%|██████████| 3500/3500 [00:00<00:00, 184959.67it/s]\n"
          ]
        },
        {
          "output_type": "stream",
          "name": "stdout",
          "text": [
            "1\n"
          ]
        },
        {
          "output_type": "stream",
          "name": "stderr",
          "text": [
            "100%|██████████| 7000/7000 [00:00<00:00, 60399.48it/s]\n"
          ]
        },
        {
          "output_type": "stream",
          "name": "stdout",
          "text": [
            "45\n"
          ]
        },
        {
          "output_type": "stream",
          "name": "stderr",
          "text": [
            "100%|██████████| 10500/10500 [00:00<00:00, 14455.39it/s]\n"
          ]
        },
        {
          "output_type": "stream",
          "name": "stdout",
          "text": [
            "973\n"
          ]
        },
        {
          "output_type": "stream",
          "name": "stderr",
          "text": [
            "100%|██████████| 14000/14000 [00:01<00:00, 8296.72it/s]\n"
          ]
        },
        {
          "output_type": "stream",
          "name": "stdout",
          "text": [
            "2103\n"
          ]
        },
        {
          "output_type": "stream",
          "name": "stderr",
          "text": [
            "100%|██████████| 14000/14000 [00:00<00:00, 29233.24it/s]\n"
          ]
        },
        {
          "output_type": "stream",
          "name": "stdout",
          "text": [
            "10\n"
          ]
        },
        {
          "output_type": "stream",
          "name": "stderr",
          "text": [
            "100%|██████████| 14000/14000 [00:00<00:00, 30651.52it/s]\n"
          ]
        },
        {
          "output_type": "stream",
          "name": "stdout",
          "text": [
            "5\n"
          ]
        },
        {
          "output_type": "stream",
          "name": "stderr",
          "text": [
            "100%|██████████| 14000/14000 [00:00<00:00, 50380.13it/s]\n"
          ]
        },
        {
          "output_type": "stream",
          "name": "stdout",
          "text": [
            "1\n"
          ]
        },
        {
          "output_type": "stream",
          "name": "stderr",
          "text": [
            "100%|██████████| 17500/17500 [00:04<00:00, 3818.58it/s]\n"
          ]
        },
        {
          "output_type": "stream",
          "name": "stdout",
          "text": [
            "5929\n"
          ]
        },
        {
          "output_type": "stream",
          "name": "stderr",
          "text": [
            "100%|██████████| 17500/17500 [00:01<00:00, 15417.18it/s]\n"
          ]
        },
        {
          "output_type": "stream",
          "name": "stdout",
          "text": [
            "4\n"
          ]
        },
        {
          "output_type": "stream",
          "name": "stderr",
          "text": [
            "100%|██████████| 17500/17500 [00:00<00:00, 34555.12it/s]\n"
          ]
        },
        {
          "output_type": "stream",
          "name": "stdout",
          "text": [
            "1\n"
          ]
        },
        {
          "output_type": "stream",
          "name": "stderr",
          "text": [
            "100%|██████████| 21000/21000 [00:21<00:00, 976.49it/s]\n"
          ]
        },
        {
          "output_type": "stream",
          "name": "stdout",
          "text": [
            "14889\n"
          ]
        },
        {
          "output_type": "stream",
          "name": "stderr",
          "text": [
            "100%|██████████| 21000/21000 [00:02<00:00, 7342.05it/s]\n"
          ]
        },
        {
          "output_type": "stream",
          "name": "stdout",
          "text": [
            "34\n"
          ]
        },
        {
          "output_type": "stream",
          "name": "stderr",
          "text": [
            "100%|██████████| 21000/21000 [00:01<00:00, 13099.94it/s]\n"
          ]
        },
        {
          "output_type": "stream",
          "name": "stdout",
          "text": [
            "16\n"
          ]
        },
        {
          "output_type": "stream",
          "name": "stderr",
          "text": [
            "100%|██████████| 21000/21000 [00:01<00:00, 19621.81it/s]\n"
          ]
        },
        {
          "output_type": "stream",
          "name": "stdout",
          "text": [
            "6\n"
          ]
        },
        {
          "output_type": "stream",
          "name": "stderr",
          "text": [
            "100%|██████████| 21000/21000 [00:00<00:00, 40609.76it/s]\n"
          ]
        },
        {
          "output_type": "stream",
          "name": "stdout",
          "text": [
            "1\n"
          ]
        },
        {
          "output_type": "stream",
          "name": "stderr",
          "text": [
            "100%|██████████| 24500/24500 [00:26<00:00, 929.40it/s]\n"
          ]
        },
        {
          "output_type": "stream",
          "name": "stdout",
          "text": [
            "23945\n"
          ]
        },
        {
          "output_type": "stream",
          "name": "stderr",
          "text": [
            "100%|██████████| 24500/24500 [00:04<00:00, 5713.55it/s]\n"
          ]
        },
        {
          "output_type": "stream",
          "name": "stdout",
          "text": [
            "21\n"
          ]
        },
        {
          "output_type": "stream",
          "name": "stderr",
          "text": [
            "100%|██████████| 24500/24500 [00:01<00:00, 19938.18it/s]\n"
          ]
        },
        {
          "output_type": "stream",
          "name": "stdout",
          "text": [
            "5\n"
          ]
        },
        {
          "output_type": "stream",
          "name": "stderr",
          "text": [
            "100%|██████████| 24500/24500 [00:00<00:00, 53432.68it/s]\n"
          ]
        },
        {
          "output_type": "stream",
          "name": "stdout",
          "text": [
            "1\n"
          ]
        },
        {
          "output_type": "stream",
          "name": "stderr",
          "text": [
            "100%|██████████| 28000/28000 [00:46<00:00, 597.91it/s]\n"
          ]
        },
        {
          "output_type": "stream",
          "name": "stdout",
          "text": [
            "35517\n"
          ]
        },
        {
          "output_type": "stream",
          "name": "stderr",
          "text": [
            "100%|██████████| 28000/28000 [00:05<00:00, 5116.93it/s]\n"
          ]
        },
        {
          "output_type": "stream",
          "name": "stdout",
          "text": [
            "44\n"
          ]
        },
        {
          "output_type": "stream",
          "name": "stderr",
          "text": [
            "100%|██████████| 28000/28000 [00:01<00:00, 16367.60it/s]\n"
          ]
        },
        {
          "output_type": "stream",
          "name": "stdout",
          "text": [
            "7\n"
          ]
        },
        {
          "output_type": "stream",
          "name": "stderr",
          "text": [
            "100%|██████████| 28000/28000 [00:00<00:00, 39182.57it/s]\n"
          ]
        },
        {
          "output_type": "stream",
          "name": "stdout",
          "text": [
            "1\n"
          ]
        },
        {
          "output_type": "stream",
          "name": "stderr",
          "text": [
            "100%|██████████| 31500/31500 [01:26<00:00, 366.03it/s]\n"
          ]
        },
        {
          "output_type": "stream",
          "name": "stdout",
          "text": [
            "66653\n"
          ]
        },
        {
          "output_type": "stream",
          "name": "stderr",
          "text": [
            "100%|██████████| 31500/31500 [00:13<00:00, 2268.68it/s]\n"
          ]
        },
        {
          "output_type": "stream",
          "name": "stdout",
          "text": [
            "67\n"
          ]
        },
        {
          "output_type": "stream",
          "name": "stderr",
          "text": [
            "100%|██████████| 31500/31500 [00:01<00:00, 22935.71it/s]\n"
          ]
        },
        {
          "output_type": "stream",
          "name": "stdout",
          "text": [
            "2\n"
          ]
        },
        {
          "output_type": "stream",
          "name": "stderr",
          "text": [
            "100%|██████████| 35000/35000 [01:49<00:00, 319.64it/s]\n"
          ]
        },
        {
          "output_type": "stream",
          "name": "stdout",
          "text": [
            "83739\n"
          ]
        },
        {
          "output_type": "stream",
          "name": "stderr",
          "text": [
            "100%|██████████| 35000/35000 [00:18<00:00, 1845.08it/s]\n"
          ]
        },
        {
          "output_type": "stream",
          "name": "stdout",
          "text": [
            "91\n"
          ]
        },
        {
          "output_type": "stream",
          "name": "stderr",
          "text": [
            "100%|██████████| 35000/35000 [00:11<00:00, 3046.25it/s]\n"
          ]
        },
        {
          "output_type": "stream",
          "name": "stdout",
          "text": [
            "47\n"
          ]
        },
        {
          "output_type": "stream",
          "name": "stderr",
          "text": [
            "100%|██████████| 35000/35000 [00:06<00:00, 5170.66it/s]\n"
          ]
        },
        {
          "output_type": "stream",
          "name": "stdout",
          "text": [
            "22\n"
          ]
        },
        {
          "output_type": "stream",
          "name": "stderr",
          "text": [
            "100%|██████████| 35000/35000 [00:02<00:00, 13558.46it/s]\n"
          ]
        },
        {
          "output_type": "stream",
          "name": "stdout",
          "text": [
            "7\n"
          ]
        },
        {
          "output_type": "stream",
          "name": "stderr",
          "text": [
            "100%|██████████| 35000/35000 [00:01<00:00, 33829.88it/s]"
          ]
        },
        {
          "output_type": "stream",
          "name": "stdout",
          "text": [
            "1\n"
          ]
        },
        {
          "output_type": "stream",
          "name": "stderr",
          "text": [
            "\n"
          ]
        }
      ]
    },
    {
      "cell_type": "code",
      "source": [
        "# TIME WITH DIFFERENT DATASET SIZE SON\n",
        "son_results = []\n",
        "son_times = []\n",
        "for i in r:\n",
        "  print(i*step)\n",
        "  baskets = baskets_full.sample(i*step, random_state = i)\n",
        "  RDD = sc.parallelize(baskets)\n",
        "  t, result = son(RDD,S,i*step)\n",
        "  son_results.append(result)\n",
        "  son_times.append(t)"
      ],
      "metadata": {
        "id": "2WHKI9pasqDX",
        "colab": {
          "base_uri": "https://localhost:8080/"
        },
        "outputId": "616a1be1-b524-4afb-fc47-ae1f930d566b"
      },
      "execution_count": null,
      "outputs": [
        {
          "output_type": "stream",
          "name": "stdout",
          "text": [
            "3500\n",
            "7000\n",
            "10500\n",
            "14000\n",
            "17500\n",
            "21000\n",
            "24500\n",
            "28000\n",
            "31500\n",
            "35000\n"
          ]
        }
      ]
    },
    {
      "cell_type": "code",
      "source": [
        "#plt.plot(list([step*x for x in r]), apriori_times)\n",
        "plt.plot(list([step*x for x in r]), son_times)\n",
        "#plt.legend(['apriori','SON'])\n",
        "plt.ylabel('time')\n",
        "plt.xlabel('entries')\n",
        "plt.show()"
      ],
      "metadata": {
        "id": "vDaeGQCSFmWz"
      },
      "execution_count": null,
      "outputs": []
    },
    {
      "cell_type": "code",
      "source": [
        "# NUMBER OF FREQUENT ITEMSETS FOR EACH SIZE\n",
        "def itemset_size(itemsets):\n",
        "  out = []\n",
        "  for s in itemsets:\n",
        "    tmp = []\n",
        "    for i in range(2,8):\n",
        "      n = len([x for x in s if len(x) == i])\n",
        "      if n == 0:\n",
        "        break\n",
        "      tmp.append((i,n))\n",
        "    out.append(tmp)\n",
        "  return out\n",
        "\n",
        "sz = itemset_size(apriori_results)\n",
        "for i in r:\n",
        "  print('size ' + str(i * step) + ': ')\n",
        "  for e in sz[i-1]:\n",
        "    print(str(e[0])+'-ples: ' + str(e[1]))"
      ],
      "metadata": {
        "id": "n56VwBReQIvv",
        "outputId": "5ad09f81-01b2-44bf-d43f-77b7799310cf",
        "colab": {
          "base_uri": "https://localhost:8080/"
        }
      },
      "execution_count": null,
      "outputs": [
        {
          "output_type": "stream",
          "name": "stdout",
          "text": [
            "size 3500: \n",
            "size 7000: \n",
            "size 10500: \n",
            "size 14000: \n",
            "2-ples: 12\n",
            "3-ples: 10\n",
            "4-ples: 5\n",
            "5-ples: 1\n",
            "size 17500: \n",
            "2-ples: 15\n",
            "3-ples: 4\n",
            "4-ples: 1\n",
            "size 21000: \n",
            "2-ples: 50\n",
            "3-ples: 28\n",
            "4-ples: 16\n",
            "5-ples: 6\n",
            "6-ples: 1\n",
            "size 24500: \n",
            "2-ples: 40\n",
            "3-ples: 11\n",
            "4-ples: 5\n",
            "5-ples: 1\n",
            "size 28000: \n",
            "2-ples: 80\n",
            "3-ples: 21\n",
            "4-ples: 7\n",
            "5-ples: 1\n",
            "size 31500: \n",
            "2-ples: 126\n",
            "3-ples: 14\n",
            "4-ples: 2\n",
            "size 35000: \n",
            "2-ples: 132\n",
            "3-ples: 71\n",
            "4-ples: 45\n",
            "5-ples: 22\n",
            "6-ples: 7\n",
            "7-ples: 1\n"
          ]
        }
      ]
    },
    {
      "cell_type": "code",
      "source": [
        "print(apriori_times)\n",
        "print(son_times)"
      ],
      "metadata": {
        "id": "13YmELowlgHp",
        "outputId": "ee483c5a-f0a8-43d4-8047-2c4fa3849bee",
        "colab": {
          "base_uri": "https://localhost:8080/"
        }
      },
      "execution_count": null,
      "outputs": [
        {
          "output_type": "stream",
          "name": "stdout",
          "text": [
            "[0.7789347171783447, 0.21815776824951172, 0.8783605098724365, 3.161717414855957, 6.497379541397095, 28.187054872512817, 32.74188494682312, 55.16551446914673, 101.83974170684814, 150.98118209838867]\n",
            "[1.987138271331787, 2.060698986053467, 5.90418553352356, 10.529363870620728, 20.474119663238525, 35.86480474472046, 61.30871367454529, 89.39835906028748, 161.42316961288452, 232.95110845565796]\n"
          ]
        }
      ]
    },
    {
      "cell_type": "markdown",
      "source": [
        "# Time and different suppord threshold"
      ],
      "metadata": {
        "id": "UaGih7c3Dqvo"
      }
    },
    {
      "cell_type": "code",
      "source": [
        "r =  100000\n",
        "S = range(10,30,3)\n",
        "baskets = baskets_full.sample(r, random_state = 42)"
      ],
      "metadata": {
        "id": "7RB51pKBnUzT"
      },
      "execution_count": 27,
      "outputs": []
    },
    {
      "cell_type": "code",
      "source": [
        "#TIME WITH DIFFERENT DATASET SUPPORT THRESHOLD APRIORI\n",
        "apriori_results = []\n",
        "apriori_times = []\n",
        "for s in S:\n",
        "  result = []\n",
        "  t = time.time()\n",
        "  for i,_ in apriori(baskets,s,r):\n",
        "    result.append(i)\n",
        "  apriori_times.append(time.time()-t)\n",
        "  apriori_results.append(result)"
      ],
      "metadata": {
        "collapsed": true,
        "id": "268ta8Z9nI6u",
        "outputId": "6d437ada-fa1d-4ddd-bf67-54ae74c34668",
        "colab": {
          "base_uri": "https://localhost:8080/"
        }
      },
      "execution_count": 28,
      "outputs": [
        {
          "output_type": "stream",
          "name": "stderr",
          "text": [
            "100%|██████████| 100000/100000 [08:06<00:00, 205.67it/s]\n"
          ]
        },
        {
          "output_type": "stream",
          "name": "stdout",
          "text": [
            "455295\n"
          ]
        },
        {
          "output_type": "stream",
          "name": "stderr",
          "text": [
            "100%|██████████| 100000/100000 [00:30<00:00, 3305.04it/s]\n"
          ]
        },
        {
          "output_type": "stream",
          "name": "stdout",
          "text": [
            "447\n"
          ]
        },
        {
          "output_type": "stream",
          "name": "stderr",
          "text": [
            "100%|██████████| 100000/100000 [00:12<00:00, 8134.00it/s]\n"
          ]
        },
        {
          "output_type": "stream",
          "name": "stdout",
          "text": [
            "61\n"
          ]
        },
        {
          "output_type": "stream",
          "name": "stderr",
          "text": [
            "100%|██████████| 100000/100000 [00:05<00:00, 16828.98it/s]\n"
          ]
        },
        {
          "output_type": "stream",
          "name": "stdout",
          "text": [
            "28\n"
          ]
        },
        {
          "output_type": "stream",
          "name": "stderr",
          "text": [
            "100%|██████████| 100000/100000 [00:03<00:00, 30036.40it/s]\n"
          ]
        },
        {
          "output_type": "stream",
          "name": "stdout",
          "text": [
            "8\n"
          ]
        },
        {
          "output_type": "stream",
          "name": "stderr",
          "text": [
            "100%|██████████| 100000/100000 [00:02<00:00, 46823.02it/s]\n"
          ]
        },
        {
          "output_type": "stream",
          "name": "stdout",
          "text": [
            "1\n"
          ]
        },
        {
          "output_type": "stream",
          "name": "stderr",
          "text": [
            "100%|██████████| 100000/100000 [04:29<00:00, 370.95it/s]\n"
          ]
        },
        {
          "output_type": "stream",
          "name": "stdout",
          "text": [
            "246613\n"
          ]
        },
        {
          "output_type": "stream",
          "name": "stderr",
          "text": [
            "100%|██████████| 100000/100000 [00:10<00:00, 9541.83it/s]\n"
          ]
        },
        {
          "output_type": "stream",
          "name": "stdout",
          "text": [
            "108\n"
          ]
        },
        {
          "output_type": "stream",
          "name": "stderr",
          "text": [
            "100%|██████████| 100000/100000 [00:06<00:00, 16099.25it/s]\n"
          ]
        },
        {
          "output_type": "stream",
          "name": "stdout",
          "text": [
            "41\n"
          ]
        },
        {
          "output_type": "stream",
          "name": "stderr",
          "text": [
            "100%|██████████| 100000/100000 [00:04<00:00, 23908.84it/s]\n"
          ]
        },
        {
          "output_type": "stream",
          "name": "stdout",
          "text": [
            "22\n"
          ]
        },
        {
          "output_type": "stream",
          "name": "stderr",
          "text": [
            "100%|██████████| 100000/100000 [00:02<00:00, 35914.71it/s]\n"
          ]
        },
        {
          "output_type": "stream",
          "name": "stdout",
          "text": [
            "7\n"
          ]
        },
        {
          "output_type": "stream",
          "name": "stderr",
          "text": [
            "100%|██████████| 100000/100000 [00:01<00:00, 76077.16it/s]\n"
          ]
        },
        {
          "output_type": "stream",
          "name": "stdout",
          "text": [
            "1\n"
          ]
        },
        {
          "output_type": "stream",
          "name": "stderr",
          "text": [
            "100%|██████████| 100000/100000 [02:29<00:00, 669.57it/s]\n"
          ]
        },
        {
          "output_type": "stream",
          "name": "stdout",
          "text": [
            "134223\n"
          ]
        },
        {
          "output_type": "stream",
          "name": "stderr",
          "text": [
            "100%|██████████| 100000/100000 [00:03<00:00, 26516.66it/s]\n"
          ]
        },
        {
          "output_type": "stream",
          "name": "stdout",
          "text": [
            "22\n"
          ]
        },
        {
          "output_type": "stream",
          "name": "stderr",
          "text": [
            "100%|██████████| 100000/100000 [00:01<00:00, 74828.49it/s]\n"
          ]
        },
        {
          "output_type": "stream",
          "name": "stdout",
          "text": [
            "2\n"
          ]
        },
        {
          "output_type": "stream",
          "name": "stderr",
          "text": [
            "100%|██████████| 100000/100000 [01:16<00:00, 1305.05it/s]\n"
          ]
        },
        {
          "output_type": "stream",
          "name": "stdout",
          "text": [
            "72351\n"
          ]
        },
        {
          "output_type": "stream",
          "name": "stderr",
          "text": [
            "100%|██████████| 100000/100000 [00:01<00:00, 64594.93it/s]\n"
          ]
        },
        {
          "output_type": "stream",
          "name": "stdout",
          "text": [
            "4\n"
          ]
        },
        {
          "output_type": "stream",
          "name": "stderr",
          "text": [
            "100%|██████████| 100000/100000 [00:38<00:00, 2567.19it/s]\n"
          ]
        },
        {
          "output_type": "stream",
          "name": "stdout",
          "text": [
            "38962\n"
          ]
        },
        {
          "output_type": "stream",
          "name": "stderr",
          "text": [
            "100%|██████████| 100000/100000 [00:01<00:00, 77113.37it/s]\n"
          ]
        },
        {
          "output_type": "stream",
          "name": "stdout",
          "text": [
            "3\n"
          ]
        },
        {
          "output_type": "stream",
          "name": "stderr",
          "text": [
            "100%|██████████| 100000/100000 [00:20<00:00, 4968.36it/s]\n"
          ]
        },
        {
          "output_type": "stream",
          "name": "stdout",
          "text": [
            "22004\n"
          ]
        },
        {
          "output_type": "stream",
          "name": "stderr",
          "text": [
            "100%|██████████| 100000/100000 [00:00<00:00, 116473.18it/s]\n"
          ]
        },
        {
          "output_type": "stream",
          "name": "stdout",
          "text": [
            "1\n"
          ]
        },
        {
          "output_type": "stream",
          "name": "stderr",
          "text": [
            "100%|██████████| 100000/100000 [00:14<00:00, 6971.36it/s]"
          ]
        },
        {
          "output_type": "stream",
          "name": "stdout",
          "text": [
            "12157\n"
          ]
        },
        {
          "output_type": "stream",
          "name": "stderr",
          "text": [
            "\n"
          ]
        }
      ]
    },
    {
      "cell_type": "code",
      "source": [
        "# TIME WITH DIFFERENT DATASET SUPPORT THRESHOLD SON\n",
        "son_results = []\n",
        "son_times = []\n",
        "RDD = sc.parallelize(baskets)\n",
        "for s in S:\n",
        "  t, result = son(RDD,s,r)\n",
        "  son_results.append(result)\n",
        "  son_times.append(t)"
      ],
      "metadata": {
        "id": "nmeeVsgrn5Lj"
      },
      "execution_count": 29,
      "outputs": []
    },
    {
      "cell_type": "code",
      "source": [
        "#plt.plot(list(S), apriori_times)\n",
        "plt.plot(list(S), son_times)\n",
        "#plt.legend(['apriori','SON'])\n",
        "plt.ylabel('time')\n",
        "plt.xlabel('support threshold')\n",
        "plt.show()"
      ],
      "metadata": {
        "id": "PKYA2FvQoB7_",
        "outputId": "0688d196-5ec1-491d-af3b-d4ac78959559",
        "colab": {
          "base_uri": "https://localhost:8080/",
          "height": 453
        }
      },
      "execution_count": 30,
      "outputs": [
        {
          "output_type": "display_data",
          "data": {
            "text/plain": [
              "<Figure size 640x480 with 1 Axes>"
            ],
            "image/png": "[encoded data removed]"
          },
          "metadata": {}
        }
      ]
    },
    {
      "cell_type": "markdown",
      "source": [
        "# Time and different partition number"
      ],
      "metadata": {
        "id": "_2ODfDNbNXtm"
      }
    },
    {
      "cell_type": "code",
      "source": [
        "r = 100000\n",
        "S = 20\n",
        "baskets = baskets_full.sample(r, random_state = 42)\n",
        "\n",
        "tp_results = []\n",
        "tp_times = []\n",
        "partitions = range(1,10)\n",
        "for p in partitions:\n",
        "  spark = SparkSession.builder.master(\"local[\"+str(p)+\"]\").getOrCreate()\n",
        "  spark.conf.set(\"spark.sql.repl.eagerEval.enabled\", True) # Property used to format output tables better\n",
        "  sc = spark.sparkContext\n",
        "  RDD = sc.parallelize(baskets)\n",
        "  t, result = son(RDD,S,r)\n",
        "  tp_results.append(result)\n",
        "  tp_times.append(t)\n",
        "\n",
        "plt.plot(list(partitions), tp_times)\n",
        "plt.ylabel('time')\n",
        "plt.xlabel('partitions')\n",
        "plt.show()"
      ],
      "metadata": {
        "id": "OPpBoT55ZMty",
        "colab": {
          "base_uri": "https://localhost:8080/",
          "height": 449
        },
        "outputId": "79faf70f-019d-4bce-f7c2-1818ac99c63e"
      },
      "execution_count": 26,
      "outputs": [
        {
          "output_type": "display_data",
          "data": {
            "text/plain": [
              "<Figure size 640x480 with 1 Axes>"
            ],
            "image/png": "[encoded data removed]"
          },
          "metadata": {}
        }
      ]
    },
    {
      "cell_type": "code",
      "source": [],
      "metadata": {
        "id": "C1rjm_zIqUI2"
      },
      "execution_count": null,
      "outputs": []
    }
  ]
}