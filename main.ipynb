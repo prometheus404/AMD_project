{
  "nbformat": 4,
  "nbformat_minor": 0,
  "metadata": {
    "colab": {
      "provenance": []
    },
    "kernelspec": {
      "name": "python3",
      "display_name": "Python 3"
    },
    "language_info": {
      "name": "python"
    }
  },
  "cells": [
    {
      "cell_type": "code",
      "execution_count": 3,
      "metadata": {
        "id": "LFnT2MWe1IPx"
      },
      "outputs": [],
      "source": [
        "##### DOWNLOAD DATASET #####\n",
        "from IPython.display import clear_output\n",
        "from google.colab import files\n",
        "files.upload()\n",
        "!ls -lha kaggle.json\n",
        "!pip install -q kaggle # installing the kaggle package\n",
        "!mkdir -p ~/.kaggle # creating .kaggle folder where the key should be placed\n",
        "!cp kaggle.json ~/.kaggle/ # move the key to the folder\n",
        "!pwd # checking the present working directory\n",
        "!chmod 600 ~/.kaggle/kaggle.json\n",
        "\n",
        "!kaggle datasets download -d gsimonx37/letterboxd\n",
        "!unzip /content/letterboxd.zip -d /content/letterbox/\n",
        "clear_output()\n",
        "############################"
      ]
    },
    {
      "cell_type": "code",
      "source": [
        "########### SPARK CONTEXT #####################\n",
        "import pandas as pd\n",
        "import itertools\n",
        "from tqdm import tqdm\n",
        "\n",
        "!apt-get install openjdk-8-jdk-headless -qq > /dev/null\n",
        "!wget -q http://archive.apache.org/dist/spark/spark-3.1.1/spark-3.1.1-bin-hadoop3.2.tgz\n",
        "!tar xf spark-3.1.1-bin-hadoop3.2.tgz\n",
        "!pip install -q findspark\n",
        "\n",
        "import os\n",
        "os.environ[\"JAVA_HOME\"] = \"/usr/lib/jvm/java-8-openjdk-amd64\"\n",
        "os.environ[\"SPARK_HOME\"] = \"/content/spark-3.1.1-bin-hadoop3.2\"\n",
        "\n",
        "import findspark\n",
        "findspark.init()\n",
        "from pyspark.sql import SparkSession\n",
        "spark = SparkSession.builder.master(\"local[*]\").getOrCreate()\n",
        "spark.conf.set(\"spark.sql.repl.eagerEval.enabled\", True) # Property used to format output tables better\n",
        "\n",
        "sc = spark.sparkContext\n",
        "###############################################"
      ],
      "metadata": {
        "id": "FPDSHZ_ydWnr"
      },
      "execution_count": 4,
      "outputs": []
    },
    {
      "cell_type": "code",
      "source": [
        "############## BASKET CREATION ################\n",
        "#TODO do it using SPARK directly -> cars = spark.read.csv('cars.csv', header=True, sep=\";\")\n",
        "actors = pd.read_csv(\"letterbox/actors.csv\")\n",
        "actors = actors\n",
        "baskets = actors.groupby(\"id\")[\"name\"].apply(list)\n",
        "#baskets = baskets.sample(10000)\n",
        "\n",
        "print(\"number of baskets: \" + str(len(baskets)))\n",
        "print(\"biggest basket: \" + str(baskets.map(len).max()))\n",
        "print(baskets)\n",
        "baskets_RDD = sc.parallelize(baskets).cache()\n",
        "##############################################"
      ],
      "metadata": {
        "id": "7S860HiwhKp1",
        "colab": {
          "base_uri": "https://localhost:8080/"
        },
        "outputId": "833c5348-05f1-43a2-d4e2-47a0d68f4f8f"
      },
      "execution_count": 50,
      "outputs": [
        {
          "output_type": "stream",
          "name": "stdout",
          "text": [
            "number of baskets: 603163\n",
            "biggest basket: 451\n",
            "id\n",
            "1000001    [Margot Robbie, Lewis Easter, Onyemachi Ejimof...\n",
            "1000002    [Rosie Peralta, Anna Elisabeth Rihlmann, Andre...\n",
            "1000003    [Randall Archer, Boon Pin Koh, Efka Kvaracieju...\n",
            "1000004    [Leonard Termo, Greg Bronson, Michael Arturo, ...\n",
            "1000005    [Lena Georgas, Jeff Hephner, Elyes Gabel, Broo...\n",
            "                                 ...                        \n",
            "1896377    [Marat Basharov, Sergey Rost, Gleb Kalyuzhny, ...\n",
            "1896382                                   [Marine Petrosyan]\n",
            "1896387                                        [Rebecca Jim]\n",
            "1896391                                       [Ko Shibasaki]\n",
            "1896393                                    [Atsuhiro Inukai]\n",
            "Name: name, Length: 603163, dtype: object\n"
          ]
        }
      ]
    },
    {
      "cell_type": "code",
      "source": [
        "test_basket = [\n",
        "    ['a','b','c','d','e','f','g','h','i','l'],\n",
        "    ['a','b','c','d','e','f',],\n",
        "    ['a','b','c','d','e','f','q','p','o','n'],\n",
        "    ['a','b','c','d','e','f','r','s','t','u'],\n",
        "    ['a','b','c'],\n",
        "    ['f','q'],\n",
        "    ['f','q','z'],\n",
        "    ['f','u','q'],\n",
        "    ['n','o'],\n",
        "    ['o','n'],\n",
        "    ['n','o','i']\n",
        "]\n",
        "test_RDD = sc.parallelize(test_basket).cache()"
      ],
      "metadata": {
        "id": "YnHnwobrBe0d"
      },
      "execution_count": 54,
      "outputs": []
    },
    {
      "cell_type": "code",
      "source": [
        "## APRIORI\n",
        "def apriori(chunk, s, tot_bsk):\n",
        "\n",
        "  n_bsk = 0 # number of baskets in chunk used to calculate support\n",
        "#  trsl = dict() # using a translation could be better for the combination step\n",
        "  count = dict() # should be relatively efficient since is a hash table\n",
        "\n",
        "#\n",
        "#  def translate(e, dic):\n",
        "#    try:\n",
        "#      return dic[e]\n",
        "#    except KeyError:\n",
        "#      dic[e] = len(dic)+1\n",
        "#      return dic[e]\n",
        "  def incr(e,dic):\n",
        "    try:\n",
        "      dic[e] += 1;\n",
        "    except KeyError:\n",
        "      dic[e] = 1\n",
        "\n",
        "  chunk = list(chunk) # to avoid consuming after first pass\n",
        "  ### first pass\n",
        "  for bsk in chunk:\n",
        "    n_bsk += 1;\n",
        "    #elements = [translate(x,trsl) for x in bsk]\n",
        "    for b in bsk:\n",
        "      incr(b,count)\n",
        "\n",
        "  ### filter\n",
        "  to_del = []\n",
        "  frequent = []\n",
        "  for c in count:\n",
        "    if count[c] < (n_bsk * s)/tot_bsk:\n",
        "      to_del.append(c)\n",
        "    else:\n",
        "      frequent.append(c)\n",
        "      #yield (c,1)\n",
        "  for t in to_del:\n",
        "    del count[t]\n",
        "\n",
        "  \"\"\"\n",
        "\n",
        "  #frequent = list(count.keys())\n",
        "  #yield (len(frequent),1)\n",
        "\n",
        "  frequent.sort()\n",
        "  cmb = list(itertools.combinations(frequent,2)) #It's probably more efficient to\n",
        "  #yield (len(cmb),1)\n",
        "\n",
        "  count_2 = dict()\n",
        "  ### second pass\n",
        "  for bsk in chunk:\n",
        "    for pair in cmb: #this already solve the ordering problem if the list is ordered\n",
        "      if pair[0] in bsk and pair[1] in bsk:\n",
        "        incr(tuple(pair), count_2)\n",
        "\n",
        "  to_del = []\n",
        "  frequent = []\n",
        "  for c in count_2:\n",
        "    if count_2[c] < (s * n_bsk)/tot_bsk:\n",
        "      to_del.append(c)\n",
        "    else:\n",
        "      frequent.append(c)\n",
        "      yield(c,1)\n",
        "  for t in to_del:\n",
        "    del count_2[t]\n",
        "  \"\"\"\n",
        "  k = 2\n",
        "  while True:#len(frequent) > 0:\n",
        "    #print(frequent)\n",
        "    if len(frequent) == 0:\n",
        "      break\n",
        "    frequent.sort()\n",
        "    #cmb = list(itertools.combinations(frequent, 3))\n",
        "    count = dict()\n",
        "\n",
        "    for bsk in tqdm(chunk):\n",
        "      #print('basket')\n",
        "      #bsk = [x for x in bsk if x in frequent] #filter only members of Ck\n",
        "      filtered = set()\n",
        "      for b in bsk:\n",
        "        for f in frequent:\n",
        "          if b in f:\n",
        "            filtered.add(b)\n",
        "            break;\n",
        "      bsk = list(filtered)\n",
        "      #print('bsk:'+str(bsk))\n",
        "      bsk.sort()\n",
        "      for tpl in itertools.combinations(bsk, k):\n",
        "          incr(tuple(tpl), count)\n",
        "\n",
        "    frequent = []\n",
        "    for c in count:\n",
        "      if count[c] > (s * n_bsk)/tot_bsk:\n",
        "        frequent.append(c)\n",
        "        yield(c,count[c])\n",
        "    #print(len(frequent))\n",
        "    k+=1\n",
        "\n",
        "\n",
        "\n",
        "\n"
      ],
      "metadata": {
        "id": "RieQuIkAo7c_"
      },
      "execution_count": 91,
      "outputs": []
    },
    {
      "cell_type": "code",
      "source": [
        "for a in apriori(test_basket,3,len(test_basket)):\n",
        "  print(a)"
      ],
      "metadata": {
        "id": "eUg8ywWFD-IO",
        "outputId": "b236c86d-0528-4e60-81da-8e3ecda7c3cb",
        "colab": {
          "base_uri": "https://localhost:8080/"
        }
      },
      "execution_count": 99,
      "outputs": [
        {
          "output_type": "stream",
          "name": "stderr",
          "text": [
            "\n",
            "100%|██████████| 11/11 [00:00<00:00, 40721.40it/s]\n"
          ]
        },
        {
          "output_type": "stream",
          "name": "stdout",
          "text": [
            "(('a', 'b'), 5)\n",
            "(('a', 'c'), 5)\n",
            "(('a', 'd'), 4)\n",
            "(('a', 'e'), 4)\n",
            "(('a', 'f'), 4)\n",
            "(('b', 'c'), 5)\n",
            "(('b', 'd'), 4)\n",
            "(('b', 'e'), 4)\n",
            "(('b', 'f'), 4)\n",
            "(('c', 'd'), 4)\n",
            "(('c', 'e'), 4)\n",
            "(('c', 'f'), 4)\n",
            "(('d', 'e'), 4)\n",
            "(('d', 'f'), 4)\n",
            "(('e', 'f'), 4)\n",
            "(('f', 'q'), 4)\n",
            "(('n', 'o'), 4)\n"
          ]
        },
        {
          "output_type": "stream",
          "name": "stderr",
          "text": [
            "\n",
            "100%|██████████| 11/11 [00:00<00:00, 27139.61it/s]\n"
          ]
        },
        {
          "output_type": "stream",
          "name": "stdout",
          "text": [
            "(('a', 'b', 'c'), 5)\n",
            "(('a', 'b', 'd'), 4)\n",
            "(('a', 'b', 'e'), 4)\n",
            "(('a', 'b', 'f'), 4)\n",
            "(('a', 'c', 'd'), 4)\n",
            "(('a', 'c', 'e'), 4)\n",
            "(('a', 'c', 'f'), 4)\n",
            "(('a', 'd', 'e'), 4)\n",
            "(('a', 'd', 'f'), 4)\n",
            "(('a', 'e', 'f'), 4)\n",
            "(('b', 'c', 'd'), 4)\n",
            "(('b', 'c', 'e'), 4)\n",
            "(('b', 'c', 'f'), 4)\n",
            "(('b', 'd', 'e'), 4)\n",
            "(('b', 'd', 'f'), 4)\n",
            "(('b', 'e', 'f'), 4)\n",
            "(('c', 'd', 'e'), 4)\n",
            "(('c', 'd', 'f'), 4)\n",
            "(('c', 'e', 'f'), 4)\n",
            "(('d', 'e', 'f'), 4)\n"
          ]
        },
        {
          "output_type": "stream",
          "name": "stderr",
          "text": [
            "\n",
            "100%|██████████| 11/11 [00:00<00:00, 37755.60it/s]\n"
          ]
        },
        {
          "output_type": "stream",
          "name": "stdout",
          "text": [
            "(('a', 'b', 'c', 'd'), 4)\n",
            "(('a', 'b', 'c', 'e'), 4)\n",
            "(('a', 'b', 'c', 'f'), 4)\n",
            "(('a', 'b', 'd', 'e'), 4)\n",
            "(('a', 'b', 'd', 'f'), 4)\n",
            "(('a', 'b', 'e', 'f'), 4)\n",
            "(('a', 'c', 'd', 'e'), 4)\n",
            "(('a', 'c', 'd', 'f'), 4)\n",
            "(('a', 'c', 'e', 'f'), 4)\n",
            "(('a', 'd', 'e', 'f'), 4)\n",
            "(('b', 'c', 'd', 'e'), 4)\n",
            "(('b', 'c', 'd', 'f'), 4)\n",
            "(('b', 'c', 'e', 'f'), 4)\n",
            "(('b', 'd', 'e', 'f'), 4)\n",
            "(('c', 'd', 'e', 'f'), 4)\n"
          ]
        },
        {
          "output_type": "stream",
          "name": "stderr",
          "text": [
            "\n",
            "100%|██████████| 11/11 [00:00<00:00, 43199.76it/s]\n"
          ]
        },
        {
          "output_type": "stream",
          "name": "stdout",
          "text": [
            "(('a', 'b', 'c', 'd', 'e'), 4)\n",
            "(('a', 'b', 'c', 'd', 'f'), 4)\n",
            "(('a', 'b', 'c', 'e', 'f'), 4)\n",
            "(('a', 'b', 'd', 'e', 'f'), 4)\n",
            "(('a', 'c', 'd', 'e', 'f'), 4)\n",
            "(('b', 'c', 'd', 'e', 'f'), 4)\n"
          ]
        },
        {
          "output_type": "stream",
          "name": "stderr",
          "text": [
            "\n",
            "100%|██████████| 11/11 [00:00<00:00, 575.51it/s]\n"
          ]
        },
        {
          "output_type": "stream",
          "name": "stdout",
          "text": [
            "(('a', 'b', 'c', 'd', 'e', 'f'), 4)\n"
          ]
        },
        {
          "output_type": "stream",
          "name": "stderr",
          "text": [
            "\n",
            "100%|██████████| 11/11 [00:00<00:00, 58848.65it/s]\n"
          ]
        }
      ]
    },
    {
      "cell_type": "code",
      "source": [
        "\n",
        "def first_red(key,value):\n",
        "  yield key\n",
        "def second_map(candidate, chunk):\n",
        "  yield (1,1)\n",
        "def second_red(key,value):\n",
        "  yield key\n",
        "\n",
        "chunk = 1; #TMP to remove\n",
        "s =  4; #support threshold (maybe a fraction is better)\n",
        "tot = len(baskets)\n",
        "\n",
        "#baskets_RDD\n",
        "test_RDD.mapPartitions(lambda x: apriori(x,s,tot)).reduceByKey(lambda a,b: a).collect()\n"
      ],
      "metadata": {
        "colab": {
          "base_uri": "https://localhost:8080/",
          "height": 322
        },
        "id": "NMhukWkCZLND",
        "outputId": "ea9070f9-ac8c-426c-e75a-96110141a908"
      },
      "execution_count": 58,
      "outputs": [
        {
          "output_type": "error",
          "ename": "KeyboardInterrupt",
          "evalue": "",
          "traceback": [
            "\u001b[0;31m---------------------------------------------------------------------------\u001b[0m",
            "\u001b[0;31mKeyboardInterrupt\u001b[0m                         Traceback (most recent call last)",
            "\u001b[0;32m<ipython-input-58-12465c3f463e>\u001b[0m in \u001b[0;36m<cell line: 13>\u001b[0;34m()\u001b[0m\n\u001b[1;32m     11\u001b[0m \u001b[0;34m\u001b[0m\u001b[0m\n\u001b[1;32m     12\u001b[0m \u001b[0;31m#baskets_RDD\u001b[0m\u001b[0;34m\u001b[0m\u001b[0;34m\u001b[0m\u001b[0m\n\u001b[0;32m---> 13\u001b[0;31m \u001b[0mtest_RDD\u001b[0m\u001b[0;34m.\u001b[0m\u001b[0mmapPartitions\u001b[0m\u001b[0;34m(\u001b[0m\u001b[0;32mlambda\u001b[0m \u001b[0mx\u001b[0m\u001b[0;34m:\u001b[0m \u001b[0mapriori\u001b[0m\u001b[0;34m(\u001b[0m\u001b[0mx\u001b[0m\u001b[0;34m,\u001b[0m\u001b[0ms\u001b[0m\u001b[0;34m,\u001b[0m\u001b[0mtot\u001b[0m\u001b[0;34m)\u001b[0m\u001b[0;34m)\u001b[0m\u001b[0;34m.\u001b[0m\u001b[0mreduceByKey\u001b[0m\u001b[0;34m(\u001b[0m\u001b[0;32mlambda\u001b[0m \u001b[0ma\u001b[0m\u001b[0;34m,\u001b[0m\u001b[0mb\u001b[0m\u001b[0;34m:\u001b[0m \u001b[0ma\u001b[0m\u001b[0;34m)\u001b[0m\u001b[0;34m.\u001b[0m\u001b[0mcollect\u001b[0m\u001b[0;34m(\u001b[0m\u001b[0;34m)\u001b[0m\u001b[0;34m\u001b[0m\u001b[0;34m\u001b[0m\u001b[0m\n\u001b[0m",
            "\u001b[0;32m/content/spark-3.1.1-bin-hadoop3.2/python/pyspark/rdd.py\u001b[0m in \u001b[0;36mcollect\u001b[0;34m(self)\u001b[0m\n\u001b[1;32m    947\u001b[0m         \"\"\"\n\u001b[1;32m    948\u001b[0m         \u001b[0;32mwith\u001b[0m \u001b[0mSCCallSiteSync\u001b[0m\u001b[0;34m(\u001b[0m\u001b[0mself\u001b[0m\u001b[0;34m.\u001b[0m\u001b[0mcontext\u001b[0m\u001b[0;34m)\u001b[0m \u001b[0;32mas\u001b[0m \u001b[0mcss\u001b[0m\u001b[0;34m:\u001b[0m\u001b[0;34m\u001b[0m\u001b[0;34m\u001b[0m\u001b[0m\n\u001b[0;32m--> 949\u001b[0;31m             \u001b[0msock_info\u001b[0m \u001b[0;34m=\u001b[0m \u001b[0mself\u001b[0m\u001b[0;34m.\u001b[0m\u001b[0mctx\u001b[0m\u001b[0;34m.\u001b[0m\u001b[0m_jvm\u001b[0m\u001b[0;34m.\u001b[0m\u001b[0mPythonRDD\u001b[0m\u001b[0;34m.\u001b[0m\u001b[0mcollectAndServe\u001b[0m\u001b[0;34m(\u001b[0m\u001b[0mself\u001b[0m\u001b[0;34m.\u001b[0m\u001b[0m_jrdd\u001b[0m\u001b[0;34m.\u001b[0m\u001b[0mrdd\u001b[0m\u001b[0;34m(\u001b[0m\u001b[0;34m)\u001b[0m\u001b[0;34m)\u001b[0m\u001b[0;34m\u001b[0m\u001b[0;34m\u001b[0m\u001b[0m\n\u001b[0m\u001b[1;32m    950\u001b[0m         \u001b[0;32mreturn\u001b[0m \u001b[0mlist\u001b[0m\u001b[0;34m(\u001b[0m\u001b[0m_load_from_socket\u001b[0m\u001b[0;34m(\u001b[0m\u001b[0msock_info\u001b[0m\u001b[0;34m,\u001b[0m \u001b[0mself\u001b[0m\u001b[0;34m.\u001b[0m\u001b[0m_jrdd_deserializer\u001b[0m\u001b[0;34m)\u001b[0m\u001b[0;34m)\u001b[0m\u001b[0;34m\u001b[0m\u001b[0;34m\u001b[0m\u001b[0m\n\u001b[1;32m    951\u001b[0m \u001b[0;34m\u001b[0m\u001b[0m\n",
            "\u001b[0;32m/content/spark-3.1.1-bin-hadoop3.2/python/lib/py4j-0.10.9-src.zip/py4j/java_gateway.py\u001b[0m in \u001b[0;36m__call__\u001b[0;34m(self, *args)\u001b[0m\n\u001b[1;32m   1301\u001b[0m             \u001b[0mproto\u001b[0m\u001b[0;34m.\u001b[0m\u001b[0mEND_COMMAND_PART\u001b[0m\u001b[0;34m\u001b[0m\u001b[0;34m\u001b[0m\u001b[0m\n\u001b[1;32m   1302\u001b[0m \u001b[0;34m\u001b[0m\u001b[0m\n\u001b[0;32m-> 1303\u001b[0;31m         \u001b[0manswer\u001b[0m \u001b[0;34m=\u001b[0m \u001b[0mself\u001b[0m\u001b[0;34m.\u001b[0m\u001b[0mgateway_client\u001b[0m\u001b[0;34m.\u001b[0m\u001b[0msend_command\u001b[0m\u001b[0;34m(\u001b[0m\u001b[0mcommand\u001b[0m\u001b[0;34m)\u001b[0m\u001b[0;34m\u001b[0m\u001b[0;34m\u001b[0m\u001b[0m\n\u001b[0m\u001b[1;32m   1304\u001b[0m         return_value = get_return_value(\n\u001b[1;32m   1305\u001b[0m             answer, self.gateway_client, self.target_id, self.name)\n",
            "\u001b[0;32m/content/spark-3.1.1-bin-hadoop3.2/python/lib/py4j-0.10.9-src.zip/py4j/java_gateway.py\u001b[0m in \u001b[0;36msend_command\u001b[0;34m(self, command, retry, binary)\u001b[0m\n\u001b[1;32m   1031\u001b[0m         \u001b[0mconnection\u001b[0m \u001b[0;34m=\u001b[0m \u001b[0mself\u001b[0m\u001b[0;34m.\u001b[0m\u001b[0m_get_connection\u001b[0m\u001b[0;34m(\u001b[0m\u001b[0;34m)\u001b[0m\u001b[0;34m\u001b[0m\u001b[0;34m\u001b[0m\u001b[0m\n\u001b[1;32m   1032\u001b[0m         \u001b[0;32mtry\u001b[0m\u001b[0;34m:\u001b[0m\u001b[0;34m\u001b[0m\u001b[0;34m\u001b[0m\u001b[0m\n\u001b[0;32m-> 1033\u001b[0;31m             \u001b[0mresponse\u001b[0m \u001b[0;34m=\u001b[0m \u001b[0mconnection\u001b[0m\u001b[0;34m.\u001b[0m\u001b[0msend_command\u001b[0m\u001b[0;34m(\u001b[0m\u001b[0mcommand\u001b[0m\u001b[0;34m)\u001b[0m\u001b[0;34m\u001b[0m\u001b[0;34m\u001b[0m\u001b[0m\n\u001b[0m\u001b[1;32m   1034\u001b[0m             \u001b[0;32mif\u001b[0m \u001b[0mbinary\u001b[0m\u001b[0;34m:\u001b[0m\u001b[0;34m\u001b[0m\u001b[0;34m\u001b[0m\u001b[0m\n\u001b[1;32m   1035\u001b[0m                 \u001b[0;32mreturn\u001b[0m \u001b[0mresponse\u001b[0m\u001b[0;34m,\u001b[0m \u001b[0mself\u001b[0m\u001b[0;34m.\u001b[0m\u001b[0m_create_connection_guard\u001b[0m\u001b[0;34m(\u001b[0m\u001b[0mconnection\u001b[0m\u001b[0;34m)\u001b[0m\u001b[0;34m\u001b[0m\u001b[0;34m\u001b[0m\u001b[0m\n",
            "\u001b[0;32m/content/spark-3.1.1-bin-hadoop3.2/python/lib/py4j-0.10.9-src.zip/py4j/java_gateway.py\u001b[0m in \u001b[0;36msend_command\u001b[0;34m(self, command)\u001b[0m\n\u001b[1;32m   1198\u001b[0m \u001b[0;34m\u001b[0m\u001b[0m\n\u001b[1;32m   1199\u001b[0m         \u001b[0;32mtry\u001b[0m\u001b[0;34m:\u001b[0m\u001b[0;34m\u001b[0m\u001b[0;34m\u001b[0m\u001b[0m\n\u001b[0;32m-> 1200\u001b[0;31m             \u001b[0manswer\u001b[0m \u001b[0;34m=\u001b[0m \u001b[0msmart_decode\u001b[0m\u001b[0;34m(\u001b[0m\u001b[0mself\u001b[0m\u001b[0;34m.\u001b[0m\u001b[0mstream\u001b[0m\u001b[0;34m.\u001b[0m\u001b[0mreadline\u001b[0m\u001b[0;34m(\u001b[0m\u001b[0;34m)\u001b[0m\u001b[0;34m[\u001b[0m\u001b[0;34m:\u001b[0m\u001b[0;34m-\u001b[0m\u001b[0;36m1\u001b[0m\u001b[0;34m]\u001b[0m\u001b[0;34m)\u001b[0m\u001b[0;34m\u001b[0m\u001b[0;34m\u001b[0m\u001b[0m\n\u001b[0m\u001b[1;32m   1201\u001b[0m             \u001b[0mlogger\u001b[0m\u001b[0;34m.\u001b[0m\u001b[0mdebug\u001b[0m\u001b[0;34m(\u001b[0m\u001b[0;34m\"Answer received: {0}\"\u001b[0m\u001b[0;34m.\u001b[0m\u001b[0mformat\u001b[0m\u001b[0;34m(\u001b[0m\u001b[0manswer\u001b[0m\u001b[0;34m)\u001b[0m\u001b[0;34m)\u001b[0m\u001b[0;34m\u001b[0m\u001b[0;34m\u001b[0m\u001b[0m\n\u001b[1;32m   1202\u001b[0m             \u001b[0;32mif\u001b[0m \u001b[0manswer\u001b[0m\u001b[0;34m.\u001b[0m\u001b[0mstartswith\u001b[0m\u001b[0;34m(\u001b[0m\u001b[0mproto\u001b[0m\u001b[0;34m.\u001b[0m\u001b[0mRETURN_MESSAGE\u001b[0m\u001b[0;34m)\u001b[0m\u001b[0;34m:\u001b[0m\u001b[0;34m\u001b[0m\u001b[0;34m\u001b[0m\u001b[0m\n",
            "\u001b[0;32m/usr/lib/python3.10/socket.py\u001b[0m in \u001b[0;36mreadinto\u001b[0;34m(self, b)\u001b[0m\n\u001b[1;32m    703\u001b[0m         \u001b[0;32mwhile\u001b[0m \u001b[0;32mTrue\u001b[0m\u001b[0;34m:\u001b[0m\u001b[0;34m\u001b[0m\u001b[0;34m\u001b[0m\u001b[0m\n\u001b[1;32m    704\u001b[0m             \u001b[0;32mtry\u001b[0m\u001b[0;34m:\u001b[0m\u001b[0;34m\u001b[0m\u001b[0;34m\u001b[0m\u001b[0m\n\u001b[0;32m--> 705\u001b[0;31m                 \u001b[0;32mreturn\u001b[0m \u001b[0mself\u001b[0m\u001b[0;34m.\u001b[0m\u001b[0m_sock\u001b[0m\u001b[0;34m.\u001b[0m\u001b[0mrecv_into\u001b[0m\u001b[0;34m(\u001b[0m\u001b[0mb\u001b[0m\u001b[0;34m)\u001b[0m\u001b[0;34m\u001b[0m\u001b[0;34m\u001b[0m\u001b[0m\n\u001b[0m\u001b[1;32m    706\u001b[0m             \u001b[0;32mexcept\u001b[0m \u001b[0mtimeout\u001b[0m\u001b[0;34m:\u001b[0m\u001b[0;34m\u001b[0m\u001b[0;34m\u001b[0m\u001b[0m\n\u001b[1;32m    707\u001b[0m                 \u001b[0mself\u001b[0m\u001b[0;34m.\u001b[0m\u001b[0m_timeout_occurred\u001b[0m \u001b[0;34m=\u001b[0m \u001b[0;32mTrue\u001b[0m\u001b[0;34m\u001b[0m\u001b[0;34m\u001b[0m\u001b[0m\n",
            "\u001b[0;31mKeyboardInterrupt\u001b[0m: "
          ]
        }
      ]
    },
    {
      "cell_type": "code",
      "source": [
        "print(min(actors[\"id\"]))\n",
        "print(max(actors[\"id\"]))\n",
        "print(len(actors))\n",
        "len(set(actors[\"name\"]))"
      ],
      "metadata": {
        "id": "VSa3ABzYCu9G"
      },
      "execution_count": null,
      "outputs": []
    },
    {
      "cell_type": "code",
      "source": [
        "print(list(test_basket))"
      ],
      "metadata": {
        "id": "uv7xhaMHOIt7",
        "outputId": "039520ab-94af-4413-8a4b-33e4498eaa68",
        "colab": {
          "base_uri": "https://localhost:8080/"
        }
      },
      "execution_count": 59,
      "outputs": [
        {
          "output_type": "stream",
          "name": "stdout",
          "text": [
            "[['a', 'b', 'c', 'd', 'e', 'f', 'g', 'h', 'i', 'l'], ['a', 'b', 'c', 'd', 'e', 'f'], ['a', 'b', 'c', 'd', 'e', 'f', 'q', 'p', 'o', 'n'], ['a', 'b', 'c', 'd', 'e', 'f', 'r', 's', 't', 'u'], ['a', 'b', 'c'], ['f', 'q'], ['f', 'q', 'z'], ['f', 'u', 'q'], ['n', 'o'], ['o', 'n'], ['n', 'o', 'i']]\n"
          ]
        }
      ]
    },
    {
      "cell_type": "code",
      "source": [
        "len(actors[actors['name'] == 'Bess Flowers'])"
      ],
      "metadata": {
        "id": "Z_R9sEJ8YM1B"
      },
      "execution_count": null,
      "outputs": []
    },
    {
      "cell_type": "code",
      "source": [
        "#x = [1,2,3,4,5,6,9]\n",
        "x = [\"abaco\",\"banana\", \"zorro\",\"abba\",\"abecedario\"]\n",
        "for i in itertools.combinations(x,2):\n",
        "  print(i)"
      ],
      "metadata": {
        "id": "BdnwpcS5agyH"
      },
      "execution_count": null,
      "outputs": []
    },
    {
      "cell_type": "code",
      "source": [
        "from tqdm import tqdm\n",
        "import time\n",
        "\n",
        "for _ in tqdm(range(1,100)):\n",
        "  time.sleep(2)"
      ],
      "metadata": {
        "id": "YyD4X94nbyBi",
        "outputId": "2be5c508-5428-4855-b936-018c027c1e38",
        "colab": {
          "base_uri": "https://localhost:8080/"
        }
      },
      "execution_count": 2,
      "outputs": [
        {
          "output_type": "stream",
          "name": "stderr",
          "text": [
            "100%|██████████| 99/99 [03:18<00:00,  2.00s/it]\n"
          ]
        }
      ]
    },
    {
      "cell_type": "code",
      "source": [
        "[x for x in baskets if 'Mammootty' in x and 'Thilakan' in x] #(('Mammootty', 'Thilakan'), 1),"
      ],
      "metadata": {
        "id": "g6QlCmp0ficQ",
        "outputId": "66e2e282-ca0c-4146-bd3b-425f20161990",
        "colab": {
          "base_uri": "https://localhost:8080/"
        }
      },
      "execution_count": 49,
      "outputs": [
        {
          "output_type": "execute_result",
          "data": {
            "text/plain": [
              "[['Ashokan', 'Thilakan', 'T G Ravi', 'Saritha', 'Mammootty', 'Nedumudi Venu'],\n",
              " ['Jagathy Sreekumar',\n",
              "  'Kothuku Nanappan',\n",
              "  'K. James',\n",
              "  'Dominic Alummoodan',\n",
              "  'Achankunju',\n",
              "  'Manavalan Joseph',\n",
              "  'Thilakan',\n",
              "  'Ramachandran V',\n",
              "  'V K Sreeraman',\n",
              "  'Gopi',\n",
              "  'Jayabharathi',\n",
              "  'Mammootty'],\n",
              " ['Prem Prakash',\n",
              "  'Sukumari',\n",
              "  'Innocent',\n",
              "  'Thilakan',\n",
              "  'Kunchan',\n",
              "  'Ratheesh',\n",
              "  'Shobana',\n",
              "  'Seema',\n",
              "  'Mammootty',\n",
              "  'Janardhanan'],\n",
              " ['Lissy',\n",
              "  'Adoor Bhavani',\n",
              "  'Raveendran',\n",
              "  'Jose',\n",
              "  'Jagathy Sreekumar',\n",
              "  'Meena',\n",
              "  'Sankaradi',\n",
              "  'Kunchan',\n",
              "  'Sukumari',\n",
              "  'Thilakan',\n",
              "  'Shobana',\n",
              "  'Rahman',\n",
              "  'Archana',\n",
              "  'Mammootty',\n",
              "  'Lalu Alex'],\n",
              " ['Mammootty',\n",
              "  'Jayasudha',\n",
              "  'Thilakan',\n",
              "  'Narendra Prasad',\n",
              "  'Rekha',\n",
              "  'Mala Aravindan',\n",
              "  'Geetha Vijayan',\n",
              "  'Ashokan',\n",
              "  'Shubha',\n",
              "  'V K Sreeraman']]"
            ]
          },
          "metadata": {},
          "execution_count": 49
        }
      ]
    },
    {
      "cell_type": "code",
      "source": [],
      "metadata": {
        "id": "XFibA15uBEEN"
      },
      "execution_count": null,
      "outputs": []
    }
  ]
}